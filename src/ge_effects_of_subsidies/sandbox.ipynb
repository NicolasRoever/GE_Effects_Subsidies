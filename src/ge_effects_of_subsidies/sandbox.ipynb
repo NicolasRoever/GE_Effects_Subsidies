{
 "cells": [
  {
   "cell_type": "code",
   "execution_count": 72,
   "metadata": {},
   "outputs": [],
   "source": [
    "import os\n",
    "\n",
    "from config import SRC, FARM_SUBSIDY_DATA_PATH\n",
    "import pandas as pd\n",
    "from pathlib import Path\n",
    "\n",
    "from data_management.clean_data import _generate_zipcode_column, _extract_zipcode\n",
    "\n",
    "import pgeocode\n",
    "\n",
    "import numpy as np\n"
   ]
  },
  {
   "cell_type": "code",
   "execution_count": null,
   "metadata": {},
   "outputs": [],
   "source": [
    "def _extract_zipcode(address):\n",
    "    return address.str.extract('(\\d+)', expand=False)"
   ]
  },
  {
   "cell_type": "code",
   "execution_count": 5,
   "metadata": {},
   "outputs": [],
   "source": [
    "data_csv = pd.read_csv(\"/Users/nicolasroever/Documents/Promotion/EconomicSubsidies/ge_effects_of_subsidies/bld/python/data/data_farm_subsidy_clean.csv\")"
   ]
  },
  {
   "cell_type": "code",
   "execution_count": 39,
   "metadata": {},
   "outputs": [
    {
     "data": {
      "text/plain": [
       "Index(['pk', 'country', 'year', 'recipient_id', 'recipient_name',\n",
       "       'recipient_fingerprint', 'recipient_address', 'recipient_country',\n",
       "       'recipient_url', 'scheme_id', 'scheme', 'scheme_code',\n",
       "       'scheme_description', 'amount', 'currency', 'amount_original',\n",
       "       'currency_original', 'nuts', 'nuts1', 'nuts2', 'nuts3'],\n",
       "      dtype='object')"
      ]
     },
     "execution_count": 39,
     "metadata": {},
     "output_type": "execute_result"
    }
   ],
   "source": [
    "data_csv.columns"
   ]
  },
  {
   "cell_type": "code",
   "execution_count": 40,
   "metadata": {},
   "outputs": [],
   "source": [
    "data =pd.read_pickle(\"/Users/nicolasroever/Documents/Promotion/EconomicSubsidies/ge_effects_of_subsidies/bld/python/data/data_farm_subsidy_clean_2.pkl\")"
   ]
  },
  {
   "cell_type": "code",
   "execution_count": 44,
   "metadata": {},
   "outputs": [
    {
     "data": {
      "text/plain": [
       "Index(['country', 'year', 'recipient_id', 'recipient_name', 'scheme_id',\n",
       "       'amount_euro', 'nuts_3', 'zipcode'],\n",
       "      dtype='object')"
      ]
     },
     "execution_count": 44,
     "metadata": {},
     "output_type": "execute_result"
    }
   ],
   "source": [
    "data.columns"
   ]
  },
  {
   "cell_type": "code",
   "execution_count": 50,
   "metadata": {},
   "outputs": [
    {
     "data": {
      "text/html": [
       "<div>\n",
       "<style scoped>\n",
       "    .dataframe tbody tr th:only-of-type {\n",
       "        vertical-align: middle;\n",
       "    }\n",
       "\n",
       "    .dataframe tbody tr th {\n",
       "        vertical-align: top;\n",
       "    }\n",
       "\n",
       "    .dataframe thead th {\n",
       "        text-align: right;\n",
       "    }\n",
       "</style>\n",
       "<table border=\"1\" class=\"dataframe\">\n",
       "  <thead>\n",
       "    <tr style=\"text-align: right;\">\n",
       "      <th></th>\n",
       "      <th>country</th>\n",
       "      <th>year</th>\n",
       "      <th>recipient_id</th>\n",
       "      <th>recipient_name</th>\n",
       "      <th>scheme_id</th>\n",
       "      <th>amount_euro</th>\n",
       "      <th>nuts_3</th>\n",
       "      <th>zipcode</th>\n",
       "    </tr>\n",
       "  </thead>\n",
       "  <tbody>\n",
       "    <tr>\n",
       "      <th>548487</th>\n",
       "      <td>DE</td>\n",
       "      <td>2021</td>\n",
       "      <td>c6ce882953854d605280a1f723377d0cf425de8a</td>\n",
       "      <td>Struck-Sievers, Joachim</td>\n",
       "      <td>1368b704e8b571d5acbfa8cc750e568094817c14</td>\n",
       "      <td>2187.750000</td>\n",
       "      <td>DE405</td>\n",
       "      <td>NaN</td>\n",
       "    </tr>\n",
       "    <tr>\n",
       "      <th>548488</th>\n",
       "      <td>DE</td>\n",
       "      <td>2021</td>\n",
       "      <td>c6ce882953854d605280a1f723377d0cf425de8a</td>\n",
       "      <td>Struck-Sievers, Joachim</td>\n",
       "      <td>15feb366bcb83ec3d05c8aa3002c3e16b560f517</td>\n",
       "      <td>33.910000</td>\n",
       "      <td>DE405</td>\n",
       "      <td>NaN</td>\n",
       "    </tr>\n",
       "    <tr>\n",
       "      <th>548489</th>\n",
       "      <td>DE</td>\n",
       "      <td>2021</td>\n",
       "      <td>c6ce882953854d605280a1f723377d0cf425de8a</td>\n",
       "      <td>Struck-Sievers, Joachim</td>\n",
       "      <td>847eaf6beb8715abe74b7f33be777a827f482627</td>\n",
       "      <td>1454.140015</td>\n",
       "      <td>DE405</td>\n",
       "      <td>NaN</td>\n",
       "    </tr>\n",
       "    <tr>\n",
       "      <th>548490</th>\n",
       "      <td>DE</td>\n",
       "      <td>2021</td>\n",
       "      <td>c6ce882953854d605280a1f723377d0cf425de8a</td>\n",
       "      <td>Struck-Sievers, Joachim</td>\n",
       "      <td>dca6e3d8fb38cea45d837e693de4e1f14bd269d7</td>\n",
       "      <td>625.010010</td>\n",
       "      <td>DE405</td>\n",
       "      <td>NaN</td>\n",
       "    </tr>\n",
       "  </tbody>\n",
       "</table>\n",
       "</div>"
      ],
      "text/plain": [
       "       country  year                              recipient_id  \\\n",
       "548487      DE  2021  c6ce882953854d605280a1f723377d0cf425de8a   \n",
       "548488      DE  2021  c6ce882953854d605280a1f723377d0cf425de8a   \n",
       "548489      DE  2021  c6ce882953854d605280a1f723377d0cf425de8a   \n",
       "548490      DE  2021  c6ce882953854d605280a1f723377d0cf425de8a   \n",
       "\n",
       "                 recipient_name                                 scheme_id  \\\n",
       "548487  Struck-Sievers, Joachim  1368b704e8b571d5acbfa8cc750e568094817c14   \n",
       "548488  Struck-Sievers, Joachim  15feb366bcb83ec3d05c8aa3002c3e16b560f517   \n",
       "548489  Struck-Sievers, Joachim  847eaf6beb8715abe74b7f33be777a827f482627   \n",
       "548490  Struck-Sievers, Joachim  dca6e3d8fb38cea45d837e693de4e1f14bd269d7   \n",
       "\n",
       "        amount_euro nuts_3 zipcode  \n",
       "548487  2187.750000  DE405     NaN  \n",
       "548488    33.910000  DE405     NaN  \n",
       "548489  1454.140015  DE405     NaN  \n",
       "548490   625.010010  DE405     NaN  "
      ]
     },
     "execution_count": 50,
     "metadata": {},
     "output_type": "execute_result"
    }
   ],
   "source": [
    "data.loc[data[\"zipcode\"].isnull() == True, ]"
   ]
  },
  {
   "cell_type": "code",
   "execution_count": 41,
   "metadata": {},
   "outputs": [],
   "source": [
    "def _extract_longitude(zipcode):\n",
    "    geolocator = geocoders.Nominatim(user_agent=\"Economic-Subsidies\")\n",
    "    location = geolocator.geocode(zipcode)\n",
    "    return location.longitude\n"
   ]
  },
  {
   "cell_type": "code",
   "execution_count": 45,
   "metadata": {},
   "outputs": [
    {
     "ename": "AttributeError",
     "evalue": "'NoneType' object has no attribute 'longitude'",
     "output_type": "error",
     "traceback": [
      "\u001b[0;31m---------------------------------------------------------------------------\u001b[0m",
      "\u001b[0;31mAttributeError\u001b[0m                            Traceback (most recent call last)",
      "Cell \u001b[0;32mIn[45], line 1\u001b[0m\n\u001b[0;32m----> 1\u001b[0m \u001b[43m_extract_longitude\u001b[49m\u001b[43m(\u001b[49m\u001b[43mdata\u001b[49m\u001b[43m[\u001b[49m\u001b[38;5;124;43m\"\u001b[39;49m\u001b[38;5;124;43mzipcode\u001b[39;49m\u001b[38;5;124;43m\"\u001b[39;49m\u001b[43m]\u001b[49m\u001b[43m)\u001b[49m\n",
      "Cell \u001b[0;32mIn[41], line 4\u001b[0m, in \u001b[0;36m_extract_longitude\u001b[0;34m(zipcode)\u001b[0m\n\u001b[1;32m      2\u001b[0m geolocator \u001b[38;5;241m=\u001b[39m geocoders\u001b[38;5;241m.\u001b[39mNominatim(user_agent\u001b[38;5;241m=\u001b[39m\u001b[38;5;124m\"\u001b[39m\u001b[38;5;124mEconomic-Subsidies\u001b[39m\u001b[38;5;124m\"\u001b[39m)\n\u001b[1;32m      3\u001b[0m location \u001b[38;5;241m=\u001b[39m geolocator\u001b[38;5;241m.\u001b[39mgeocode(zipcode)\n\u001b[0;32m----> 4\u001b[0m \u001b[38;5;28;01mreturn\u001b[39;00m \u001b[43mlocation\u001b[49m\u001b[38;5;241;43m.\u001b[39;49m\u001b[43mlongitude\u001b[49m\n",
      "\u001b[0;31mAttributeError\u001b[0m: 'NoneType' object has no attribute 'longitude'"
     ]
    }
   ],
   "source": [
    "_extract_longitude(data[\"zipcode\"])"
   ]
  },
  {
   "cell_type": "code",
   "execution_count": 31,
   "metadata": {},
   "outputs": [
    {
     "name": "stdout",
     "output_type": "stream",
     "text": [
      "48.158845079473686\n"
     ]
    }
   ],
   "source": [
    "geolocator = geocoders.Nominatim(user_agent=\"Subsidy_Project\")\n",
    "location = geolocator.geocode(\"80801\")\n",
    "print(location.latitude)\n"
   ]
  },
  {
   "cell_type": "code",
   "execution_count": 30,
   "metadata": {},
   "outputs": [
    {
     "name": "stdout",
     "output_type": "stream",
     "text": [
      "None\n"
     ]
    }
   ],
   "source": [
    "print(search_results)"
   ]
  },
  {
   "cell_type": "code",
   "execution_count": null,
   "metadata": {},
   "outputs": [],
   "source": [
    "\n",
    "# Get the midpoint of the region\n",
    "midpoint = (search_results.geometry.centroid.x, search_results.geometry.centroid.y)\n",
    "\n",
    "print(midpoint)"
   ]
  },
  {
   "cell_type": "code",
   "execution_count": 2,
   "metadata": {},
   "outputs": [
    {
     "ename": "NameError",
     "evalue": "name 'data_csv' is not defined",
     "output_type": "error",
     "traceback": [
      "\u001b[0;31m---------------------------------------------------------------------------\u001b[0m",
      "\u001b[0;31mNameError\u001b[0m                                 Traceback (most recent call last)",
      "Cell \u001b[0;32mIn[2], line 1\u001b[0m\n\u001b[0;32m----> 1\u001b[0m \u001b[43mdata_csv\u001b[49m[data_csv[\u001b[38;5;124m'\u001b[39m\u001b[38;5;124mrecipient_name\u001b[39m\u001b[38;5;124m'\u001b[39m] \u001b[38;5;241m==\u001b[39m \u001b[38;5;124m'\u001b[39m\u001b[38;5;124mStruck-Sievers, Joachim\u001b[39m\u001b[38;5;124m'\u001b[39m]\n",
      "\u001b[0;31mNameError\u001b[0m: name 'data_csv' is not defined"
     ]
    }
   ],
   "source": [
    "data_csv[data_csv['recipient_name'] == 'Struck-Sievers, Joachim']"
   ]
  },
  {
   "cell_type": "code",
   "execution_count": null,
   "metadata": {},
   "outputs": [],
   "source": []
  },
  {
   "cell_type": "code",
   "execution_count": 60,
   "metadata": {},
   "outputs": [],
   "source": [
    "\n",
    "def _generate_zipcode_column(df):\n",
    "    zipcodes = _extract_zipcode(df['recipient_address'])\n",
    "    #There is a mistake in the coding of one guy\n",
    "    mistake_indedx = df[df['recipient_name'] == 'Struck-Sievers, Joachim'].index\n",
    "    zipcodes[mistake_indedx] = '16244'\n",
    "    return zipcodes\n",
    "   \n",
    "def _extract_zipcode(address):\n",
    "    return address.str.extract('(\\d+)', expand=False)"
   ]
  },
  {
   "cell_type": "code",
   "execution_count": 61,
   "metadata": {},
   "outputs": [],
   "source": [
    "# Create a DataFrame with sample data\n",
    "data = {'recipient_name': ['Schmidt, Hans', 'Meier, Max', 'Struck-Sievers, Joachim'], 'recipient_address': ['Dresden, DE-01067', 'Berlin, DE-10117', 'Dresden, DE#BEZUG']}\n",
    "df = pd.DataFrame(data)\n",
    "\n",
    "# Generate the zipcode column\n",
    "zipcodes = _generate_zipcode_column(df)"
   ]
  },
  {
   "cell_type": "code",
   "execution_count": 7,
   "metadata": {},
   "outputs": [],
   "source": [
    "def _extract_longitude(zipcode):\n",
    "    geolocator = geocoders.Nominatim(user_agent=\"Economic-Subsidies\")\n",
    "    location = geolocator.geocode(zipcode)\n",
    "    return location.longitude"
   ]
  },
  {
   "cell_type": "code",
   "execution_count": 9,
   "metadata": {},
   "outputs": [],
   "source": [
    "def _generate_zipcode_column(df):\n",
    "    zipcodes = _extract_zipcode(df['recipient_address'])\n",
    "    #There is a mistake in the coding of one guy\n",
    "    mistake_indedx = df[df['recipient_name'] == 'Struck-Sievers, Joachim'].index\n",
    "    zipcodes[mistake_indedx] = '16244'\n",
    "    return zipcodes\n",
    "   "
   ]
  },
  {
   "cell_type": "code",
   "execution_count": 14,
   "metadata": {},
   "outputs": [
    {
     "data": {
      "text/plain": [
       "0             Dresden, DE-01067\n",
       "1             Dresden, DE-01067\n",
       "2             Dresden, DE-01067\n",
       "3             Dresden, DE-01067\n",
       "4             Dresden, DE-01067\n",
       "                   ...         \n",
       "9286441    Bärnau, St, DE-95671\n",
       "9286442    Bärnau, St, DE-95671\n",
       "9286443    Bärnau, St, DE-95671\n",
       "9286444    Bärnau, St, DE-95671\n",
       "9286445    Bärnau, St, DE-95671\n",
       "Name: recipient_address, Length: 9286446, dtype: object"
      ]
     },
     "execution_count": 14,
     "metadata": {},
     "output_type": "execute_result"
    }
   ],
   "source": [
    "data_csv[\"recipient_address\"]"
   ]
  },
  {
   "cell_type": "code",
   "execution_count": 16,
   "metadata": {},
   "outputs": [],
   "source": [
    "zipcodes = _generate_zipcode_column(data_csv)\n"
   ]
  },
  {
   "cell_type": "code",
   "execution_count": 17,
   "metadata": {},
   "outputs": [
    {
     "ename": "AttributeError",
     "evalue": "'NoneType' object has no attribute 'longitude'",
     "output_type": "error",
     "traceback": [
      "\u001b[0;31m---------------------------------------------------------------------------\u001b[0m",
      "\u001b[0;31mAttributeError\u001b[0m                            Traceback (most recent call last)",
      "Cell \u001b[0;32mIn[17], line 1\u001b[0m\n\u001b[0;32m----> 1\u001b[0m \u001b[43m_extract_longitude\u001b[49m\u001b[43m(\u001b[49m\u001b[43mzipcodes\u001b[49m\u001b[43m)\u001b[49m\n",
      "Cell \u001b[0;32mIn[7], line 4\u001b[0m, in \u001b[0;36m_extract_longitude\u001b[0;34m(zipcode)\u001b[0m\n\u001b[1;32m      2\u001b[0m geolocator \u001b[38;5;241m=\u001b[39m geocoders\u001b[38;5;241m.\u001b[39mNominatim(user_agent\u001b[38;5;241m=\u001b[39m\u001b[38;5;124m\"\u001b[39m\u001b[38;5;124mEconomic-Subsidies\u001b[39m\u001b[38;5;124m\"\u001b[39m)\n\u001b[1;32m      3\u001b[0m location \u001b[38;5;241m=\u001b[39m geolocator\u001b[38;5;241m.\u001b[39mgeocode(zipcode)\n\u001b[0;32m----> 4\u001b[0m \u001b[38;5;28;01mreturn\u001b[39;00m \u001b[43mlocation\u001b[49m\u001b[38;5;241;43m.\u001b[39;49m\u001b[43mlongitude\u001b[49m\n",
      "\u001b[0;31mAttributeError\u001b[0m: 'NoneType' object has no attribute 'longitude'"
     ]
    }
   ],
   "source": [
    "_extract_longitude(zipcodes)"
   ]
  },
  {
   "cell_type": "code",
   "execution_count": 28,
   "metadata": {},
   "outputs": [
    {
     "data": {
      "text/plain": [
       "0          01067\n",
       "1          01067\n",
       "2          01067\n",
       "3          01067\n",
       "4          01067\n",
       "           ...  \n",
       "9286441    95671\n",
       "9286442    95671\n",
       "9286443    95671\n",
       "9286444    95671\n",
       "9286445    95671\n",
       "Name: recipient_address, Length: 9286446, dtype: object"
      ]
     },
     "execution_count": 28,
     "metadata": {},
     "output_type": "execute_result"
    }
   ],
   "source": [
    "zipcodes"
   ]
  },
  {
   "cell_type": "code",
   "execution_count": 73,
   "metadata": {},
   "outputs": [],
   "source": [
    "zipcodes_test = zipcodes[0:10]\n"
   ]
  },
  {
   "cell_type": "code",
   "execution_count": 76,
   "metadata": {},
   "outputs": [
    {
     "data": {
      "text/plain": [
       "array([0., 0.])"
      ]
     },
     "execution_count": 76,
     "metadata": {},
     "output_type": "execute_result"
    }
   ],
   "source": [
    "zipcodes_test"
   ]
  },
  {
   "cell_type": "code",
   "execution_count": 51,
   "metadata": {},
   "outputs": [
    {
     "ename": "AttributeError",
     "evalue": "'NoneType' object has no attribute 'longitude'",
     "output_type": "error",
     "traceback": [
      "\u001b[0;31m---------------------------------------------------------------------------\u001b[0m",
      "\u001b[0;31mAttributeError\u001b[0m                            Traceback (most recent call last)",
      "Cell \u001b[0;32mIn[51], line 5\u001b[0m\n\u001b[1;32m      3\u001b[0m \u001b[38;5;28;01mfor\u001b[39;00m i \u001b[38;5;129;01min\u001b[39;00m \u001b[38;5;28mrange\u001b[39m(\u001b[38;5;28mlen\u001b[39m(zipcodes_test)):\n\u001b[1;32m      4\u001b[0m     location \u001b[38;5;241m=\u001b[39m geolocator\u001b[38;5;241m.\u001b[39mgeocode(zipcodes_test[\u001b[38;5;241m1\u001b[39m])\n\u001b[0;32m----> 5\u001b[0m     zipcodes[i] \u001b[38;5;241m=\u001b[39m \u001b[43mlocation\u001b[49m\u001b[38;5;241;43m.\u001b[39;49m\u001b[43mlongitude\u001b[49m\n",
      "\u001b[0;31mAttributeError\u001b[0m: 'NoneType' object has no attribute 'longitude'"
     ]
    }
   ],
   "source": [
    "\n",
    "geolocator = geocoders.Nominatim(user_agent=\"Economic-Subsidies\")\n",
    "zipcodes = np.zeros(len(zipcodes_test))\n",
    "location = geolocator.geocode(zipcodes_test)\n",
    "zipcodes[i] = location.longitude\n",
    "\n"
   ]
  },
  {
   "cell_type": "code",
   "execution_count": 59,
   "metadata": {},
   "outputs": [
    {
     "data": {
      "text/plain": [
       "30.38197864178987"
      ]
     },
     "execution_count": 59,
     "metadata": {},
     "output_type": "execute_result"
    }
   ],
   "source": [
    "location = geolocator.geocode(zipcodes_test)\n",
    "location.longitude"
   ]
  },
  {
   "cell_type": "code",
   "execution_count": 67,
   "metadata": {},
   "outputs": [],
   "source": [
    "# Create an array of zip codes\n",
    "zipcodes_test = [\"94105\", \"94043\", \"94301\"]\n",
    "\n",
    "# Geocode the zip codes and print the results\n",
    "results = geolocator.geocode(zipcodes_test)"
   ]
  },
  {
   "cell_type": "code",
   "execution_count": 70,
   "metadata": {},
   "outputs": [],
   "source": [
    "# Create an array of zip codes\n",
    "zipcodes_test = [\"94105\", \"94043\", \"94301\"]\n",
    "\n",
    "# Initialize empty lists to store latitudes and longitudes\n",
    "latitudes = []\n",
    "longitudes = []\n",
    "\n",
    "# Geocode each zip code and store the results in a list\n",
    "results = []\n",
    "for zipcode in zipcodes_test:\n",
    "\n",
    "    result = geolocator.geocode(zipcode)\n",
    "    results.append(result)\n",
    "\n",
    "    # Extract latitude and longitude from each result and store them in separate lists\n",
    "    if result:\n",
    "        latitudes.append(result.latitude)\n",
    "        longitudes.append(result.longitude)\n",
    "    else:\n",
    "        latitudes.append(np.nan)\n",
    "        longitudes.append(np.nan)"
   ]
  },
  {
   "cell_type": "code",
   "execution_count": 71,
   "metadata": {},
   "outputs": [
    {
     "data": {
      "text/plain": [
       "[37.78846925026178, 22.368609, 47.79655491375995]"
      ]
     },
     "execution_count": 71,
     "metadata": {},
     "output_type": "execute_result"
    }
   ],
   "source": [
    "latitudes"
   ]
  },
  {
   "cell_type": "code",
   "execution_count": 80,
   "metadata": {},
   "outputs": [],
   "source": [
    "# Create an array of zip codes\n",
    "zipcodes_test = [\"01067\", \"95671\"]"
   ]
  },
  {
   "cell_type": "code",
   "execution_count": 77,
   "metadata": {},
   "outputs": [
    {
     "data": {
      "text/html": [
       "<div>\n",
       "<style scoped>\n",
       "    .dataframe tbody tr th:only-of-type {\n",
       "        vertical-align: middle;\n",
       "    }\n",
       "\n",
       "    .dataframe tbody tr th {\n",
       "        vertical-align: top;\n",
       "    }\n",
       "\n",
       "    .dataframe thead th {\n",
       "        text-align: right;\n",
       "    }\n",
       "</style>\n",
       "<table border=\"1\" class=\"dataframe\">\n",
       "  <thead>\n",
       "    <tr style=\"text-align: right;\">\n",
       "      <th></th>\n",
       "      <th>postal_code</th>\n",
       "      <th>country_code</th>\n",
       "      <th>place_name</th>\n",
       "      <th>state_name</th>\n",
       "      <th>state_code</th>\n",
       "      <th>county_name</th>\n",
       "      <th>county_code</th>\n",
       "      <th>community_name</th>\n",
       "      <th>community_code</th>\n",
       "      <th>latitude</th>\n",
       "      <th>longitude</th>\n",
       "      <th>accuracy</th>\n",
       "    </tr>\n",
       "  </thead>\n",
       "  <tbody>\n",
       "    <tr>\n",
       "      <th>0</th>\n",
       "      <td>01067</td>\n",
       "      <td>DE</td>\n",
       "      <td>Dresden, Dresden Innere Altstadt, Dresden Frie...</td>\n",
       "      <td>Sachsen</td>\n",
       "      <td>SN</td>\n",
       "      <td>None</td>\n",
       "      <td>0.0</td>\n",
       "      <td>Kreisfreie Stadt Dresden</td>\n",
       "      <td>14612.0</td>\n",
       "      <td>51.0547</td>\n",
       "      <td>13.7269</td>\n",
       "      <td>4.0</td>\n",
       "    </tr>\n",
       "    <tr>\n",
       "      <th>1</th>\n",
       "      <td>95671</td>\n",
       "      <td>DE</td>\n",
       "      <td>Bärnau</td>\n",
       "      <td>Bayern</td>\n",
       "      <td>BY</td>\n",
       "      <td>Upper Palatinate</td>\n",
       "      <td>93.0</td>\n",
       "      <td>Landkreis Tirschenreuth</td>\n",
       "      <td>9377.0</td>\n",
       "      <td>49.8108</td>\n",
       "      <td>12.4332</td>\n",
       "      <td>4.0</td>\n",
       "    </tr>\n",
       "  </tbody>\n",
       "</table>\n",
       "</div>"
      ],
      "text/plain": [
       "  postal_code country_code                                         place_name  \\\n",
       "0       01067           DE  Dresden, Dresden Innere Altstadt, Dresden Frie...   \n",
       "1       95671           DE                                             Bärnau   \n",
       "\n",
       "  state_name state_code       county_name  county_code  \\\n",
       "0    Sachsen         SN              None          0.0   \n",
       "1     Bayern         BY  Upper Palatinate         93.0   \n",
       "\n",
       "             community_name  community_code  latitude  longitude  accuracy  \n",
       "0  Kreisfreie Stadt Dresden         14612.0   51.0547    13.7269       4.0  \n",
       "1   Landkreis Tirschenreuth          9377.0   49.8108    12.4332       4.0  "
      ]
     },
     "execution_count": 77,
     "metadata": {},
     "output_type": "execute_result"
    }
   ],
   "source": [
    "nomi = pgeocode.Nominatim('de')\n",
    "df = nomi.query_postal_code([\"01067\", \"95671\"])"
   ]
  },
  {
   "cell_type": "code",
   "execution_count": 81,
   "metadata": {},
   "outputs": [],
   "source": [
    "def _extract_longitude(zipcodes, country = \"de\"):\n",
    "    nomi = pgeocode.Nominatim(country)\n",
    "    locations = nomi.query_postal_code(zipcodes)\n",
    "    return locations[\"longitude\"]"
   ]
  },
  {
   "cell_type": "code",
   "execution_count": 82,
   "metadata": {},
   "outputs": [
    {
     "name": "stdout",
     "output_type": "stream",
     "text": [
      "0    13.7269\n",
      "1    12.4332\n",
      "Name: longitude, dtype: float64\n"
     ]
    }
   ],
   "source": [
    "print(_extract_longitude(zipcodes_test))"
   ]
  },
  {
   "cell_type": "code",
   "execution_count": null,
   "metadata": {},
   "outputs": [],
   "source": [
    "zipcodes_test = [\"01067\", \"95671\"]\n",
    "actual = _extract_latitude(zipcodes_test)"
   ]
  }
 ],
 "metadata": {
  "kernelspec": {
   "display_name": "ge_effects_of_subsidies",
   "language": "python",
   "name": "python3"
  },
  "language_info": {
   "codemirror_mode": {
    "name": "ipython",
    "version": 3
   },
   "file_extension": ".py",
   "mimetype": "text/x-python",
   "name": "python",
   "nbconvert_exporter": "python",
   "pygments_lexer": "ipython3",
   "version": "3.11.7"
  }
 },
 "nbformat": 4,
 "nbformat_minor": 2
}
