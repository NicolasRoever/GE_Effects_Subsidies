{
 "cells": [
  {
   "cell_type": "code",
   "execution_count": 72,
   "metadata": {},
   "outputs": [],
   "source": [
    "import os\n",
    "\n",
    "from config import SRC, FARM_SUBSIDY_DATA_PATH\n",
    "import pandas as pd\n",
    "from pathlib import Path\n",
    "\n",
    "from data_management.clean_data import _generate_zipcode_column, _extract_zipcode\n",
    "\n",
    "import pgeocode\n",
    "\n",
    "import numpy as np\n"
   ]
  },
  {
   "cell_type": "code",
   "execution_count": null,
   "metadata": {},
   "outputs": [],
   "source": [
    "def _extract_zipcode(address):\n",
    "    return address.str.extract('(\\d+)', expand=False)"
   ]
  },
  {
   "cell_type": "code",
   "execution_count": 5,
   "metadata": {},
   "outputs": [],
   "source": [
    "data_csv = pd.read_csv(\"/Users/nicolasroever/Documents/Promotion/EconomicSubsidies/ge_effects_of_subsidies/bld/python/data/data_farm_subsidy_clean.csv\")"
   ]
  },
  {
   "cell_type": "code",
   "execution_count": 39,
   "metadata": {},
   "outputs": [
    {
     "data": {
      "text/plain": [
       "Index(['pk', 'country', 'year', 'recipient_id', 'recipient_name',\n",
       "       'recipient_fingerprint', 'recipient_address', 'recipient_country',\n",
       "       'recipient_url', 'scheme_id', 'scheme', 'scheme_code',\n",
       "       'scheme_description', 'amount', 'currency', 'amount_original',\n",
       "       'currency_original', 'nuts', 'nuts1', 'nuts2', 'nuts3'],\n",
       "      dtype='object')"
      ]
     },
     "execution_count": 39,
     "metadata": {},
     "output_type": "execute_result"
    }
   ],
   "source": [
    "data_csv.columns"
   ]
  },
  {
   "cell_type": "code",
   "execution_count": 40,
   "metadata": {},
   "outputs": [],
   "source": [
    "data =pd.read_pickle(\"/Users/nicolasroever/Documents/Promotion/EconomicSubsidies/ge_effects_of_subsidies/bld/python/data/data_farm_subsidy_clean_2.pkl\")"
   ]
  },
  {
   "cell_type": "code",
   "execution_count": 44,
   "metadata": {},
   "outputs": [
    {
     "data": {
      "text/plain": [
       "Index(['country', 'year', 'recipient_id', 'recipient_name', 'scheme_id',\n",
       "       'amount_euro', 'nuts_3', 'zipcode'],\n",
       "      dtype='object')"
      ]
     },
     "execution_count": 44,
     "metadata": {},
     "output_type": "execute_result"
    }
   ],
   "source": [
    "data.columns"
   ]
  },
  {
   "cell_type": "code",
   "execution_count": 50,
   "metadata": {},
   "outputs": [
    {
     "data": {
      "text/html": [
       "<div>\n",
       "<style scoped>\n",
       "    .dataframe tbody tr th:only-of-type {\n",
       "        vertical-align: middle;\n",
       "    }\n",
       "\n",
       "    .dataframe tbody tr th {\n",
       "        vertical-align: top;\n",
       "    }\n",
       "\n",
       "    .dataframe thead th {\n",
       "        text-align: right;\n",
       "    }\n",
       "</style>\n",
       "<table border=\"1\" class=\"dataframe\">\n",
       "  <thead>\n",
       "    <tr style=\"text-align: right;\">\n",
       "      <th></th>\n",
       "      <th>country</th>\n",
       "      <th>year</th>\n",
       "      <th>recipient_id</th>\n",
       "      <th>recipient_name</th>\n",
       "      <th>scheme_id</th>\n",
       "      <th>amount_euro</th>\n",
       "      <th>nuts_3</th>\n",
       "      <th>zipcode</th>\n",
       "    </tr>\n",
       "  </thead>\n",
       "  <tbody>\n",
       "    <tr>\n",
       "      <th>548487</th>\n",
       "      <td>DE</td>\n",
       "      <td>2021</td>\n",
       "      <td>c6ce882953854d605280a1f723377d0cf425de8a</td>\n",
       "      <td>Struck-Sievers, Joachim</td>\n",
       "      <td>1368b704e8b571d5acbfa8cc750e568094817c14</td>\n",
       "      <td>2187.750000</td>\n",
       "      <td>DE405</td>\n",
       "      <td>NaN</td>\n",
       "    </tr>\n",
       "    <tr>\n",
       "      <th>548488</th>\n",
       "      <td>DE</td>\n",
       "      <td>2021</td>\n",
       "      <td>c6ce882953854d605280a1f723377d0cf425de8a</td>\n",
       "      <td>Struck-Sievers, Joachim</td>\n",
       "      <td>15feb366bcb83ec3d05c8aa3002c3e16b560f517</td>\n",
       "      <td>33.910000</td>\n",
       "      <td>DE405</td>\n",
       "      <td>NaN</td>\n",
       "    </tr>\n",
       "    <tr>\n",
       "      <th>548489</th>\n",
       "      <td>DE</td>\n",
       "      <td>2021</td>\n",
       "      <td>c6ce882953854d605280a1f723377d0cf425de8a</td>\n",
       "      <td>Struck-Sievers, Joachim</td>\n",
       "      <td>847eaf6beb8715abe74b7f33be777a827f482627</td>\n",
       "      <td>1454.140015</td>\n",
       "      <td>DE405</td>\n",
       "      <td>NaN</td>\n",
       "    </tr>\n",
       "    <tr>\n",
       "      <th>548490</th>\n",
       "      <td>DE</td>\n",
       "      <td>2021</td>\n",
       "      <td>c6ce882953854d605280a1f723377d0cf425de8a</td>\n",
       "      <td>Struck-Sievers, Joachim</td>\n",
       "      <td>dca6e3d8fb38cea45d837e693de4e1f14bd269d7</td>\n",
       "      <td>625.010010</td>\n",
       "      <td>DE405</td>\n",
       "      <td>NaN</td>\n",
       "    </tr>\n",
       "  </tbody>\n",
       "</table>\n",
       "</div>"
      ],
      "text/plain": [
       "       country  year                              recipient_id  \\\n",
       "548487      DE  2021  c6ce882953854d605280a1f723377d0cf425de8a   \n",
       "548488      DE  2021  c6ce882953854d605280a1f723377d0cf425de8a   \n",
       "548489      DE  2021  c6ce882953854d605280a1f723377d0cf425de8a   \n",
       "548490      DE  2021  c6ce882953854d605280a1f723377d0cf425de8a   \n",
       "\n",
       "                 recipient_name                                 scheme_id  \\\n",
       "548487  Struck-Sievers, Joachim  1368b704e8b571d5acbfa8cc750e568094817c14   \n",
       "548488  Struck-Sievers, Joachim  15feb366bcb83ec3d05c8aa3002c3e16b560f517   \n",
       "548489  Struck-Sievers, Joachim  847eaf6beb8715abe74b7f33be777a827f482627   \n",
       "548490  Struck-Sievers, Joachim  dca6e3d8fb38cea45d837e693de4e1f14bd269d7   \n",
       "\n",
       "        amount_euro nuts_3 zipcode  \n",
       "548487  2187.750000  DE405     NaN  \n",
       "548488    33.910000  DE405     NaN  \n",
       "548489  1454.140015  DE405     NaN  \n",
       "548490   625.010010  DE405     NaN  "
      ]
     },
     "execution_count": 50,
     "metadata": {},
     "output_type": "execute_result"
    }
   ],
   "source": [
    "data.loc[data[\"zipcode\"].isnull() == True, ]"
   ]
  },
  {
   "cell_type": "code",
   "execution_count": 41,
   "metadata": {},
   "outputs": [],
   "source": [
    "def _extract_longitude(zipcode):\n",
    "    geolocator = geocoders.Nominatim(user_agent=\"Economic-Subsidies\")\n",
    "    location = geolocator.geocode(zipcode)\n",
    "    return location.longitude\n"
   ]
  },
  {
   "cell_type": "code",
   "execution_count": 45,
   "metadata": {},
   "outputs": [
    {
     "ename": "AttributeError",
     "evalue": "'NoneType' object has no attribute 'longitude'",
     "output_type": "error",
     "traceback": [
      "\u001b[0;31m---------------------------------------------------------------------------\u001b[0m",
      "\u001b[0;31mAttributeError\u001b[0m                            Traceback (most recent call last)",
      "Cell \u001b[0;32mIn[45], line 1\u001b[0m\n\u001b[0;32m----> 1\u001b[0m \u001b[43m_extract_longitude\u001b[49m\u001b[43m(\u001b[49m\u001b[43mdata\u001b[49m\u001b[43m[\u001b[49m\u001b[38;5;124;43m\"\u001b[39;49m\u001b[38;5;124;43mzipcode\u001b[39;49m\u001b[38;5;124;43m\"\u001b[39;49m\u001b[43m]\u001b[49m\u001b[43m)\u001b[49m\n",
      "Cell \u001b[0;32mIn[41], line 4\u001b[0m, in \u001b[0;36m_extract_longitude\u001b[0;34m(zipcode)\u001b[0m\n\u001b[1;32m      2\u001b[0m geolocator \u001b[38;5;241m=\u001b[39m geocoders\u001b[38;5;241m.\u001b[39mNominatim(user_agent\u001b[38;5;241m=\u001b[39m\u001b[38;5;124m\"\u001b[39m\u001b[38;5;124mEconomic-Subsidies\u001b[39m\u001b[38;5;124m\"\u001b[39m)\n\u001b[1;32m      3\u001b[0m location \u001b[38;5;241m=\u001b[39m geolocator\u001b[38;5;241m.\u001b[39mgeocode(zipcode)\n\u001b[0;32m----> 4\u001b[0m \u001b[38;5;28;01mreturn\u001b[39;00m \u001b[43mlocation\u001b[49m\u001b[38;5;241;43m.\u001b[39;49m\u001b[43mlongitude\u001b[49m\n",
      "\u001b[0;31mAttributeError\u001b[0m: 'NoneType' object has no attribute 'longitude'"
     ]
    }
   ],
   "source": [
    "_extract_longitude(data[\"zipcode\"])"
   ]
  },
  {
   "cell_type": "code",
   "execution_count": 31,
   "metadata": {},
   "outputs": [
    {
     "name": "stdout",
     "output_type": "stream",
     "text": [
      "48.158845079473686\n"
     ]
    }
   ],
   "source": [
    "geolocator = geocoders.Nominatim(user_agent=\"Subsidy_Project\")\n",
    "location = geolocator.geocode(\"80801\")\n",
    "print(location.latitude)\n"
   ]
  },
  {
   "cell_type": "code",
   "execution_count": 30,
   "metadata": {},
   "outputs": [
    {
     "name": "stdout",
     "output_type": "stream",
     "text": [
      "None\n"
     ]
    }
   ],
   "source": [
    "print(search_results)"
   ]
  },
  {
   "cell_type": "code",
   "execution_count": null,
   "metadata": {},
   "outputs": [],
   "source": [
    "\n",
    "# Get the midpoint of the region\n",
    "midpoint = (search_results.geometry.centroid.x, search_results.geometry.centroid.y)\n",
    "\n",
    "print(midpoint)"
   ]
  },
  {
   "cell_type": "code",
   "execution_count": 2,
   "metadata": {},
   "outputs": [
    {
     "ename": "NameError",
     "evalue": "name 'data_csv' is not defined",
     "output_type": "error",
     "traceback": [
      "\u001b[0;31m---------------------------------------------------------------------------\u001b[0m",
      "\u001b[0;31mNameError\u001b[0m                                 Traceback (most recent call last)",
      "Cell \u001b[0;32mIn[2], line 1\u001b[0m\n\u001b[0;32m----> 1\u001b[0m \u001b[43mdata_csv\u001b[49m[data_csv[\u001b[38;5;124m'\u001b[39m\u001b[38;5;124mrecipient_name\u001b[39m\u001b[38;5;124m'\u001b[39m] \u001b[38;5;241m==\u001b[39m \u001b[38;5;124m'\u001b[39m\u001b[38;5;124mStruck-Sievers, Joachim\u001b[39m\u001b[38;5;124m'\u001b[39m]\n",
      "\u001b[0;31mNameError\u001b[0m: name 'data_csv' is not defined"
     ]
    }
   ],
   "source": [
    "data_csv[data_csv['recipient_name'] == 'Struck-Sievers, Joachim']"
   ]
  },
  {
   "cell_type": "code",
   "execution_count": null,
   "metadata": {},
   "outputs": [],
   "source": []
  },
  {
   "cell_type": "code",
   "execution_count": 60,
   "metadata": {},
   "outputs": [],
   "source": [
    "\n",
    "def _generate_zipcode_column(df):\n",
    "    zipcodes = _extract_zipcode(df['recipient_address'])\n",
    "    #There is a mistake in the coding of one guy\n",
    "    mistake_indedx = df[df['recipient_name'] == 'Struck-Sievers, Joachim'].index\n",
    "    zipcodes[mistake_indedx] = '16244'\n",
    "    return zipcodes\n",
    "   \n",
    "def _extract_zipcode(address):\n",
    "    return address.str.extract('(\\d+)', expand=False)"
   ]
  },
  {
   "cell_type": "code",
   "execution_count": 61,
   "metadata": {},
   "outputs": [],
   "source": [
    "# Create a DataFrame with sample data\n",
    "data = {'recipient_name': ['Schmidt, Hans', 'Meier, Max', 'Struck-Sievers, Joachim'], 'recipient_address': ['Dresden, DE-01067', 'Berlin, DE-10117', 'Dresden, DE#BEZUG']}\n",
    "df = pd.DataFrame(data)\n",
    "\n",
    "# Generate the zipcode column\n",
    "zipcodes = _generate_zipcode_column(df)"
   ]
  },
  {
   "cell_type": "code",
   "execution_count": 7,
   "metadata": {},
   "outputs": [],
   "source": [
    "def _extract_longitude(zipcode):\n",
    "    geolocator = geocoders.Nominatim(user_agent=\"Economic-Subsidies\")\n",
    "    location = geolocator.geocode(zipcode)\n",
    "    return location.longitude"
   ]
  },
  {
   "cell_type": "code",
   "execution_count": 9,
   "metadata": {},
   "outputs": [],
   "source": [
    "def _generate_zipcode_column(df):\n",
    "    zipcodes = _extract_zipcode(df['recipient_address'])\n",
    "    #There is a mistake in the coding of one guy\n",
    "    mistake_indedx = df[df['recipient_name'] == 'Struck-Sievers, Joachim'].index\n",
    "    zipcodes[mistake_indedx] = '16244'\n",
    "    return zipcodes\n",
    "   "
   ]
  },
  {
   "cell_type": "code",
   "execution_count": 14,
   "metadata": {},
   "outputs": [
    {
     "data": {
      "text/plain": [
       "0             Dresden, DE-01067\n",
       "1             Dresden, DE-01067\n",
       "2             Dresden, DE-01067\n",
       "3             Dresden, DE-01067\n",
       "4             Dresden, DE-01067\n",
       "                   ...         \n",
       "9286441    Bärnau, St, DE-95671\n",
       "9286442    Bärnau, St, DE-95671\n",
       "9286443    Bärnau, St, DE-95671\n",
       "9286444    Bärnau, St, DE-95671\n",
       "9286445    Bärnau, St, DE-95671\n",
       "Name: recipient_address, Length: 9286446, dtype: object"
      ]
     },
     "execution_count": 14,
     "metadata": {},
     "output_type": "execute_result"
    }
   ],
   "source": [
    "data_csv[\"recipient_address\"]"
   ]
  },
  {
   "cell_type": "code",
   "execution_count": 16,
   "metadata": {},
   "outputs": [],
   "source": [
    "zipcodes = _generate_zipcode_column(data_csv)\n"
   ]
  },
  {
   "cell_type": "code",
   "execution_count": 17,
   "metadata": {},
   "outputs": [
    {
     "ename": "AttributeError",
     "evalue": "'NoneType' object has no attribute 'longitude'",
     "output_type": "error",
     "traceback": [
      "\u001b[0;31m---------------------------------------------------------------------------\u001b[0m",
      "\u001b[0;31mAttributeError\u001b[0m                            Traceback (most recent call last)",
      "Cell \u001b[0;32mIn[17], line 1\u001b[0m\n\u001b[0;32m----> 1\u001b[0m \u001b[43m_extract_longitude\u001b[49m\u001b[43m(\u001b[49m\u001b[43mzipcodes\u001b[49m\u001b[43m)\u001b[49m\n",
      "Cell \u001b[0;32mIn[7], line 4\u001b[0m, in \u001b[0;36m_extract_longitude\u001b[0;34m(zipcode)\u001b[0m\n\u001b[1;32m      2\u001b[0m geolocator \u001b[38;5;241m=\u001b[39m geocoders\u001b[38;5;241m.\u001b[39mNominatim(user_agent\u001b[38;5;241m=\u001b[39m\u001b[38;5;124m\"\u001b[39m\u001b[38;5;124mEconomic-Subsidies\u001b[39m\u001b[38;5;124m\"\u001b[39m)\n\u001b[1;32m      3\u001b[0m location \u001b[38;5;241m=\u001b[39m geolocator\u001b[38;5;241m.\u001b[39mgeocode(zipcode)\n\u001b[0;32m----> 4\u001b[0m \u001b[38;5;28;01mreturn\u001b[39;00m \u001b[43mlocation\u001b[49m\u001b[38;5;241;43m.\u001b[39;49m\u001b[43mlongitude\u001b[49m\n",
      "\u001b[0;31mAttributeError\u001b[0m: 'NoneType' object has no attribute 'longitude'"
     ]
    }
   ],
   "source": [
    "_extract_longitude(zipcodes)"
   ]
  },
  {
   "cell_type": "code",
   "execution_count": 28,
   "metadata": {},
   "outputs": [
    {
     "data": {
      "text/plain": [
       "0          01067\n",
       "1          01067\n",
       "2          01067\n",
       "3          01067\n",
       "4          01067\n",
       "           ...  \n",
       "9286441    95671\n",
       "9286442    95671\n",
       "9286443    95671\n",
       "9286444    95671\n",
       "9286445    95671\n",
       "Name: recipient_address, Length: 9286446, dtype: object"
      ]
     },
     "execution_count": 28,
     "metadata": {},
     "output_type": "execute_result"
    }
   ],
   "source": [
    "zipcodes"
   ]
  },
  {
   "cell_type": "code",
   "execution_count": 73,
   "metadata": {},
   "outputs": [],
   "source": [
    "zipcodes_test = zipcodes[0:10]\n"
   ]
  },
  {
   "cell_type": "code",
   "execution_count": 76,
   "metadata": {},
   "outputs": [
    {
     "data": {
      "text/plain": [
       "array([0., 0.])"
      ]
     },
     "execution_count": 76,
     "metadata": {},
     "output_type": "execute_result"
    }
   ],
   "source": [
    "zipcodes_test"
   ]
  },
  {
   "cell_type": "code",
   "execution_count": 51,
   "metadata": {},
   "outputs": [
    {
     "ename": "AttributeError",
     "evalue": "'NoneType' object has no attribute 'longitude'",
     "output_type": "error",
     "traceback": [
      "\u001b[0;31m---------------------------------------------------------------------------\u001b[0m",
      "\u001b[0;31mAttributeError\u001b[0m                            Traceback (most recent call last)",
      "Cell \u001b[0;32mIn[51], line 5\u001b[0m\n\u001b[1;32m      3\u001b[0m \u001b[38;5;28;01mfor\u001b[39;00m i \u001b[38;5;129;01min\u001b[39;00m \u001b[38;5;28mrange\u001b[39m(\u001b[38;5;28mlen\u001b[39m(zipcodes_test)):\n\u001b[1;32m      4\u001b[0m     location \u001b[38;5;241m=\u001b[39m geolocator\u001b[38;5;241m.\u001b[39mgeocode(zipcodes_test[\u001b[38;5;241m1\u001b[39m])\n\u001b[0;32m----> 5\u001b[0m     zipcodes[i] \u001b[38;5;241m=\u001b[39m \u001b[43mlocation\u001b[49m\u001b[38;5;241;43m.\u001b[39;49m\u001b[43mlongitude\u001b[49m\n",
      "\u001b[0;31mAttributeError\u001b[0m: 'NoneType' object has no attribute 'longitude'"
     ]
    }
   ],
   "source": [
    "\n",
    "geolocator = geocoders.Nominatim(user_agent=\"Economic-Subsidies\")\n",
    "zipcodes = np.zeros(len(zipcodes_test))\n",
    "location = geolocator.geocode(zipcodes_test)\n",
    "zipcodes[i] = location.longitude\n",
    "\n"
   ]
  },
  {
   "cell_type": "code",
   "execution_count": 59,
   "metadata": {},
   "outputs": [
    {
     "data": {
      "text/plain": [
       "30.38197864178987"
      ]
     },
     "execution_count": 59,
     "metadata": {},
     "output_type": "execute_result"
    }
   ],
   "source": [
    "location = geolocator.geocode(zipcodes_test)\n",
    "location.longitude"
   ]
  },
  {
   "cell_type": "code",
   "execution_count": 67,
   "metadata": {},
   "outputs": [],
   "source": [
    "# Create an array of zip codes\n",
    "zipcodes_test = [\"94105\", \"94043\", \"94301\"]\n",
    "\n",
    "# Geocode the zip codes and print the results\n",
    "results = geolocator.geocode(zipcodes_test)"
   ]
  },
  {
   "cell_type": "code",
   "execution_count": 70,
   "metadata": {},
   "outputs": [],
   "source": [
    "# Create an array of zip codes\n",
    "zipcodes_test = [\"94105\", \"94043\", \"94301\"]\n",
    "\n",
    "# Initialize empty lists to store latitudes and longitudes\n",
    "latitudes = []\n",
    "longitudes = []\n",
    "\n",
    "# Geocode each zip code and store the results in a list\n",
    "results = []\n",
    "for zipcode in zipcodes_test:\n",
    "\n",
    "    result = geolocator.geocode(zipcode)\n",
    "    results.append(result)\n",
    "\n",
    "    # Extract latitude and longitude from each result and store them in separate lists\n",
    "    if result:\n",
    "        latitudes.append(result.latitude)\n",
    "        longitudes.append(result.longitude)\n",
    "    else:\n",
    "        latitudes.append(np.nan)\n",
    "        longitudes.append(np.nan)"
   ]
  },
  {
   "cell_type": "code",
   "execution_count": 71,
   "metadata": {},
   "outputs": [
    {
     "data": {
      "text/plain": [
       "[37.78846925026178, 22.368609, 47.79655491375995]"
      ]
     },
     "execution_count": 71,
     "metadata": {},
     "output_type": "execute_result"
    }
   ],
   "source": [
    "latitudes"
   ]
  },
  {
   "cell_type": "code",
   "execution_count": 80,
   "metadata": {},
   "outputs": [],
   "source": [
    "# Create an array of zip codes\n",
    "zipcodes_test = [\"01067\", \"95671\"]"
   ]
  },
  {
   "cell_type": "code",
   "execution_count": 77,
   "metadata": {},
   "outputs": [
    {
     "data": {
      "text/html": [
       "<div>\n",
       "<style scoped>\n",
       "    .dataframe tbody tr th:only-of-type {\n",
       "        vertical-align: middle;\n",
       "    }\n",
       "\n",
       "    .dataframe tbody tr th {\n",
       "        vertical-align: top;\n",
       "    }\n",
       "\n",
       "    .dataframe thead th {\n",
       "        text-align: right;\n",
       "    }\n",
       "</style>\n",
       "<table border=\"1\" class=\"dataframe\">\n",
       "  <thead>\n",
       "    <tr style=\"text-align: right;\">\n",
       "      <th></th>\n",
       "      <th>postal_code</th>\n",
       "      <th>country_code</th>\n",
       "      <th>place_name</th>\n",
       "      <th>state_name</th>\n",
       "      <th>state_code</th>\n",
       "      <th>county_name</th>\n",
       "      <th>county_code</th>\n",
       "      <th>community_name</th>\n",
       "      <th>community_code</th>\n",
       "      <th>latitude</th>\n",
       "      <th>longitude</th>\n",
       "      <th>accuracy</th>\n",
       "    </tr>\n",
       "  </thead>\n",
       "  <tbody>\n",
       "    <tr>\n",
       "      <th>0</th>\n",
       "      <td>01067</td>\n",
       "      <td>DE</td>\n",
       "      <td>Dresden, Dresden Innere Altstadt, Dresden Frie...</td>\n",
       "      <td>Sachsen</td>\n",
       "      <td>SN</td>\n",
       "      <td>None</td>\n",
       "      <td>0.0</td>\n",
       "      <td>Kreisfreie Stadt Dresden</td>\n",
       "      <td>14612.0</td>\n",
       "      <td>51.0547</td>\n",
       "      <td>13.7269</td>\n",
       "      <td>4.0</td>\n",
       "    </tr>\n",
       "    <tr>\n",
       "      <th>1</th>\n",
       "      <td>95671</td>\n",
       "      <td>DE</td>\n",
       "      <td>Bärnau</td>\n",
       "      <td>Bayern</td>\n",
       "      <td>BY</td>\n",
       "      <td>Upper Palatinate</td>\n",
       "      <td>93.0</td>\n",
       "      <td>Landkreis Tirschenreuth</td>\n",
       "      <td>9377.0</td>\n",
       "      <td>49.8108</td>\n",
       "      <td>12.4332</td>\n",
       "      <td>4.0</td>\n",
       "    </tr>\n",
       "  </tbody>\n",
       "</table>\n",
       "</div>"
      ],
      "text/plain": [
       "  postal_code country_code                                         place_name  \\\n",
       "0       01067           DE  Dresden, Dresden Innere Altstadt, Dresden Frie...   \n",
       "1       95671           DE                                             Bärnau   \n",
       "\n",
       "  state_name state_code       county_name  county_code  \\\n",
       "0    Sachsen         SN              None          0.0   \n",
       "1     Bayern         BY  Upper Palatinate         93.0   \n",
       "\n",
       "             community_name  community_code  latitude  longitude  accuracy  \n",
       "0  Kreisfreie Stadt Dresden         14612.0   51.0547    13.7269       4.0  \n",
       "1   Landkreis Tirschenreuth          9377.0   49.8108    12.4332       4.0  "
      ]
     },
     "execution_count": 77,
     "metadata": {},
     "output_type": "execute_result"
    }
   ],
   "source": [
    "nomi = pgeocode.Nominatim('de')\n",
    "df = nomi.query_postal_code([\"01067\", \"95671\"])"
   ]
  },
  {
   "cell_type": "code",
   "execution_count": 81,
   "metadata": {},
   "outputs": [],
   "source": [
    "def _extract_longitude(zipcodes, country = \"de\"):\n",
    "    nomi = pgeocode.Nominatim(country)\n",
    "    locations = nomi.query_postal_code(zipcodes)\n",
    "    return locations[\"longitude\"]"
   ]
  },
  {
   "cell_type": "code",
   "execution_count": 82,
   "metadata": {},
   "outputs": [
    {
     "name": "stdout",
     "output_type": "stream",
     "text": [
      "0    13.7269\n",
      "1    12.4332\n",
      "Name: longitude, dtype: float64\n"
     ]
    }
   ],
   "source": [
    "print(_extract_longitude(zipcodes_test))"
   ]
  },
  {
   "cell_type": "code",
   "execution_count": 134,
   "metadata": {},
   "outputs": [
    {
     "data": {
      "text/plain": [
       "dtype('<U5')"
      ]
     },
     "execution_count": 134,
     "metadata": {},
     "output_type": "execute_result"
    }
   ],
   "source": [
    "zipcodes =  np.array(data.loc[:, \"zipcode\"]).astype('str')\n",
    "\n",
    "zipcodes.dtype"
   ]
  },
  {
   "cell_type": "code",
   "execution_count": 135,
   "metadata": {},
   "outputs": [],
   "source": [
    "nomi = pgeocode.Nominatim('de')\n",
    "locations = nomi.query_postal_code(['01067','01067', '01099'])\n",
    "locations = nomi.query_postal_code(zipcodes)"
   ]
  },
  {
   "cell_type": "code",
   "execution_count": 136,
   "metadata": {},
   "outputs": [
    {
     "data": {
      "text/html": [
       "<div>\n",
       "<style scoped>\n",
       "    .dataframe tbody tr th:only-of-type {\n",
       "        vertical-align: middle;\n",
       "    }\n",
       "\n",
       "    .dataframe tbody tr th {\n",
       "        vertical-align: top;\n",
       "    }\n",
       "\n",
       "    .dataframe thead th {\n",
       "        text-align: right;\n",
       "    }\n",
       "</style>\n",
       "<table border=\"1\" class=\"dataframe\">\n",
       "  <thead>\n",
       "    <tr style=\"text-align: right;\">\n",
       "      <th></th>\n",
       "      <th>postal_code</th>\n",
       "      <th>country_code</th>\n",
       "      <th>place_name</th>\n",
       "      <th>state_name</th>\n",
       "      <th>state_code</th>\n",
       "      <th>county_name</th>\n",
       "      <th>county_code</th>\n",
       "      <th>community_name</th>\n",
       "      <th>community_code</th>\n",
       "      <th>latitude</th>\n",
       "      <th>longitude</th>\n",
       "      <th>accuracy</th>\n",
       "    </tr>\n",
       "  </thead>\n",
       "  <tbody>\n",
       "    <tr>\n",
       "      <th>0</th>\n",
       "      <td>01067</td>\n",
       "      <td>DE</td>\n",
       "      <td>Dresden, Dresden Innere Altstadt, Dresden Frie...</td>\n",
       "      <td>Sachsen</td>\n",
       "      <td>SN</td>\n",
       "      <td>NaN</td>\n",
       "      <td>0.0</td>\n",
       "      <td>Kreisfreie Stadt Dresden</td>\n",
       "      <td>14612.0</td>\n",
       "      <td>51.0547</td>\n",
       "      <td>13.7269</td>\n",
       "      <td>4.0</td>\n",
       "    </tr>\n",
       "    <tr>\n",
       "      <th>1</th>\n",
       "      <td>01067</td>\n",
       "      <td>DE</td>\n",
       "      <td>Dresden, Dresden Innere Altstadt, Dresden Frie...</td>\n",
       "      <td>Sachsen</td>\n",
       "      <td>SN</td>\n",
       "      <td>NaN</td>\n",
       "      <td>0.0</td>\n",
       "      <td>Kreisfreie Stadt Dresden</td>\n",
       "      <td>14612.0</td>\n",
       "      <td>51.0547</td>\n",
       "      <td>13.7269</td>\n",
       "      <td>4.0</td>\n",
       "    </tr>\n",
       "    <tr>\n",
       "      <th>2</th>\n",
       "      <td>01067</td>\n",
       "      <td>DE</td>\n",
       "      <td>Dresden, Dresden Innere Altstadt, Dresden Frie...</td>\n",
       "      <td>Sachsen</td>\n",
       "      <td>SN</td>\n",
       "      <td>NaN</td>\n",
       "      <td>0.0</td>\n",
       "      <td>Kreisfreie Stadt Dresden</td>\n",
       "      <td>14612.0</td>\n",
       "      <td>51.0547</td>\n",
       "      <td>13.7269</td>\n",
       "      <td>4.0</td>\n",
       "    </tr>\n",
       "    <tr>\n",
       "      <th>3</th>\n",
       "      <td>01067</td>\n",
       "      <td>DE</td>\n",
       "      <td>Dresden, Dresden Innere Altstadt, Dresden Frie...</td>\n",
       "      <td>Sachsen</td>\n",
       "      <td>SN</td>\n",
       "      <td>NaN</td>\n",
       "      <td>0.0</td>\n",
       "      <td>Kreisfreie Stadt Dresden</td>\n",
       "      <td>14612.0</td>\n",
       "      <td>51.0547</td>\n",
       "      <td>13.7269</td>\n",
       "      <td>4.0</td>\n",
       "    </tr>\n",
       "    <tr>\n",
       "      <th>4</th>\n",
       "      <td>01067</td>\n",
       "      <td>DE</td>\n",
       "      <td>Dresden, Dresden Innere Altstadt, Dresden Frie...</td>\n",
       "      <td>Sachsen</td>\n",
       "      <td>SN</td>\n",
       "      <td>NaN</td>\n",
       "      <td>0.0</td>\n",
       "      <td>Kreisfreie Stadt Dresden</td>\n",
       "      <td>14612.0</td>\n",
       "      <td>51.0547</td>\n",
       "      <td>13.7269</td>\n",
       "      <td>4.0</td>\n",
       "    </tr>\n",
       "    <tr>\n",
       "      <th>...</th>\n",
       "      <td>...</td>\n",
       "      <td>...</td>\n",
       "      <td>...</td>\n",
       "      <td>...</td>\n",
       "      <td>...</td>\n",
       "      <td>...</td>\n",
       "      <td>...</td>\n",
       "      <td>...</td>\n",
       "      <td>...</td>\n",
       "      <td>...</td>\n",
       "      <td>...</td>\n",
       "      <td>...</td>\n",
       "    </tr>\n",
       "    <tr>\n",
       "      <th>9286441</th>\n",
       "      <td>95671</td>\n",
       "      <td>DE</td>\n",
       "      <td>Bärnau</td>\n",
       "      <td>Bayern</td>\n",
       "      <td>BY</td>\n",
       "      <td>Upper Palatinate</td>\n",
       "      <td>93.0</td>\n",
       "      <td>Landkreis Tirschenreuth</td>\n",
       "      <td>9377.0</td>\n",
       "      <td>49.8108</td>\n",
       "      <td>12.4332</td>\n",
       "      <td>4.0</td>\n",
       "    </tr>\n",
       "    <tr>\n",
       "      <th>9286442</th>\n",
       "      <td>95671</td>\n",
       "      <td>DE</td>\n",
       "      <td>Bärnau</td>\n",
       "      <td>Bayern</td>\n",
       "      <td>BY</td>\n",
       "      <td>Upper Palatinate</td>\n",
       "      <td>93.0</td>\n",
       "      <td>Landkreis Tirschenreuth</td>\n",
       "      <td>9377.0</td>\n",
       "      <td>49.8108</td>\n",
       "      <td>12.4332</td>\n",
       "      <td>4.0</td>\n",
       "    </tr>\n",
       "    <tr>\n",
       "      <th>9286443</th>\n",
       "      <td>95671</td>\n",
       "      <td>DE</td>\n",
       "      <td>Bärnau</td>\n",
       "      <td>Bayern</td>\n",
       "      <td>BY</td>\n",
       "      <td>Upper Palatinate</td>\n",
       "      <td>93.0</td>\n",
       "      <td>Landkreis Tirschenreuth</td>\n",
       "      <td>9377.0</td>\n",
       "      <td>49.8108</td>\n",
       "      <td>12.4332</td>\n",
       "      <td>4.0</td>\n",
       "    </tr>\n",
       "    <tr>\n",
       "      <th>9286444</th>\n",
       "      <td>95671</td>\n",
       "      <td>DE</td>\n",
       "      <td>Bärnau</td>\n",
       "      <td>Bayern</td>\n",
       "      <td>BY</td>\n",
       "      <td>Upper Palatinate</td>\n",
       "      <td>93.0</td>\n",
       "      <td>Landkreis Tirschenreuth</td>\n",
       "      <td>9377.0</td>\n",
       "      <td>49.8108</td>\n",
       "      <td>12.4332</td>\n",
       "      <td>4.0</td>\n",
       "    </tr>\n",
       "    <tr>\n",
       "      <th>9286445</th>\n",
       "      <td>95671</td>\n",
       "      <td>DE</td>\n",
       "      <td>Bärnau</td>\n",
       "      <td>Bayern</td>\n",
       "      <td>BY</td>\n",
       "      <td>Upper Palatinate</td>\n",
       "      <td>93.0</td>\n",
       "      <td>Landkreis Tirschenreuth</td>\n",
       "      <td>9377.0</td>\n",
       "      <td>49.8108</td>\n",
       "      <td>12.4332</td>\n",
       "      <td>4.0</td>\n",
       "    </tr>\n",
       "  </tbody>\n",
       "</table>\n",
       "<p>9286446 rows × 12 columns</p>\n",
       "</div>"
      ],
      "text/plain": [
       "        postal_code country_code  \\\n",
       "0             01067           DE   \n",
       "1             01067           DE   \n",
       "2             01067           DE   \n",
       "3             01067           DE   \n",
       "4             01067           DE   \n",
       "...             ...          ...   \n",
       "9286441       95671           DE   \n",
       "9286442       95671           DE   \n",
       "9286443       95671           DE   \n",
       "9286444       95671           DE   \n",
       "9286445       95671           DE   \n",
       "\n",
       "                                                place_name state_name  \\\n",
       "0        Dresden, Dresden Innere Altstadt, Dresden Frie...    Sachsen   \n",
       "1        Dresden, Dresden Innere Altstadt, Dresden Frie...    Sachsen   \n",
       "2        Dresden, Dresden Innere Altstadt, Dresden Frie...    Sachsen   \n",
       "3        Dresden, Dresden Innere Altstadt, Dresden Frie...    Sachsen   \n",
       "4        Dresden, Dresden Innere Altstadt, Dresden Frie...    Sachsen   \n",
       "...                                                    ...        ...   \n",
       "9286441                                             Bärnau     Bayern   \n",
       "9286442                                             Bärnau     Bayern   \n",
       "9286443                                             Bärnau     Bayern   \n",
       "9286444                                             Bärnau     Bayern   \n",
       "9286445                                             Bärnau     Bayern   \n",
       "\n",
       "        state_code       county_name  county_code            community_name  \\\n",
       "0               SN               NaN          0.0  Kreisfreie Stadt Dresden   \n",
       "1               SN               NaN          0.0  Kreisfreie Stadt Dresden   \n",
       "2               SN               NaN          0.0  Kreisfreie Stadt Dresden   \n",
       "3               SN               NaN          0.0  Kreisfreie Stadt Dresden   \n",
       "4               SN               NaN          0.0  Kreisfreie Stadt Dresden   \n",
       "...            ...               ...          ...                       ...   \n",
       "9286441         BY  Upper Palatinate         93.0   Landkreis Tirschenreuth   \n",
       "9286442         BY  Upper Palatinate         93.0   Landkreis Tirschenreuth   \n",
       "9286443         BY  Upper Palatinate         93.0   Landkreis Tirschenreuth   \n",
       "9286444         BY  Upper Palatinate         93.0   Landkreis Tirschenreuth   \n",
       "9286445         BY  Upper Palatinate         93.0   Landkreis Tirschenreuth   \n",
       "\n",
       "         community_code  latitude  longitude  accuracy  \n",
       "0               14612.0   51.0547    13.7269       4.0  \n",
       "1               14612.0   51.0547    13.7269       4.0  \n",
       "2               14612.0   51.0547    13.7269       4.0  \n",
       "3               14612.0   51.0547    13.7269       4.0  \n",
       "4               14612.0   51.0547    13.7269       4.0  \n",
       "...                 ...       ...        ...       ...  \n",
       "9286441          9377.0   49.8108    12.4332       4.0  \n",
       "9286442          9377.0   49.8108    12.4332       4.0  \n",
       "9286443          9377.0   49.8108    12.4332       4.0  \n",
       "9286444          9377.0   49.8108    12.4332       4.0  \n",
       "9286445          9377.0   49.8108    12.4332       4.0  \n",
       "\n",
       "[9286446 rows x 12 columns]"
      ]
     },
     "execution_count": 136,
     "metadata": {},
     "output_type": "execute_result"
    }
   ],
   "source": [
    "locations"
   ]
  },
  {
   "cell_type": "code",
   "execution_count": 195,
   "metadata": {},
   "outputs": [],
   "source": [
    "data = pd.read_pickle(\"/Users/nicolasroever/Documents/Promotion/EconomicSubsidies/ge_effects_of_subsidies/bld/python/data/data_farm_subsidy_clean.pkl\")"
   ]
  },
  {
   "cell_type": "code",
   "execution_count": 138,
   "metadata": {},
   "outputs": [
    {
     "data": {
      "text/html": [
       "<div>\n",
       "<style scoped>\n",
       "    .dataframe tbody tr th:only-of-type {\n",
       "        vertical-align: middle;\n",
       "    }\n",
       "\n",
       "    .dataframe tbody tr th {\n",
       "        vertical-align: top;\n",
       "    }\n",
       "\n",
       "    .dataframe thead th {\n",
       "        text-align: right;\n",
       "    }\n",
       "</style>\n",
       "<table border=\"1\" class=\"dataframe\">\n",
       "  <thead>\n",
       "    <tr style=\"text-align: right;\">\n",
       "      <th></th>\n",
       "      <th>country</th>\n",
       "      <th>year</th>\n",
       "      <th>recipient_id</th>\n",
       "      <th>recipient_name</th>\n",
       "      <th>scheme_id</th>\n",
       "      <th>amount_euro</th>\n",
       "      <th>nuts_3</th>\n",
       "      <th>zipcode</th>\n",
       "      <th>longitude</th>\n",
       "      <th>latitude</th>\n",
       "    </tr>\n",
       "  </thead>\n",
       "  <tbody>\n",
       "    <tr>\n",
       "      <th>0</th>\n",
       "      <td>DE</td>\n",
       "      <td>2014</td>\n",
       "      <td>55b7083969c728ca5c7e2f1254b0b581cc62fd58</td>\n",
       "      <td>Domkapitel St. Petri zu Dresden vertreten durc...</td>\n",
       "      <td>6dad17c8263e5cb9facdeffe3646b63ba29d3697</td>\n",
       "      <td>20096.619141</td>\n",
       "      <td>DED21</td>\n",
       "      <td>01067</td>\n",
       "      <td>13.7269</td>\n",
       "      <td>51.0547</td>\n",
       "    </tr>\n",
       "    <tr>\n",
       "      <th>1</th>\n",
       "      <td>DE</td>\n",
       "      <td>2014</td>\n",
       "      <td>34bdaa78f4c6c138e17af156e65d9aa68d49fc80</td>\n",
       "      <td>ERHA Ernteland GmbH &amp; Co. KG d.v.d.d.erha 1 Ve...</td>\n",
       "      <td>6d2e1f161da5e1c75dde51ce939eb10cf54823c4</td>\n",
       "      <td>5031.020020</td>\n",
       "      <td>DED21</td>\n",
       "      <td>01067</td>\n",
       "      <td>13.7269</td>\n",
       "      <td>51.0547</td>\n",
       "    </tr>\n",
       "    <tr>\n",
       "      <th>2</th>\n",
       "      <td>DE</td>\n",
       "      <td>2014</td>\n",
       "      <td>34bdaa78f4c6c138e17af156e65d9aa68d49fc80</td>\n",
       "      <td>ERHA Ernteland GmbH &amp; Co. KG d.v.d.d.erha 1 Ve...</td>\n",
       "      <td>2ac147167a663b2d2f6fde77a287b90acdd4e4e1</td>\n",
       "      <td>6307.560059</td>\n",
       "      <td>DED21</td>\n",
       "      <td>01067</td>\n",
       "      <td>13.7269</td>\n",
       "      <td>51.0547</td>\n",
       "    </tr>\n",
       "    <tr>\n",
       "      <th>3</th>\n",
       "      <td>DE</td>\n",
       "      <td>2014</td>\n",
       "      <td>a2d8f04b02fce5986139af7f41fa2055989f9d1c</td>\n",
       "      <td>DE DE-e1d8c747-3cfa-4c58-9e76-384496ee2848</td>\n",
       "      <td>6d2e1f161da5e1c75dde51ce939eb10cf54823c4</td>\n",
       "      <td>358.760010</td>\n",
       "      <td>DED21</td>\n",
       "      <td>01067</td>\n",
       "      <td>13.7269</td>\n",
       "      <td>51.0547</td>\n",
       "    </tr>\n",
       "    <tr>\n",
       "      <th>4</th>\n",
       "      <td>DE</td>\n",
       "      <td>2014</td>\n",
       "      <td>a2d8f04b02fce5986139af7f41fa2055989f9d1c</td>\n",
       "      <td>DE DE-e1d8c747-3cfa-4c58-9e76-384496ee2848</td>\n",
       "      <td>2ac147167a663b2d2f6fde77a287b90acdd4e4e1</td>\n",
       "      <td>436.410004</td>\n",
       "      <td>DED21</td>\n",
       "      <td>01067</td>\n",
       "      <td>13.7269</td>\n",
       "      <td>51.0547</td>\n",
       "    </tr>\n",
       "  </tbody>\n",
       "</table>\n",
       "</div>"
      ],
      "text/plain": [
       "  country  year                              recipient_id  \\\n",
       "0      DE  2014  55b7083969c728ca5c7e2f1254b0b581cc62fd58   \n",
       "1      DE  2014  34bdaa78f4c6c138e17af156e65d9aa68d49fc80   \n",
       "2      DE  2014  34bdaa78f4c6c138e17af156e65d9aa68d49fc80   \n",
       "3      DE  2014  a2d8f04b02fce5986139af7f41fa2055989f9d1c   \n",
       "4      DE  2014  a2d8f04b02fce5986139af7f41fa2055989f9d1c   \n",
       "\n",
       "                                      recipient_name  \\\n",
       "0  Domkapitel St. Petri zu Dresden vertreten durc...   \n",
       "1  ERHA Ernteland GmbH & Co. KG d.v.d.d.erha 1 Ve...   \n",
       "2  ERHA Ernteland GmbH & Co. KG d.v.d.d.erha 1 Ve...   \n",
       "3         DE DE-e1d8c747-3cfa-4c58-9e76-384496ee2848   \n",
       "4         DE DE-e1d8c747-3cfa-4c58-9e76-384496ee2848   \n",
       "\n",
       "                                  scheme_id   amount_euro nuts_3 zipcode  \\\n",
       "0  6dad17c8263e5cb9facdeffe3646b63ba29d3697  20096.619141  DED21   01067   \n",
       "1  6d2e1f161da5e1c75dde51ce939eb10cf54823c4   5031.020020  DED21   01067   \n",
       "2  2ac147167a663b2d2f6fde77a287b90acdd4e4e1   6307.560059  DED21   01067   \n",
       "3  6d2e1f161da5e1c75dde51ce939eb10cf54823c4    358.760010  DED21   01067   \n",
       "4  2ac147167a663b2d2f6fde77a287b90acdd4e4e1    436.410004  DED21   01067   \n",
       "\n",
       "   longitude  latitude  \n",
       "0    13.7269   51.0547  \n",
       "1    13.7269   51.0547  \n",
       "2    13.7269   51.0547  \n",
       "3    13.7269   51.0547  \n",
       "4    13.7269   51.0547  "
      ]
     },
     "execution_count": 138,
     "metadata": {},
     "output_type": "execute_result"
    }
   ],
   "source": [
    "data.head()"
   ]
  },
  {
   "cell_type": "code",
   "execution_count": 165,
   "metadata": {},
   "outputs": [],
   "source": [
    "import pandas as pd\n",
    "import plotly.express  as px\n",
    "import plotly.offline as py\n",
    "from plotly.graph_objects import Scattergeo, Layout\n",
    "\n",
    "data_filtered = data[\n",
    "    (data[\"year\"] == 2014)]\n",
    "\n",
    "# Extract the NUTS 3 region names from the 'nuts_3' column\n",
    "nuts3_names = list(data_filtered[\"nuts_3\"].unique())\n",
    "\n"
   ]
  },
  {
   "cell_type": "code",
   "execution_count": 147,
   "metadata": {},
   "outputs": [],
   "source": [
    "# Create a dictionary to store the latitude, longitude, and subsidy data for each NUTS 3 region\n",
    "nuts3_names = list(data_filtered[\"nuts_3\"].unique())\n",
    "\n",
    "subsidy_data = {}\n",
    "for nuts3_name in nuts3_names:\n",
    "    latitude = data_filtered[data_filtered[\"nuts_3\"] == nuts3_name][\"latitude\"].mean()\n",
    "    longitude = data_filtered[data_filtered[\"nuts_3\"] == nuts3_name][\"longitude\"].mean()\n",
    "    total_subsidy = data_filtered[data_filtered[\"nuts_3\"] == nuts3_name][\"amount_euro\"].sum()\n",
    "\n",
    "    subsidy_data[nuts3_name] = {\"latitude\": latitude, \"longitude\": longitude, \"subsidy\": total_subsidy}\n",
    "\n"
   ]
  },
  {
   "cell_type": "code",
   "execution_count": 152,
   "metadata": {},
   "outputs": [],
   "source": [
    "subsidy_data_df = pd.DataFrame.from_dict(subsidy_data, orient=\"index\", columns=[\"latitude\", \"longitude\", \"subsidy\"])"
   ]
  },
  {
   "cell_type": "code",
   "execution_count": 157,
   "metadata": {},
   "outputs": [
    {
     "data": {
      "text/plain": [
       "DED21    51.186340\n",
       "DE407    51.616895\n",
       "DED2C    50.792553\n",
       "DED2E    51.236227\n",
       "DE40B    51.688160\n",
       "           ...    \n",
       "DEG01    50.981490\n",
       "DEG05    50.982188\n",
       "DE262    50.041842\n",
       "DEG07    51.494830\n",
       "DEG0N    50.980700\n",
       "Name: latitude, Length: 400, dtype: float64"
      ]
     },
     "execution_count": 157,
     "metadata": {},
     "output_type": "execute_result"
    }
   ],
   "source": [
    "subsidy_data_df[\"latitude\"]"
   ]
  },
  {
   "cell_type": "code",
   "execution_count": 161,
   "metadata": {},
   "outputs": [
    {
     "data": {
      "application/vnd.plotly.v1+json": {
       "config": {
        "plotlyServerURL": "https://plot.ly"
       },
       "data": [
        {
         "geo": "geo",
         "hovertemplate": "latitude=%{lat}<br>longitude=%{lon}<br>subsidy=%{marker.color}<extra></extra>",
         "lat": [
          51.186339714285715,
          51.61689452596256,
          50.79255267648435,
          51.23622662027832,
          51.688160087278,
          51.842181845463934,
          50.9299051257007,
          52.55741399163361,
          52.84966826588354,
          52.42253655723906,
          52.246969980992404,
          52.108971502757456,
          53.769881958199065,
          52.94304875962285,
          53.56027217226716,
          54.186959795322835,
          52.7983813080232,
          52.61617962550858,
          52.351879309430856,
          53.051904075870155,
          52.00293405846531,
          48.92936835511982,
          53.74343418091627,
          49.84733259234316,
          54.426131292609355,
          48.65765999436937,
          51.516821257387846,
          51.82208804169951,
          54.11193640256025,
          54.564673255789955,
          53.42037728942595,
          53.91939055026315,
          52.41524426666666,
          50.98321183715679,
          52.337902964436736,
          53.14577804498387,
          50.91502978891479,
          53.51980453178691,
          51.99240147598709,
          49.410675031210985,
          51.07516979166667,
          48.577885867105536,
          49.15238538175046,
          53.417798888888896,
          52.479758770312884,
          48.205317565289256,
          52.22015498947401,
          51.14352376741693,
          53.59244668612767,
          51.764717307692315,
          51.771352381099376,
          48.783726503198295,
          51.475811386918835,
          51.32191521739132,
          51.20799391941392,
          52.10518333333334,
          50.9457023278237,
          51.421073341063945,
          50.87796307581521,
          51.99761956587766,
          51.564744663076084,
          51.780240393907,
          51.15947512190495,
          49.900814019901354,
          51.30381270494417,
          51.15934275350645,
          50.9399774512305,
          51.86189784946237,
          50.65705798918387,
          50.602521914998356,
          50.87598706563707,
          50.72441571094403,
          50.91038135135134,
          50.37653202040816,
          50.47784908067542,
          50.38564429892054,
          50.62319288900326,
          50.793795312499995,
          48.04287848074704,
          54.091809166666664,
          53.913844332235904,
          53.792256201902035,
          54.21839292851221,
          53.648653743315506,
          52.8934207774799,
          53.711206322427806,
          54.071618055555554,
          53.32813831775701,
          54.263014288034675,
          49.49003564763996,
          50.54369726949848,
          53.56928635537013,
          52.50425161290322,
          53.61388522200772,
          53.72395667563929,
          54.166284477853324,
          54.338916830870275,
          47.732176555652934,
          51.50072226890757,
          54.75595178571428,
          51.67287891848265,
          48.391524272023354,
          52.57670003850385,
          53.57022924168489,
          53.27678597525773,
          53.14909402985074,
          53.220501367187495,
          52.99445291953664,
          52.87831836734694,
          53.51513928720609,
          53.56323333333334,
          53.3673394265233,
          53.48121806666878,
          52.724063702979684,
          48.885320085930786,
          53.237733377994324,
          53.360134693877555,
          52.747212537878795,
          52.81418461760462,
          52.601654506285136,
          52.91886018802371,
          49.98362685725733,
          53.571485714285714,
          52.665475781291036,
          53.22150095323741,
          53.04224999999999,
          52.68921043566363,
          52.99398751891074,
          53.02032128611069,
          52.41602739852399,
          51.89056034391535,
          52.104985047619046,
          52.100388952164,
          52.3090660472973,
          49.95168697213808,
          52.29465731146305,
          52.16990443925234,
          52.34796112107624,
          52.00040899742932,
          51.709385385385374,
          51.67344370434035,
          52.27084649085978,
          51.92886603844703,
          51.01583466878223,
          51.281534467821785,
          51.24650903426791,
          51.549174344279216,
          51.30034245996441,
          51.18629528965129,
          50.73814893908282,
          50.63625066864783,
          50.576955313351505,
          50.60930719249478,
          50.402693618960804,
          50.56423930071659,
          50.89479368318756,
          51.16146988906498,
          50.80958460185185,
          52.290356379310325,
          51.74847198792198,
          52.116161033388074,
          52.10035359428852,
          52.25615659013605,
          50.35890090786819,
          51.367235296786404,
          50.277760565411796,
          47.765311301684534,
          50.94220427612863,
          51.932961577557755,
          50.42393241997497,
          52.407517996289414,
          51.22541632653061,
          51.26875208333333,
          51.14692604166666,
          51.165010691823916,
          51.26010409836064,
          51.2924833939394,
          51.16537454545455,
          51.417872580645145,
          51.6874318805093,
          51.345148735244514,
          51.19220634920636,
          51.515729496402884,
          51.956542549575076,
          51.6140997273347,
          51.34207238095239,
          51.41941775700935,
          51.84433788417987,
          52.21209343610144,
          52.36437449339208,
          52.656011232765614,
          51.04451984126984,
          51.469216145833336,
          51.576887804878055,
          51.411061261261274,
          51.86982437195351,
          52.276056716417905,
          50.55765450643778,
          51.52124444444445,
          51.5479,
          51.5862793902439,
          48.077679229661626,
          47.95885091186541,
          51.60178803418801,
          50.450746244301875,
          51.01340961251863,
          50.94020526315789,
          50.701537250293775,
          50.823191666666666,
          50.71611764705882,
          50.57177552447552,
          50.7416838107928,
          49.75450568498168,
          50.55132715489306,
          49.72217706892713,
          50.90123525498891,
          51.04977291666666,
          50.146910648658434,
          50.055968975295954,
          50.24629891195456,
          49.46612388059702,
          50.738758866861474,
          47.78533074908328,
          50.03342297964912,
          49.755929166753695,
          49.810397001135534,
          49.97823851851853,
          50.24473515560626,
          49.27379642857142,
          50.92191952952512,
          50.32002864940014,
          50.35840967741933,
          50.313840267857145,
          50.02939139784946,
          51.254751034302174,
          51.663317696629214,
          50.26662354525863,
          51.582691260162605,
          50.02457174887893,
          49.9685,
          49.57957642124884,
          49.8851,
          49.69707848410758,
          49.228254861904766,
          50.11291538461539,
          49.69378803589232,
          49.87972233009709,
          50.13965273396425,
          49.629354981884056,
          50.08420492957746,
          48.45064802102152,
          49.37202638342512,
          49.25348666666667,
          50.093917289719634,
          49.24453017704047,
          49.515159347181,
          49.48024279176201,
          49.360529054054055,
          49.545800541289125,
          49.46279430122401,
          49.490663951120155,
          49.43870385273973,
          49.384793959731546,
          49.489119354838714,
          49.203962499999996,
          49.643817556511614,
          50.38475991449767,
          49.13576925925927,
          49.5386,
          49.18772575325216,
          49.62717109826589,
          48.47974017971759,
          49.44488870967741,
          48.90281888586957,
          49.50853260869566,
          49.3537472727273,
          49.40793272171255,
          48.667353490566036,
          49.07678360814743,
          47.72040713259441,
          48.90759919246299,
          48.6345906291834,
          48.25891945846718,
          48.46367489239597,
          47.78258518102091,
          49.31653636363635,
          49.139561649717514,
          49.53199099440895,
          48.654949364613884,
          48.25680179839091,
          48.10484506643559,
          48.425325002843174,
          49.28165986206896,
          49.143228104575165,
          48.64339160104986,
          48.08924616136919,
          49.708921006641035,
          48.313763105590056,
          48.88316363636363,
          48.23130344890846,
          49.001682539682555,
          48.75585810810812,
          47.82250231866824,
          48.022589646643105,
          47.9952085106383,
          48.132962485448196,
          48.75851532258065,
          49.193929203007514,
          49.00946639503299,
          49.898837555991044,
          47.6849031888112,
          49.04428825861543,
          48.18808007246377,
          48.005331769436985,
          48.08027666666667,
          47.601085292761645,
          47.850293743693236,
          47.87597587247689,
          47.90576475427351,
          48.05918872912802,
          47.75681861495845,
          48.53863890198719,
          48.91751568734627,
          47.782882726909236,
          48.65892949438202,
          48.85629425552988,
          48.434947567716975,
          48.24682799329502,
          48.421008017503006,
          47.84824130434784,
          48.52842575757577,
          49.758481384901025,
          49.31749773816531,
          48.29709948364887,
          48.74994199288256,
          49.54537618368512,
          48.6107050862069,
          48.91552961730449,
          48.22439172683514,
          48.576910494958746,
          48.396556595648235,
          48.33447014729091,
          48.64387996832938,
          48.86253923495974,
          47.82037017082786,
          47.614225427275905,
          48.09258592383639,
          47.72006609442061,
          48.58828372257607,
          47.98369999999999,
          50.34038764011799,
          47.88240000000001,
          50.04738746789933,
          48.41032183908045,
          49.474853881278534,
          49.24351910256411,
          49.47698829183049,
          49.6607124228395,
          49.490027344521216,
          49.18269615668884,
          49.56814188886172,
          49.18055974304069,
          49.68840970193741,
          49.50211368494423,
          49.870206932707354,
          49.48823673469388,
          49.23457258398344,
          49.0214790909091,
          49.3048,
          49.03975616806723,
          49.891416733929084,
          49.58864835164836,
          49.62429813664597,
          49.3082,
          49.442899999999995,
          49.683549999999975,
          48.80686073992269,
          50.261251899827286,
          50.09050629770992,
          49.888022368421055,
          50.26798399758455,
          50.066703757115754,
          48.79338633059419,
          50.08979779853235,
          48.901262647058836,
          50.3128041000695,
          48.5790711111111,
          50.25939999999999,
          49.791044370860945,
          50.39745437710437,
          50.01853676554477,
          50.229467693522906,
          50.41447331501831,
          50.60285714285713,
          50.627927685364746,
          50.981490322580655,
          50.9821875,
          50.041842307692306,
          51.49482982409951,
          50.980700000000006
         ],
         "legendgroup": "",
         "lon": [
          13.58488666666667,
          13.434729007472553,
          14.07327976390837,
          13.516385290479347,
          13.958000112040802,
          10.988902190610153,
          13.136635646339391,
          13.386240246570493,
          13.169500136667931,
          13.034618164983163,
          12.66973968141802,
          13.25369123793909,
          13.669140782905021,
          12.575277188416123,
          12.932555097751267,
          12.96791676372798,
          13.686986135149715,
          12.616171885033063,
          13.761694317245068,
          11.92187284187809,
          13.869718227544503,
          9.573931318082789,
          12.10212520048771,
          7.495128671053749,
          9.578352700395179,
          9.72582662148756,
          13.721497809381699,
          11.762440438278034,
          9.102076711832071,
          8.9160417547963,
          11.385578298916466,
          9.512561645930704,
          12.528225955555554,
          12.233384796546613,
          14.421303665978522,
          13.77354311553589,
          13.852714930069931,
          10.050048052660713,
          8.980817601851323,
          11.218162172284641,
          7.946070461309523,
          13.306147459370498,
          9.169369459962756,
          11.670203472222223,
          7.017782323550813,
          11.56548361322314,
          11.301166823987186,
          14.744524236972387,
          10.674845534826357,
          14.329725,
          14.341156549380916,
          9.23300103411514,
          12.802645558932793,
          12.297791304347824,
          12.610513717948718,
          11.639633333333332,
          12.392282410468322,
          11.838987617678077,
          10.82940897560132,
          9.283141906507476,
          11.646442325537901,
          12.06543116210249,
          11.811136480940203,
          8.132817839671484,
          11.030363484316853,
          11.178787311079846,
          11.648267529345071,
          12.22960107526882,
          11.322952187807276,
          11.748850663494148,
          12.129858108108106,
          12.07646870357588,
          11.6052072972973,
          11.360753612244899,
          12.239584559099438,
          12.301909577782883,
          12.945339749528221,
          12.928853125,
          8.385424530479488,
          12.183672371794872,
          10.145598087762826,
          11.172164666793002,
          10.360913837064675,
          10.169637005347596,
          10.27814889968722,
          10.322457927674341,
          9.999684722222222,
          9.961071534267912,
          9.758079617852484,
          9.339565340285398,
          8.92990898148304,
          9.435066126444159,
          9.693456356736244,
          8.826728200772202,
          9.729999914759981,
          10.824797326997691,
          10.111592200328404,
          9.848521351884312,
          7.6304470588235285,
          9.45193392857143,
          6.2894229055690065,
          9.520511701574003,
          10.600790198019801,
          7.7125646093443265,
          9.275769993323514,
          8.213932835820895,
          8.027634082031252,
          8.411940536944272,
          7.924861787473611,
          7.99151988544946,
          8.098907936507937,
          8.406861111111112,
          7.38610609152752,
          7.424686175582014,
          10.08511214514491,
          7.5020605278116115,
          7.216561224489797,
          8.719618657135875,
          9.2832670995671,
          9.095037880590658,
          9.709066490905375,
          9.675748609203296,
          8.59307142857143,
          11.174154736403498,
          8.827505053956834,
          8.649995652173915,
          10.115135258358663,
          10.560890090771558,
          11.109271513482874,
          9.70278860701107,
          9.544551613756612,
          9.95447092063492,
          9.378085990888383,
          10.262072128378378,
          6.998621126925298,
          9.204912890150641,
          8.631993691588786,
          8.658258654708522,
          8.596194858611824,
          9.192874924924926,
          8.682955436183926,
          12.00844937213602,
          8.357558144418716,
          9.356939547798493,
          9.37860488861386,
          9.29134119937695,
          10.075559791408509,
          8.433870217971531,
          8.877174311023623,
          9.032766427104722,
          8.376330704733602,
          8.81171425976385,
          9.276990537410239,
          8.21946709206928,
          9.788684519397084,
          9.750122691933916,
          9.941323085050184,
          10.129584600308643,
          10.565059913793103,
          9.874807098307098,
          10.3633789819376,
          10.576542210030247,
          10.881096215986394,
          8.928912104909212,
          10.216266992087709,
          9.366791374585317,
          9.422296758550281,
          10.70136627365492,
          10.352514435643565,
          7.919564697921442,
          10.791987012987013,
          6.807677551020406,
          6.980843666666667,
          6.632838194444444,
          6.394538364779876,
          7.176622131147541,
          6.354619515151516,
          7.063138181818184,
          6.883608064516127,
          7.170177668952007,
          7.322888364249578,
          7.236939682539684,
          7.476705755395683,
          6.899325694050992,
          6.62819754601227,
          6.553899047619045,
          7.024323364485982,
          7.44233299902944,
          7.566142366981601,
          8.044977907488986,
          8.216865896188159,
          6.130633333333333,
          7.350194270833334,
          7.075682926829269,
          6.733239639639638,
          7.966427409073867,
          8.045245522388061,
          7.977538483547925,
          6.824877777777779,
          7.2107052631578945,
          7.6404902439024385,
          9.275381779457645,
          7.973055910376657,
          6.916263247863248,
          7.025096568716478,
          7.505301266766022,
          6.967619298245615,
          6.209439365452408,
          6.437300686274511,
          7.111296078431373,
          7.488977983682984,
          7.303457961359095,
          6.625757194139195,
          6.643870576798444,
          6.681155669168107,
          6.725186696230597,
          7.025441666666666,
          7.161709761540906,
          6.408982382859549,
          6.782299418392764,
          9.09553582089552,
          7.692055528587794,
          9.769365409463944,
          7.486896990211458,
          8.151961369520736,
          7.693175102792066,
          8.244606682427108,
          7.856464056331501,
          7.4019892857142855,
          11.107933965614563,
          7.317359241573375,
          7.549014516129034,
          11.869374196428572,
          9.199556204591687,
          7.689789787902592,
          7.810086235955056,
          8.523155441810346,
          8.21201524390244,
          8.804104932735424,
          9.156326086956526,
          9.879415657036347,
          8.653941999999999,
          8.916780684596576,
          7.258900695238096,
          8.777892307692309,
          8.947699401794615,
          8.465334223300971,
          8.080484700315457,
          8.688783514492755,
          8.304123943661974,
          8.448138331417312,
          8.774175111460794,
          6.951977333333335,
          8.459394392523365,
          7.541207850406623,
          7.109659020771513,
          6.6715217391304344,
          6.788695945945945,
          8.729919225242593,
          7.630514709087861,
          8.1865583503055,
          8.342333390410959,
          7.058575838926174,
          8.40544193548387,
          7.596953125000001,
          7.911957494833147,
          10.215397720985791,
          8.236108258471237,
          8.354,
          8.095169763076543,
          8.318768786127169,
          8.977339666238768,
          7.7467870967741925,
          9.312981861413045,
          8.526897826086957,
          8.138712727272727,
          8.830514067278287,
          8.918898113207549,
          8.604740834141609,
          7.7968450605500825,
          8.740015746971736,
          9.387399163319948,
          8.928707526388253,
          8.498086657101865,
          11.02930647627614,
          8.434790909090912,
          9.904197122410547,
          9.77158228168264,
          8.67256891495601,
          8.49811919072409,
          9.783936533795494,
          9.855496679176618,
          9.609412827586205,
          9.190343790849674,
          10.17365927384077,
          10.99741531784841,
          11.189040650122335,
          10.116071428571429,
          8.707969696969696,
          12.695044276279583,
          8.393458730158732,
          8.143847297297299,
          9.006304280618313,
          8.802101660777385,
          7.856892553191488,
          7.913849767171129,
          8.187370000000001,
          8.060154917293232,
          13.033181155413272,
          12.194979829227323,
          8.207583179487179,
          10.883988197621225,
          11.196764492753621,
          11.259083378016086,
          11.655329430894309,
          11.138743430152145,
          11.505532172889337,
          12.180074306734578,
          12.61198123931624,
          11.935496474953617,
          12.927324986149584,
          12.203065308184573,
          12.630194247062038,
          11.82437548980408,
          12.542101264044943,
          11.83007821063057,
          11.058292730790491,
          12.338125550766284,
          12.820814288234878,
          12.105117391304349,
          12.144531313131312,
          10.25896144348891,
          12.289126441324028,
          12.017388640275389,
          11.421778647686832,
          10.110275841414717,
          11.832893275862068,
          11.368952312811981,
          11.183178309265946,
          11.509573006416133,
          10.719959168177697,
          10.38582682798527,
          11.231455977830562,
          10.713419339175745,
          10.635948132156935,
          10.26076607080572,
          10.397469181946404,
          10.313166523605151,
          10.528485774946923,
          10.185300000000002,
          11.16057518905873,
          10.621899999999997,
          11.095593091936312,
          9.975945114942528,
          11.041934703196345,
          10.478762767722472,
          10.839807820008737,
          10.88071156121399,
          11.77637436656795,
          11.156418058635131,
          10.478162016878668,
          11.590104114408074,
          12.164293144560357,
          11.394865148698884,
          11.515176830985915,
          10.974242857142858,
          12.685721779971344,
          12.107798181818188,
          10.593099999999996,
          12.154065899159663,
          10.927591697895645,
          10.976543681318683,
          11.38020745341615,
          11.025433333333336,
          11.862700000000002,
          12.19175,
          13.524297846493651,
          11.831973690270582,
          11.476566412213739,
          10.889984210526318,
          10.95158786231884,
          10.611658102466793,
          13.019429092920355,
          12.056451100733824,
          12.651146764705883,
          11.340924530924253,
          13.410842222222222,
          10.9638,
          9.934860264900665,
          11.130120202020203,
          10.233055847119223,
          9.951263902053713,
          10.726785959821427,
          10.698464285714284,
          10.392823549133329,
          11.024599354838713,
          11.279517857142855,
          10.220676923076923,
          10.71894509920635,
          10.3152
         ],
         "marker": {
          "color": [
           2437250.75,
           34567936,
           55810576,
           48541624,
           18429872,
           44332652,
           70641208,
           5840335,
           25150898,
           31273368,
           42720440,
           30171476,
           92016112,
           45642992,
           111722976,
           83213792,
           17615036,
           39371372,
           46499048,
           45305096,
           31858124,
           10555350,
           94967768,
           8053979.5,
           54432140,
           10109376,
           33468084,
           61418940,
           37261780,
           69231256,
           112286648,
           24511836,
           1700966.125,
           38050072,
           2741847,
           57969312,
           47872416,
           8787108,
           21642208,
           2206682,
           8285475,
           33775360,
           20730646,
           9245478,
           22722740,
           6803956.5,
           58119904,
           43386136,
           29068596,
           2153916.5,
           25364296,
           11177951,
           46530960,
           2667056.75,
           47239936,
           24829844,
           13782044,
           41936604,
           40062504,
           5091417.5,
           38159012,
           36771480,
           39939988,
           10230339,
           21596824,
           21836970,
           19478366,
           3439733.75,
           16517412,
           22579972,
           1881724.75,
           21505772,
           4938283.5,
           13750527,
           35791112,
           29867798,
           45065648,
           559946,
           17497702,
           1250479.5,
           28773658,
           48015936,
           25164236,
           8687499,
           31825740,
           17544824,
           2409942.75,
           20051706,
           51535696,
           16357038,
           9164588,
           36872792,
           8617872,
           53663384,
           14108255,
           32546708,
           2008163.375,
           6605147,
           823222.0625,
           155777.125,
           31887386,
           16729246,
           30716094,
           16620529,
           49299228,
           1035997.375,
           16465403,
           26037564,
           30678904,
           18658200,
           1394185.375,
           22335662,
           37513712,
           70370896,
           23029846,
           29702056,
           2792605.75,
           48659632,
           18652984,
           33346788,
           27334024,
           12316384,
           118614.328125,
           49697376,
           16841212,
           1125755,
           19747472,
           29804264,
           24349388,
           45078960,
           10317900,
           26875344,
           16393124,
           14284576,
           14211350,
           13375244,
           7801086,
           21925804,
           4658160,
           19851310,
           22547664,
           34000068,
           21090308,
           23978380,
           15933914,
           836941.5625,
           31816216,
           17155870,
           23472188,
           19439276,
           8859338,
           10785030,
           23639834,
           10055477,
           21871844,
           11835020,
           12856582,
           24478776,
           2701051,
           21825028,
           3901833.5,
           18471976,
           14641640,
           15622009,
           19914000,
           15094410,
           14215398,
           19744440,
           12087448,
           10400356,
           3078260,
           2295409,
           4945216,
           10042776,
           2147682.25,
           1335865.125,
           11037192,
           509231.46875,
           613718.4375,
           9394210,
           5336853.5,
           608692.9375,
           1868168.5,
           34495820,
           16493822,
           1412209.625,
           1323864.125,
           32288848,
           38911404,
           48740864,
           29458818,
           13770878,
           717392.75,
           434517.09375,
           1152624.375,
           27969720,
           1313236.25,
           6172993,
           182580.234375,
           169383.84375,
           9858021,
           20245352,
           23042538,
           1365988.375,
           6555491,
           12641771,
           5034304.5,
           10689614,
           18138608,
           3942512.75,
           5102385,
           18183028,
           1286112,
           19534668,
           12073426,
           11133970,
           606506,
           7222543,
           24655806,
           11677996,
           2375373,
           6047623.5,
           23871644,
           12743238,
           13354298,
           10273942,
           8644275,
           8731904,
           826266.25,
           21314438,
           11095152,
           547114.875,
           1989519,
           6502746,
           12023482,
           4365443,
           3689215,
           28542014,
           2063871.875,
           1080736.125,
           7729291,
           847718.5,
           8165957.5,
           5217635,
           89671.640625,
           6037707.5,
           4422491,
           8013067,
           8218736.5,
           2282903.25,
           26029044,
           11873980,
           2540929,
           2244885.25,
           5914955,
           5159999,
           5823336.5,
           4711403.5,
           10437030,
           5853204.5,
           5475890.5,
           9641170,
           2200350.5,
           408622.65625,
           339731.6875,
           10258765,
           18746396,
           4673826,
           656834.375,
           7927858,
           2001691.5,
           7614878.5,
           376661.9375,
           12129963,
           2877102.75,
           1400520.25,
           665467.5,
           7731947,
           13809541,
           10073804,
           6416089,
           6842478.5,
           16325600,
           7935239,
           23727016,
           178577.46875,
           27245068,
           22755374,
           6900043,
           11241608,
           25054060,
           22632328,
           15483848,
           1806975.75,
           10869696,
           15318746,
           11478116,
           6940345,
           305104.1875,
           11018326,
           729790.0625,
           600194.75,
           13776902,
           10830414,
           2456385.25,
           7045136,
           4916415,
           648257.125,
           14255678,
           22101290,
           17094028,
           18562884,
           7781371,
           5696673,
           6822535.5,
           9519972,
           14322472,
           26646652,
           25786068,
           9212358,
           5933842.5,
           28626020,
           26203336,
           12753111,
           16133059,
           21049214,
           16381638,
           14706361,
           26701806,
           609414.4375,
           1739911.625,
           15806082,
           27189964,
           21005208,
           2523441,
           20004318,
           18345008,
           21403360,
           15142642,
           16208840,
           17552556,
           16394013,
           14909042,
           28903346,
           33213178,
           33021876,
           27551592,
           1984181.375,
           15840791,
           974479.3125,
           23736180,
           411683.6875,
           9843255,
           2380885.5,
           1489375.5,
           39065648,
           6117619,
           6262089.5,
           18769934,
           13442339,
           28623322,
           17400608,
           18103584,
           10692826,
           21952886,
           779222.8125,
           27752160,
           1589054.5,
           7509839.5,
           22446940,
           20376652,
           1037495.9375,
           3439757,
           460661.03125,
           1206483.875,
           1275963.25,
           15208570,
           18846572,
           14245896,
           4980853.5,
           13008026,
           18067588,
           17893288,
           11360468,
           2234516.5,
           9196183,
           502891.28125,
           444186.96875,
           8001052,
           4180893,
           17258220,
           18112000,
           12196412,
           338764.875,
           20950178,
           7026421,
           1017332.6875,
           316379.5625,
           13430299,
           1775096.375
          ],
          "coloraxis": "coloraxis",
          "symbol": "circle"
         },
         "mode": "markers",
         "name": "",
         "showlegend": false,
         "type": "scattergeo"
        }
       ],
       "layout": {
        "coloraxis": {
         "colorbar": {
          "title": {
           "text": "subsidy"
          }
         },
         "colorscale": [
          [
           0,
           "#0d0887"
          ],
          [
           0.1111111111111111,
           "#46039f"
          ],
          [
           0.2222222222222222,
           "#7201a8"
          ],
          [
           0.3333333333333333,
           "#9c179e"
          ],
          [
           0.4444444444444444,
           "#bd3786"
          ],
          [
           0.5555555555555556,
           "#d8576b"
          ],
          [
           0.6666666666666666,
           "#ed7953"
          ],
          [
           0.7777777777777778,
           "#fb9f3a"
          ],
          [
           0.8888888888888888,
           "#fdca26"
          ],
          [
           1,
           "#f0f921"
          ]
         ]
        },
        "geo": {
         "center": {},
         "domain": {
          "x": [
           0,
           1
          ],
          "y": [
           0,
           1
          ]
         }
        },
        "legend": {
         "tracegroupgap": 0
        },
        "margin": {
         "t": 60
        },
        "template": {
         "data": {
          "bar": [
           {
            "error_x": {
             "color": "#2a3f5f"
            },
            "error_y": {
             "color": "#2a3f5f"
            },
            "marker": {
             "line": {
              "color": "#E5ECF6",
              "width": 0.5
             },
             "pattern": {
              "fillmode": "overlay",
              "size": 10,
              "solidity": 0.2
             }
            },
            "type": "bar"
           }
          ],
          "barpolar": [
           {
            "marker": {
             "line": {
              "color": "#E5ECF6",
              "width": 0.5
             },
             "pattern": {
              "fillmode": "overlay",
              "size": 10,
              "solidity": 0.2
             }
            },
            "type": "barpolar"
           }
          ],
          "carpet": [
           {
            "aaxis": {
             "endlinecolor": "#2a3f5f",
             "gridcolor": "white",
             "linecolor": "white",
             "minorgridcolor": "white",
             "startlinecolor": "#2a3f5f"
            },
            "baxis": {
             "endlinecolor": "#2a3f5f",
             "gridcolor": "white",
             "linecolor": "white",
             "minorgridcolor": "white",
             "startlinecolor": "#2a3f5f"
            },
            "type": "carpet"
           }
          ],
          "choropleth": [
           {
            "colorbar": {
             "outlinewidth": 0,
             "ticks": ""
            },
            "type": "choropleth"
           }
          ],
          "contour": [
           {
            "colorbar": {
             "outlinewidth": 0,
             "ticks": ""
            },
            "colorscale": [
             [
              0,
              "#0d0887"
             ],
             [
              0.1111111111111111,
              "#46039f"
             ],
             [
              0.2222222222222222,
              "#7201a8"
             ],
             [
              0.3333333333333333,
              "#9c179e"
             ],
             [
              0.4444444444444444,
              "#bd3786"
             ],
             [
              0.5555555555555556,
              "#d8576b"
             ],
             [
              0.6666666666666666,
              "#ed7953"
             ],
             [
              0.7777777777777778,
              "#fb9f3a"
             ],
             [
              0.8888888888888888,
              "#fdca26"
             ],
             [
              1,
              "#f0f921"
             ]
            ],
            "type": "contour"
           }
          ],
          "contourcarpet": [
           {
            "colorbar": {
             "outlinewidth": 0,
             "ticks": ""
            },
            "type": "contourcarpet"
           }
          ],
          "heatmap": [
           {
            "colorbar": {
             "outlinewidth": 0,
             "ticks": ""
            },
            "colorscale": [
             [
              0,
              "#0d0887"
             ],
             [
              0.1111111111111111,
              "#46039f"
             ],
             [
              0.2222222222222222,
              "#7201a8"
             ],
             [
              0.3333333333333333,
              "#9c179e"
             ],
             [
              0.4444444444444444,
              "#bd3786"
             ],
             [
              0.5555555555555556,
              "#d8576b"
             ],
             [
              0.6666666666666666,
              "#ed7953"
             ],
             [
              0.7777777777777778,
              "#fb9f3a"
             ],
             [
              0.8888888888888888,
              "#fdca26"
             ],
             [
              1,
              "#f0f921"
             ]
            ],
            "type": "heatmap"
           }
          ],
          "heatmapgl": [
           {
            "colorbar": {
             "outlinewidth": 0,
             "ticks": ""
            },
            "colorscale": [
             [
              0,
              "#0d0887"
             ],
             [
              0.1111111111111111,
              "#46039f"
             ],
             [
              0.2222222222222222,
              "#7201a8"
             ],
             [
              0.3333333333333333,
              "#9c179e"
             ],
             [
              0.4444444444444444,
              "#bd3786"
             ],
             [
              0.5555555555555556,
              "#d8576b"
             ],
             [
              0.6666666666666666,
              "#ed7953"
             ],
             [
              0.7777777777777778,
              "#fb9f3a"
             ],
             [
              0.8888888888888888,
              "#fdca26"
             ],
             [
              1,
              "#f0f921"
             ]
            ],
            "type": "heatmapgl"
           }
          ],
          "histogram": [
           {
            "marker": {
             "pattern": {
              "fillmode": "overlay",
              "size": 10,
              "solidity": 0.2
             }
            },
            "type": "histogram"
           }
          ],
          "histogram2d": [
           {
            "colorbar": {
             "outlinewidth": 0,
             "ticks": ""
            },
            "colorscale": [
             [
              0,
              "#0d0887"
             ],
             [
              0.1111111111111111,
              "#46039f"
             ],
             [
              0.2222222222222222,
              "#7201a8"
             ],
             [
              0.3333333333333333,
              "#9c179e"
             ],
             [
              0.4444444444444444,
              "#bd3786"
             ],
             [
              0.5555555555555556,
              "#d8576b"
             ],
             [
              0.6666666666666666,
              "#ed7953"
             ],
             [
              0.7777777777777778,
              "#fb9f3a"
             ],
             [
              0.8888888888888888,
              "#fdca26"
             ],
             [
              1,
              "#f0f921"
             ]
            ],
            "type": "histogram2d"
           }
          ],
          "histogram2dcontour": [
           {
            "colorbar": {
             "outlinewidth": 0,
             "ticks": ""
            },
            "colorscale": [
             [
              0,
              "#0d0887"
             ],
             [
              0.1111111111111111,
              "#46039f"
             ],
             [
              0.2222222222222222,
              "#7201a8"
             ],
             [
              0.3333333333333333,
              "#9c179e"
             ],
             [
              0.4444444444444444,
              "#bd3786"
             ],
             [
              0.5555555555555556,
              "#d8576b"
             ],
             [
              0.6666666666666666,
              "#ed7953"
             ],
             [
              0.7777777777777778,
              "#fb9f3a"
             ],
             [
              0.8888888888888888,
              "#fdca26"
             ],
             [
              1,
              "#f0f921"
             ]
            ],
            "type": "histogram2dcontour"
           }
          ],
          "mesh3d": [
           {
            "colorbar": {
             "outlinewidth": 0,
             "ticks": ""
            },
            "type": "mesh3d"
           }
          ],
          "parcoords": [
           {
            "line": {
             "colorbar": {
              "outlinewidth": 0,
              "ticks": ""
             }
            },
            "type": "parcoords"
           }
          ],
          "pie": [
           {
            "automargin": true,
            "type": "pie"
           }
          ],
          "scatter": [
           {
            "fillpattern": {
             "fillmode": "overlay",
             "size": 10,
             "solidity": 0.2
            },
            "type": "scatter"
           }
          ],
          "scatter3d": [
           {
            "line": {
             "colorbar": {
              "outlinewidth": 0,
              "ticks": ""
             }
            },
            "marker": {
             "colorbar": {
              "outlinewidth": 0,
              "ticks": ""
             }
            },
            "type": "scatter3d"
           }
          ],
          "scattercarpet": [
           {
            "marker": {
             "colorbar": {
              "outlinewidth": 0,
              "ticks": ""
             }
            },
            "type": "scattercarpet"
           }
          ],
          "scattergeo": [
           {
            "marker": {
             "colorbar": {
              "outlinewidth": 0,
              "ticks": ""
             }
            },
            "type": "scattergeo"
           }
          ],
          "scattergl": [
           {
            "marker": {
             "colorbar": {
              "outlinewidth": 0,
              "ticks": ""
             }
            },
            "type": "scattergl"
           }
          ],
          "scattermapbox": [
           {
            "marker": {
             "colorbar": {
              "outlinewidth": 0,
              "ticks": ""
             }
            },
            "type": "scattermapbox"
           }
          ],
          "scatterpolar": [
           {
            "marker": {
             "colorbar": {
              "outlinewidth": 0,
              "ticks": ""
             }
            },
            "type": "scatterpolar"
           }
          ],
          "scatterpolargl": [
           {
            "marker": {
             "colorbar": {
              "outlinewidth": 0,
              "ticks": ""
             }
            },
            "type": "scatterpolargl"
           }
          ],
          "scatterternary": [
           {
            "marker": {
             "colorbar": {
              "outlinewidth": 0,
              "ticks": ""
             }
            },
            "type": "scatterternary"
           }
          ],
          "surface": [
           {
            "colorbar": {
             "outlinewidth": 0,
             "ticks": ""
            },
            "colorscale": [
             [
              0,
              "#0d0887"
             ],
             [
              0.1111111111111111,
              "#46039f"
             ],
             [
              0.2222222222222222,
              "#7201a8"
             ],
             [
              0.3333333333333333,
              "#9c179e"
             ],
             [
              0.4444444444444444,
              "#bd3786"
             ],
             [
              0.5555555555555556,
              "#d8576b"
             ],
             [
              0.6666666666666666,
              "#ed7953"
             ],
             [
              0.7777777777777778,
              "#fb9f3a"
             ],
             [
              0.8888888888888888,
              "#fdca26"
             ],
             [
              1,
              "#f0f921"
             ]
            ],
            "type": "surface"
           }
          ],
          "table": [
           {
            "cells": {
             "fill": {
              "color": "#EBF0F8"
             },
             "line": {
              "color": "white"
             }
            },
            "header": {
             "fill": {
              "color": "#C8D4E3"
             },
             "line": {
              "color": "white"
             }
            },
            "type": "table"
           }
          ]
         },
         "layout": {
          "annotationdefaults": {
           "arrowcolor": "#2a3f5f",
           "arrowhead": 0,
           "arrowwidth": 1
          },
          "autotypenumbers": "strict",
          "coloraxis": {
           "colorbar": {
            "outlinewidth": 0,
            "ticks": ""
           }
          },
          "colorscale": {
           "diverging": [
            [
             0,
             "#8e0152"
            ],
            [
             0.1,
             "#c51b7d"
            ],
            [
             0.2,
             "#de77ae"
            ],
            [
             0.3,
             "#f1b6da"
            ],
            [
             0.4,
             "#fde0ef"
            ],
            [
             0.5,
             "#f7f7f7"
            ],
            [
             0.6,
             "#e6f5d0"
            ],
            [
             0.7,
             "#b8e186"
            ],
            [
             0.8,
             "#7fbc41"
            ],
            [
             0.9,
             "#4d9221"
            ],
            [
             1,
             "#276419"
            ]
           ],
           "sequential": [
            [
             0,
             "#0d0887"
            ],
            [
             0.1111111111111111,
             "#46039f"
            ],
            [
             0.2222222222222222,
             "#7201a8"
            ],
            [
             0.3333333333333333,
             "#9c179e"
            ],
            [
             0.4444444444444444,
             "#bd3786"
            ],
            [
             0.5555555555555556,
             "#d8576b"
            ],
            [
             0.6666666666666666,
             "#ed7953"
            ],
            [
             0.7777777777777778,
             "#fb9f3a"
            ],
            [
             0.8888888888888888,
             "#fdca26"
            ],
            [
             1,
             "#f0f921"
            ]
           ],
           "sequentialminus": [
            [
             0,
             "#0d0887"
            ],
            [
             0.1111111111111111,
             "#46039f"
            ],
            [
             0.2222222222222222,
             "#7201a8"
            ],
            [
             0.3333333333333333,
             "#9c179e"
            ],
            [
             0.4444444444444444,
             "#bd3786"
            ],
            [
             0.5555555555555556,
             "#d8576b"
            ],
            [
             0.6666666666666666,
             "#ed7953"
            ],
            [
             0.7777777777777778,
             "#fb9f3a"
            ],
            [
             0.8888888888888888,
             "#fdca26"
            ],
            [
             1,
             "#f0f921"
            ]
           ]
          },
          "colorway": [
           "#636efa",
           "#EF553B",
           "#00cc96",
           "#ab63fa",
           "#FFA15A",
           "#19d3f3",
           "#FF6692",
           "#B6E880",
           "#FF97FF",
           "#FECB52"
          ],
          "font": {
           "color": "#2a3f5f"
          },
          "geo": {
           "bgcolor": "white",
           "lakecolor": "white",
           "landcolor": "#E5ECF6",
           "showlakes": true,
           "showland": true,
           "subunitcolor": "white"
          },
          "hoverlabel": {
           "align": "left"
          },
          "hovermode": "closest",
          "mapbox": {
           "style": "light"
          },
          "paper_bgcolor": "white",
          "plot_bgcolor": "#E5ECF6",
          "polar": {
           "angularaxis": {
            "gridcolor": "white",
            "linecolor": "white",
            "ticks": ""
           },
           "bgcolor": "#E5ECF6",
           "radialaxis": {
            "gridcolor": "white",
            "linecolor": "white",
            "ticks": ""
           }
          },
          "scene": {
           "xaxis": {
            "backgroundcolor": "#E5ECF6",
            "gridcolor": "white",
            "gridwidth": 2,
            "linecolor": "white",
            "showbackground": true,
            "ticks": "",
            "zerolinecolor": "white"
           },
           "yaxis": {
            "backgroundcolor": "#E5ECF6",
            "gridcolor": "white",
            "gridwidth": 2,
            "linecolor": "white",
            "showbackground": true,
            "ticks": "",
            "zerolinecolor": "white"
           },
           "zaxis": {
            "backgroundcolor": "#E5ECF6",
            "gridcolor": "white",
            "gridwidth": 2,
            "linecolor": "white",
            "showbackground": true,
            "ticks": "",
            "zerolinecolor": "white"
           }
          },
          "shapedefaults": {
           "line": {
            "color": "#2a3f5f"
           }
          },
          "ternary": {
           "aaxis": {
            "gridcolor": "white",
            "linecolor": "white",
            "ticks": ""
           },
           "baxis": {
            "gridcolor": "white",
            "linecolor": "white",
            "ticks": ""
           },
           "bgcolor": "#E5ECF6",
           "caxis": {
            "gridcolor": "white",
            "linecolor": "white",
            "ticks": ""
           }
          },
          "title": {
           "x": 0.05
          },
          "xaxis": {
           "automargin": true,
           "gridcolor": "white",
           "linecolor": "white",
           "ticks": "",
           "title": {
            "standoff": 15
           },
           "zerolinecolor": "white",
           "zerolinewidth": 2
          },
          "yaxis": {
           "automargin": true,
           "gridcolor": "white",
           "linecolor": "white",
           "ticks": "",
           "title": {
            "standoff": 15
           },
           "zerolinecolor": "white",
           "zerolinewidth": 2
          }
         }
        }
       }
      }
     },
     "metadata": {},
     "output_type": "display_data"
    }
   ],
   "source": [
    "fig = px.scatter_geo(subsidy_data_df, \n",
    "                    lat=\"latitude\",\n",
    "                    lon=\"longitude\",\n",
    "                    color=\"subsidy\")\n",
    "\n",
    "\n",
    "fig.show()"
   ]
  },
  {
   "cell_type": "code",
   "execution_count": 186,
   "metadata": {},
   "outputs": [],
   "source": [
    "import plotly.express as px\n",
    "token = \"pk.eyJ1Ijoibmljb3JvZXZlciIsImEiOiJjbHFjZmgwNmYwMWN5MmtrMnB0cXFzeHZxIn0.k_McexSZGPeL8QmDeqEDeg\"\n",
    "px.set_mapbox_access_token(token)\n",
    "\n",
    "\n"
   ]
  },
  {
   "cell_type": "code",
   "execution_count": 192,
   "metadata": {},
   "outputs": [
    {
     "data": {
      "application/vnd.plotly.v1+json": {
       "config": {
        "plotlyServerURL": "https://plot.ly"
       },
       "data": [
        {
         "hovertemplate": "subsidy=%{marker.color}<br>latitude=%{lat}<br>longitude=%{lon}<extra></extra>",
         "lat": [
          51.186339714285715,
          51.61689452596256,
          50.79255267648435,
          51.23622662027832,
          51.688160087278,
          51.842181845463934,
          50.9299051257007,
          52.55741399163361,
          52.84966826588354,
          52.42253655723906,
          52.246969980992404,
          52.108971502757456,
          53.769881958199065,
          52.94304875962285,
          53.56027217226716,
          54.186959795322835,
          52.7983813080232,
          52.61617962550858,
          52.351879309430856,
          53.051904075870155,
          52.00293405846531,
          48.92936835511982,
          53.74343418091627,
          49.84733259234316,
          54.426131292609355,
          48.65765999436937,
          51.516821257387846,
          51.82208804169951,
          54.11193640256025,
          54.564673255789955,
          53.42037728942595,
          53.91939055026315,
          52.41524426666666,
          50.98321183715679,
          52.337902964436736,
          53.14577804498387,
          50.91502978891479,
          53.51980453178691,
          51.99240147598709,
          49.410675031210985,
          51.07516979166667,
          48.577885867105536,
          49.15238538175046,
          53.417798888888896,
          52.479758770312884,
          48.205317565289256,
          52.22015498947401,
          51.14352376741693,
          53.59244668612767,
          51.764717307692315,
          51.771352381099376,
          48.783726503198295,
          51.475811386918835,
          51.32191521739132,
          51.20799391941392,
          52.10518333333334,
          50.9457023278237,
          51.421073341063945,
          50.87796307581521,
          51.99761956587766,
          51.564744663076084,
          51.780240393907,
          51.15947512190495,
          49.900814019901354,
          51.30381270494417,
          51.15934275350645,
          50.9399774512305,
          51.86189784946237,
          50.65705798918387,
          50.602521914998356,
          50.87598706563707,
          50.72441571094403,
          50.91038135135134,
          50.37653202040816,
          50.47784908067542,
          50.38564429892054,
          50.62319288900326,
          50.793795312499995,
          48.04287848074704,
          54.091809166666664,
          53.913844332235904,
          53.792256201902035,
          54.21839292851221,
          53.648653743315506,
          52.8934207774799,
          53.711206322427806,
          54.071618055555554,
          53.32813831775701,
          54.263014288034675,
          49.49003564763996,
          50.54369726949848,
          53.56928635537013,
          52.50425161290322,
          53.61388522200772,
          53.72395667563929,
          54.166284477853324,
          54.338916830870275,
          47.732176555652934,
          51.50072226890757,
          54.75595178571428,
          51.67287891848265,
          48.391524272023354,
          52.57670003850385,
          53.57022924168489,
          53.27678597525773,
          53.14909402985074,
          53.220501367187495,
          52.99445291953664,
          52.87831836734694,
          53.51513928720609,
          53.56323333333334,
          53.3673394265233,
          53.48121806666878,
          52.724063702979684,
          48.885320085930786,
          53.237733377994324,
          53.360134693877555,
          52.747212537878795,
          52.81418461760462,
          52.601654506285136,
          52.91886018802371,
          49.98362685725733,
          53.571485714285714,
          52.665475781291036,
          53.22150095323741,
          53.04224999999999,
          52.68921043566363,
          52.99398751891074,
          53.02032128611069,
          52.41602739852399,
          51.89056034391535,
          52.104985047619046,
          52.100388952164,
          52.3090660472973,
          49.95168697213808,
          52.29465731146305,
          52.16990443925234,
          52.34796112107624,
          52.00040899742932,
          51.709385385385374,
          51.67344370434035,
          52.27084649085978,
          51.92886603844703,
          51.01583466878223,
          51.281534467821785,
          51.24650903426791,
          51.549174344279216,
          51.30034245996441,
          51.18629528965129,
          50.73814893908282,
          50.63625066864783,
          50.576955313351505,
          50.60930719249478,
          50.402693618960804,
          50.56423930071659,
          50.89479368318756,
          51.16146988906498,
          50.80958460185185,
          52.290356379310325,
          51.74847198792198,
          52.116161033388074,
          52.10035359428852,
          52.25615659013605,
          50.35890090786819,
          51.367235296786404,
          50.277760565411796,
          47.765311301684534,
          50.94220427612863,
          51.932961577557755,
          50.42393241997497,
          52.407517996289414,
          51.22541632653061,
          51.26875208333333,
          51.14692604166666,
          51.165010691823916,
          51.26010409836064,
          51.2924833939394,
          51.16537454545455,
          51.417872580645145,
          51.6874318805093,
          51.345148735244514,
          51.19220634920636,
          51.515729496402884,
          51.956542549575076,
          51.6140997273347,
          51.34207238095239,
          51.41941775700935,
          51.84433788417987,
          52.21209343610144,
          52.36437449339208,
          52.656011232765614,
          51.04451984126984,
          51.469216145833336,
          51.576887804878055,
          51.411061261261274,
          51.86982437195351,
          52.276056716417905,
          50.55765450643778,
          51.52124444444445,
          51.5479,
          51.5862793902439,
          48.077679229661626,
          47.95885091186541,
          51.60178803418801,
          50.450746244301875,
          51.01340961251863,
          50.94020526315789,
          50.701537250293775,
          50.823191666666666,
          50.71611764705882,
          50.57177552447552,
          50.7416838107928,
          49.75450568498168,
          50.55132715489306,
          49.72217706892713,
          50.90123525498891,
          51.04977291666666,
          50.146910648658434,
          50.055968975295954,
          50.24629891195456,
          49.46612388059702,
          50.738758866861474,
          47.78533074908328,
          50.03342297964912,
          49.755929166753695,
          49.810397001135534,
          49.97823851851853,
          50.24473515560626,
          49.27379642857142,
          50.92191952952512,
          50.32002864940014,
          50.35840967741933,
          50.313840267857145,
          50.02939139784946,
          51.254751034302174,
          51.663317696629214,
          50.26662354525863,
          51.582691260162605,
          50.02457174887893,
          49.9685,
          49.57957642124884,
          49.8851,
          49.69707848410758,
          49.228254861904766,
          50.11291538461539,
          49.69378803589232,
          49.87972233009709,
          50.13965273396425,
          49.629354981884056,
          50.08420492957746,
          48.45064802102152,
          49.37202638342512,
          49.25348666666667,
          50.093917289719634,
          49.24453017704047,
          49.515159347181,
          49.48024279176201,
          49.360529054054055,
          49.545800541289125,
          49.46279430122401,
          49.490663951120155,
          49.43870385273973,
          49.384793959731546,
          49.489119354838714,
          49.203962499999996,
          49.643817556511614,
          50.38475991449767,
          49.13576925925927,
          49.5386,
          49.18772575325216,
          49.62717109826589,
          48.47974017971759,
          49.44488870967741,
          48.90281888586957,
          49.50853260869566,
          49.3537472727273,
          49.40793272171255,
          48.667353490566036,
          49.07678360814743,
          47.72040713259441,
          48.90759919246299,
          48.6345906291834,
          48.25891945846718,
          48.46367489239597,
          47.78258518102091,
          49.31653636363635,
          49.139561649717514,
          49.53199099440895,
          48.654949364613884,
          48.25680179839091,
          48.10484506643559,
          48.425325002843174,
          49.28165986206896,
          49.143228104575165,
          48.64339160104986,
          48.08924616136919,
          49.708921006641035,
          48.313763105590056,
          48.88316363636363,
          48.23130344890846,
          49.001682539682555,
          48.75585810810812,
          47.82250231866824,
          48.022589646643105,
          47.9952085106383,
          48.132962485448196,
          48.75851532258065,
          49.193929203007514,
          49.00946639503299,
          49.898837555991044,
          47.6849031888112,
          49.04428825861543,
          48.18808007246377,
          48.005331769436985,
          48.08027666666667,
          47.601085292761645,
          47.850293743693236,
          47.87597587247689,
          47.90576475427351,
          48.05918872912802,
          47.75681861495845,
          48.53863890198719,
          48.91751568734627,
          47.782882726909236,
          48.65892949438202,
          48.85629425552988,
          48.434947567716975,
          48.24682799329502,
          48.421008017503006,
          47.84824130434784,
          48.52842575757577,
          49.758481384901025,
          49.31749773816531,
          48.29709948364887,
          48.74994199288256,
          49.54537618368512,
          48.6107050862069,
          48.91552961730449,
          48.22439172683514,
          48.576910494958746,
          48.396556595648235,
          48.33447014729091,
          48.64387996832938,
          48.86253923495974,
          47.82037017082786,
          47.614225427275905,
          48.09258592383639,
          47.72006609442061,
          48.58828372257607,
          47.98369999999999,
          50.34038764011799,
          47.88240000000001,
          50.04738746789933,
          48.41032183908045,
          49.474853881278534,
          49.24351910256411,
          49.47698829183049,
          49.6607124228395,
          49.490027344521216,
          49.18269615668884,
          49.56814188886172,
          49.18055974304069,
          49.68840970193741,
          49.50211368494423,
          49.870206932707354,
          49.48823673469388,
          49.23457258398344,
          49.0214790909091,
          49.3048,
          49.03975616806723,
          49.891416733929084,
          49.58864835164836,
          49.62429813664597,
          49.3082,
          49.442899999999995,
          49.683549999999975,
          48.80686073992269,
          50.261251899827286,
          50.09050629770992,
          49.888022368421055,
          50.26798399758455,
          50.066703757115754,
          48.79338633059419,
          50.08979779853235,
          48.901262647058836,
          50.3128041000695,
          48.5790711111111,
          50.25939999999999,
          49.791044370860945,
          50.39745437710437,
          50.01853676554477,
          50.229467693522906,
          50.41447331501831,
          50.60285714285713,
          50.627927685364746,
          50.981490322580655,
          50.9821875,
          50.041842307692306,
          51.49482982409951,
          50.980700000000006
         ],
         "legendgroup": "",
         "lon": [
          13.58488666666667,
          13.434729007472553,
          14.07327976390837,
          13.516385290479347,
          13.958000112040802,
          10.988902190610153,
          13.136635646339391,
          13.386240246570493,
          13.169500136667931,
          13.034618164983163,
          12.66973968141802,
          13.25369123793909,
          13.669140782905021,
          12.575277188416123,
          12.932555097751267,
          12.96791676372798,
          13.686986135149715,
          12.616171885033063,
          13.761694317245068,
          11.92187284187809,
          13.869718227544503,
          9.573931318082789,
          12.10212520048771,
          7.495128671053749,
          9.578352700395179,
          9.72582662148756,
          13.721497809381699,
          11.762440438278034,
          9.102076711832071,
          8.9160417547963,
          11.385578298916466,
          9.512561645930704,
          12.528225955555554,
          12.233384796546613,
          14.421303665978522,
          13.77354311553589,
          13.852714930069931,
          10.050048052660713,
          8.980817601851323,
          11.218162172284641,
          7.946070461309523,
          13.306147459370498,
          9.169369459962756,
          11.670203472222223,
          7.017782323550813,
          11.56548361322314,
          11.301166823987186,
          14.744524236972387,
          10.674845534826357,
          14.329725,
          14.341156549380916,
          9.23300103411514,
          12.802645558932793,
          12.297791304347824,
          12.610513717948718,
          11.639633333333332,
          12.392282410468322,
          11.838987617678077,
          10.82940897560132,
          9.283141906507476,
          11.646442325537901,
          12.06543116210249,
          11.811136480940203,
          8.132817839671484,
          11.030363484316853,
          11.178787311079846,
          11.648267529345071,
          12.22960107526882,
          11.322952187807276,
          11.748850663494148,
          12.129858108108106,
          12.07646870357588,
          11.6052072972973,
          11.360753612244899,
          12.239584559099438,
          12.301909577782883,
          12.945339749528221,
          12.928853125,
          8.385424530479488,
          12.183672371794872,
          10.145598087762826,
          11.172164666793002,
          10.360913837064675,
          10.169637005347596,
          10.27814889968722,
          10.322457927674341,
          9.999684722222222,
          9.961071534267912,
          9.758079617852484,
          9.339565340285398,
          8.92990898148304,
          9.435066126444159,
          9.693456356736244,
          8.826728200772202,
          9.729999914759981,
          10.824797326997691,
          10.111592200328404,
          9.848521351884312,
          7.6304470588235285,
          9.45193392857143,
          6.2894229055690065,
          9.520511701574003,
          10.600790198019801,
          7.7125646093443265,
          9.275769993323514,
          8.213932835820895,
          8.027634082031252,
          8.411940536944272,
          7.924861787473611,
          7.99151988544946,
          8.098907936507937,
          8.406861111111112,
          7.38610609152752,
          7.424686175582014,
          10.08511214514491,
          7.5020605278116115,
          7.216561224489797,
          8.719618657135875,
          9.2832670995671,
          9.095037880590658,
          9.709066490905375,
          9.675748609203296,
          8.59307142857143,
          11.174154736403498,
          8.827505053956834,
          8.649995652173915,
          10.115135258358663,
          10.560890090771558,
          11.109271513482874,
          9.70278860701107,
          9.544551613756612,
          9.95447092063492,
          9.378085990888383,
          10.262072128378378,
          6.998621126925298,
          9.204912890150641,
          8.631993691588786,
          8.658258654708522,
          8.596194858611824,
          9.192874924924926,
          8.682955436183926,
          12.00844937213602,
          8.357558144418716,
          9.356939547798493,
          9.37860488861386,
          9.29134119937695,
          10.075559791408509,
          8.433870217971531,
          8.877174311023623,
          9.032766427104722,
          8.376330704733602,
          8.81171425976385,
          9.276990537410239,
          8.21946709206928,
          9.788684519397084,
          9.750122691933916,
          9.941323085050184,
          10.129584600308643,
          10.565059913793103,
          9.874807098307098,
          10.3633789819376,
          10.576542210030247,
          10.881096215986394,
          8.928912104909212,
          10.216266992087709,
          9.366791374585317,
          9.422296758550281,
          10.70136627365492,
          10.352514435643565,
          7.919564697921442,
          10.791987012987013,
          6.807677551020406,
          6.980843666666667,
          6.632838194444444,
          6.394538364779876,
          7.176622131147541,
          6.354619515151516,
          7.063138181818184,
          6.883608064516127,
          7.170177668952007,
          7.322888364249578,
          7.236939682539684,
          7.476705755395683,
          6.899325694050992,
          6.62819754601227,
          6.553899047619045,
          7.024323364485982,
          7.44233299902944,
          7.566142366981601,
          8.044977907488986,
          8.216865896188159,
          6.130633333333333,
          7.350194270833334,
          7.075682926829269,
          6.733239639639638,
          7.966427409073867,
          8.045245522388061,
          7.977538483547925,
          6.824877777777779,
          7.2107052631578945,
          7.6404902439024385,
          9.275381779457645,
          7.973055910376657,
          6.916263247863248,
          7.025096568716478,
          7.505301266766022,
          6.967619298245615,
          6.209439365452408,
          6.437300686274511,
          7.111296078431373,
          7.488977983682984,
          7.303457961359095,
          6.625757194139195,
          6.643870576798444,
          6.681155669168107,
          6.725186696230597,
          7.025441666666666,
          7.161709761540906,
          6.408982382859549,
          6.782299418392764,
          9.09553582089552,
          7.692055528587794,
          9.769365409463944,
          7.486896990211458,
          8.151961369520736,
          7.693175102792066,
          8.244606682427108,
          7.856464056331501,
          7.4019892857142855,
          11.107933965614563,
          7.317359241573375,
          7.549014516129034,
          11.869374196428572,
          9.199556204591687,
          7.689789787902592,
          7.810086235955056,
          8.523155441810346,
          8.21201524390244,
          8.804104932735424,
          9.156326086956526,
          9.879415657036347,
          8.653941999999999,
          8.916780684596576,
          7.258900695238096,
          8.777892307692309,
          8.947699401794615,
          8.465334223300971,
          8.080484700315457,
          8.688783514492755,
          8.304123943661974,
          8.448138331417312,
          8.774175111460794,
          6.951977333333335,
          8.459394392523365,
          7.541207850406623,
          7.109659020771513,
          6.6715217391304344,
          6.788695945945945,
          8.729919225242593,
          7.630514709087861,
          8.1865583503055,
          8.342333390410959,
          7.058575838926174,
          8.40544193548387,
          7.596953125000001,
          7.911957494833147,
          10.215397720985791,
          8.236108258471237,
          8.354,
          8.095169763076543,
          8.318768786127169,
          8.977339666238768,
          7.7467870967741925,
          9.312981861413045,
          8.526897826086957,
          8.138712727272727,
          8.830514067278287,
          8.918898113207549,
          8.604740834141609,
          7.7968450605500825,
          8.740015746971736,
          9.387399163319948,
          8.928707526388253,
          8.498086657101865,
          11.02930647627614,
          8.434790909090912,
          9.904197122410547,
          9.77158228168264,
          8.67256891495601,
          8.49811919072409,
          9.783936533795494,
          9.855496679176618,
          9.609412827586205,
          9.190343790849674,
          10.17365927384077,
          10.99741531784841,
          11.189040650122335,
          10.116071428571429,
          8.707969696969696,
          12.695044276279583,
          8.393458730158732,
          8.143847297297299,
          9.006304280618313,
          8.802101660777385,
          7.856892553191488,
          7.913849767171129,
          8.187370000000001,
          8.060154917293232,
          13.033181155413272,
          12.194979829227323,
          8.207583179487179,
          10.883988197621225,
          11.196764492753621,
          11.259083378016086,
          11.655329430894309,
          11.138743430152145,
          11.505532172889337,
          12.180074306734578,
          12.61198123931624,
          11.935496474953617,
          12.927324986149584,
          12.203065308184573,
          12.630194247062038,
          11.82437548980408,
          12.542101264044943,
          11.83007821063057,
          11.058292730790491,
          12.338125550766284,
          12.820814288234878,
          12.105117391304349,
          12.144531313131312,
          10.25896144348891,
          12.289126441324028,
          12.017388640275389,
          11.421778647686832,
          10.110275841414717,
          11.832893275862068,
          11.368952312811981,
          11.183178309265946,
          11.509573006416133,
          10.719959168177697,
          10.38582682798527,
          11.231455977830562,
          10.713419339175745,
          10.635948132156935,
          10.26076607080572,
          10.397469181946404,
          10.313166523605151,
          10.528485774946923,
          10.185300000000002,
          11.16057518905873,
          10.621899999999997,
          11.095593091936312,
          9.975945114942528,
          11.041934703196345,
          10.478762767722472,
          10.839807820008737,
          10.88071156121399,
          11.77637436656795,
          11.156418058635131,
          10.478162016878668,
          11.590104114408074,
          12.164293144560357,
          11.394865148698884,
          11.515176830985915,
          10.974242857142858,
          12.685721779971344,
          12.107798181818188,
          10.593099999999996,
          12.154065899159663,
          10.927591697895645,
          10.976543681318683,
          11.38020745341615,
          11.025433333333336,
          11.862700000000002,
          12.19175,
          13.524297846493651,
          11.831973690270582,
          11.476566412213739,
          10.889984210526318,
          10.95158786231884,
          10.611658102466793,
          13.019429092920355,
          12.056451100733824,
          12.651146764705883,
          11.340924530924253,
          13.410842222222222,
          10.9638,
          9.934860264900665,
          11.130120202020203,
          10.233055847119223,
          9.951263902053713,
          10.726785959821427,
          10.698464285714284,
          10.392823549133329,
          11.024599354838713,
          11.279517857142855,
          10.220676923076923,
          10.71894509920635,
          10.3152
         ],
         "marker": {
          "color": [
           2437250.75,
           34567936,
           55810576,
           48541624,
           18429872,
           44332652,
           70641208,
           5840335,
           25150898,
           31273368,
           42720440,
           30171476,
           92016112,
           45642992,
           111722976,
           83213792,
           17615036,
           39371372,
           46499048,
           45305096,
           31858124,
           10555350,
           94967768,
           8053979.5,
           54432140,
           10109376,
           33468084,
           61418940,
           37261780,
           69231256,
           112286648,
           24511836,
           1700966.125,
           38050072,
           2741847,
           57969312,
           47872416,
           8787108,
           21642208,
           2206682,
           8285475,
           33775360,
           20730646,
           9245478,
           22722740,
           6803956.5,
           58119904,
           43386136,
           29068596,
           2153916.5,
           25364296,
           11177951,
           46530960,
           2667056.75,
           47239936,
           24829844,
           13782044,
           41936604,
           40062504,
           5091417.5,
           38159012,
           36771480,
           39939988,
           10230339,
           21596824,
           21836970,
           19478366,
           3439733.75,
           16517412,
           22579972,
           1881724.75,
           21505772,
           4938283.5,
           13750527,
           35791112,
           29867798,
           45065648,
           559946,
           17497702,
           1250479.5,
           28773658,
           48015936,
           25164236,
           8687499,
           31825740,
           17544824,
           2409942.75,
           20051706,
           51535696,
           16357038,
           9164588,
           36872792,
           8617872,
           53663384,
           14108255,
           32546708,
           2008163.375,
           6605147,
           823222.0625,
           155777.125,
           31887386,
           16729246,
           30716094,
           16620529,
           49299228,
           1035997.375,
           16465403,
           26037564,
           30678904,
           18658200,
           1394185.375,
           22335662,
           37513712,
           70370896,
           23029846,
           29702056,
           2792605.75,
           48659632,
           18652984,
           33346788,
           27334024,
           12316384,
           118614.328125,
           49697376,
           16841212,
           1125755,
           19747472,
           29804264,
           24349388,
           45078960,
           10317900,
           26875344,
           16393124,
           14284576,
           14211350,
           13375244,
           7801086,
           21925804,
           4658160,
           19851310,
           22547664,
           34000068,
           21090308,
           23978380,
           15933914,
           836941.5625,
           31816216,
           17155870,
           23472188,
           19439276,
           8859338,
           10785030,
           23639834,
           10055477,
           21871844,
           11835020,
           12856582,
           24478776,
           2701051,
           21825028,
           3901833.5,
           18471976,
           14641640,
           15622009,
           19914000,
           15094410,
           14215398,
           19744440,
           12087448,
           10400356,
           3078260,
           2295409,
           4945216,
           10042776,
           2147682.25,
           1335865.125,
           11037192,
           509231.46875,
           613718.4375,
           9394210,
           5336853.5,
           608692.9375,
           1868168.5,
           34495820,
           16493822,
           1412209.625,
           1323864.125,
           32288848,
           38911404,
           48740864,
           29458818,
           13770878,
           717392.75,
           434517.09375,
           1152624.375,
           27969720,
           1313236.25,
           6172993,
           182580.234375,
           169383.84375,
           9858021,
           20245352,
           23042538,
           1365988.375,
           6555491,
           12641771,
           5034304.5,
           10689614,
           18138608,
           3942512.75,
           5102385,
           18183028,
           1286112,
           19534668,
           12073426,
           11133970,
           606506,
           7222543,
           24655806,
           11677996,
           2375373,
           6047623.5,
           23871644,
           12743238,
           13354298,
           10273942,
           8644275,
           8731904,
           826266.25,
           21314438,
           11095152,
           547114.875,
           1989519,
           6502746,
           12023482,
           4365443,
           3689215,
           28542014,
           2063871.875,
           1080736.125,
           7729291,
           847718.5,
           8165957.5,
           5217635,
           89671.640625,
           6037707.5,
           4422491,
           8013067,
           8218736.5,
           2282903.25,
           26029044,
           11873980,
           2540929,
           2244885.25,
           5914955,
           5159999,
           5823336.5,
           4711403.5,
           10437030,
           5853204.5,
           5475890.5,
           9641170,
           2200350.5,
           408622.65625,
           339731.6875,
           10258765,
           18746396,
           4673826,
           656834.375,
           7927858,
           2001691.5,
           7614878.5,
           376661.9375,
           12129963,
           2877102.75,
           1400520.25,
           665467.5,
           7731947,
           13809541,
           10073804,
           6416089,
           6842478.5,
           16325600,
           7935239,
           23727016,
           178577.46875,
           27245068,
           22755374,
           6900043,
           11241608,
           25054060,
           22632328,
           15483848,
           1806975.75,
           10869696,
           15318746,
           11478116,
           6940345,
           305104.1875,
           11018326,
           729790.0625,
           600194.75,
           13776902,
           10830414,
           2456385.25,
           7045136,
           4916415,
           648257.125,
           14255678,
           22101290,
           17094028,
           18562884,
           7781371,
           5696673,
           6822535.5,
           9519972,
           14322472,
           26646652,
           25786068,
           9212358,
           5933842.5,
           28626020,
           26203336,
           12753111,
           16133059,
           21049214,
           16381638,
           14706361,
           26701806,
           609414.4375,
           1739911.625,
           15806082,
           27189964,
           21005208,
           2523441,
           20004318,
           18345008,
           21403360,
           15142642,
           16208840,
           17552556,
           16394013,
           14909042,
           28903346,
           33213178,
           33021876,
           27551592,
           1984181.375,
           15840791,
           974479.3125,
           23736180,
           411683.6875,
           9843255,
           2380885.5,
           1489375.5,
           39065648,
           6117619,
           6262089.5,
           18769934,
           13442339,
           28623322,
           17400608,
           18103584,
           10692826,
           21952886,
           779222.8125,
           27752160,
           1589054.5,
           7509839.5,
           22446940,
           20376652,
           1037495.9375,
           3439757,
           460661.03125,
           1206483.875,
           1275963.25,
           15208570,
           18846572,
           14245896,
           4980853.5,
           13008026,
           18067588,
           17893288,
           11360468,
           2234516.5,
           9196183,
           502891.28125,
           444186.96875,
           8001052,
           4180893,
           17258220,
           18112000,
           12196412,
           338764.875,
           20950178,
           7026421,
           1017332.6875,
           316379.5625,
           13430299,
           1775096.375
          ],
          "coloraxis": "coloraxis",
          "size": [
           2437250.75,
           34567936,
           55810576,
           48541624,
           18429872,
           44332652,
           70641208,
           5840335,
           25150898,
           31273368,
           42720440,
           30171476,
           92016112,
           45642992,
           111722976,
           83213792,
           17615036,
           39371372,
           46499048,
           45305096,
           31858124,
           10555350,
           94967768,
           8053979.5,
           54432140,
           10109376,
           33468084,
           61418940,
           37261780,
           69231256,
           112286648,
           24511836,
           1700966.125,
           38050072,
           2741847,
           57969312,
           47872416,
           8787108,
           21642208,
           2206682,
           8285475,
           33775360,
           20730646,
           9245478,
           22722740,
           6803956.5,
           58119904,
           43386136,
           29068596,
           2153916.5,
           25364296,
           11177951,
           46530960,
           2667056.75,
           47239936,
           24829844,
           13782044,
           41936604,
           40062504,
           5091417.5,
           38159012,
           36771480,
           39939988,
           10230339,
           21596824,
           21836970,
           19478366,
           3439733.75,
           16517412,
           22579972,
           1881724.75,
           21505772,
           4938283.5,
           13750527,
           35791112,
           29867798,
           45065648,
           559946,
           17497702,
           1250479.5,
           28773658,
           48015936,
           25164236,
           8687499,
           31825740,
           17544824,
           2409942.75,
           20051706,
           51535696,
           16357038,
           9164588,
           36872792,
           8617872,
           53663384,
           14108255,
           32546708,
           2008163.375,
           6605147,
           823222.0625,
           155777.125,
           31887386,
           16729246,
           30716094,
           16620529,
           49299228,
           1035997.375,
           16465403,
           26037564,
           30678904,
           18658200,
           1394185.375,
           22335662,
           37513712,
           70370896,
           23029846,
           29702056,
           2792605.75,
           48659632,
           18652984,
           33346788,
           27334024,
           12316384,
           118614.328125,
           49697376,
           16841212,
           1125755,
           19747472,
           29804264,
           24349388,
           45078960,
           10317900,
           26875344,
           16393124,
           14284576,
           14211350,
           13375244,
           7801086,
           21925804,
           4658160,
           19851310,
           22547664,
           34000068,
           21090308,
           23978380,
           15933914,
           836941.5625,
           31816216,
           17155870,
           23472188,
           19439276,
           8859338,
           10785030,
           23639834,
           10055477,
           21871844,
           11835020,
           12856582,
           24478776,
           2701051,
           21825028,
           3901833.5,
           18471976,
           14641640,
           15622009,
           19914000,
           15094410,
           14215398,
           19744440,
           12087448,
           10400356,
           3078260,
           2295409,
           4945216,
           10042776,
           2147682.25,
           1335865.125,
           11037192,
           509231.46875,
           613718.4375,
           9394210,
           5336853.5,
           608692.9375,
           1868168.5,
           34495820,
           16493822,
           1412209.625,
           1323864.125,
           32288848,
           38911404,
           48740864,
           29458818,
           13770878,
           717392.75,
           434517.09375,
           1152624.375,
           27969720,
           1313236.25,
           6172993,
           182580.234375,
           169383.84375,
           9858021,
           20245352,
           23042538,
           1365988.375,
           6555491,
           12641771,
           5034304.5,
           10689614,
           18138608,
           3942512.75,
           5102385,
           18183028,
           1286112,
           19534668,
           12073426,
           11133970,
           606506,
           7222543,
           24655806,
           11677996,
           2375373,
           6047623.5,
           23871644,
           12743238,
           13354298,
           10273942,
           8644275,
           8731904,
           826266.25,
           21314438,
           11095152,
           547114.875,
           1989519,
           6502746,
           12023482,
           4365443,
           3689215,
           28542014,
           2063871.875,
           1080736.125,
           7729291,
           847718.5,
           8165957.5,
           5217635,
           89671.640625,
           6037707.5,
           4422491,
           8013067,
           8218736.5,
           2282903.25,
           26029044,
           11873980,
           2540929,
           2244885.25,
           5914955,
           5159999,
           5823336.5,
           4711403.5,
           10437030,
           5853204.5,
           5475890.5,
           9641170,
           2200350.5,
           408622.65625,
           339731.6875,
           10258765,
           18746396,
           4673826,
           656834.375,
           7927858,
           2001691.5,
           7614878.5,
           376661.9375,
           12129963,
           2877102.75,
           1400520.25,
           665467.5,
           7731947,
           13809541,
           10073804,
           6416089,
           6842478.5,
           16325600,
           7935239,
           23727016,
           178577.46875,
           27245068,
           22755374,
           6900043,
           11241608,
           25054060,
           22632328,
           15483848,
           1806975.75,
           10869696,
           15318746,
           11478116,
           6940345,
           305104.1875,
           11018326,
           729790.0625,
           600194.75,
           13776902,
           10830414,
           2456385.25,
           7045136,
           4916415,
           648257.125,
           14255678,
           22101290,
           17094028,
           18562884,
           7781371,
           5696673,
           6822535.5,
           9519972,
           14322472,
           26646652,
           25786068,
           9212358,
           5933842.5,
           28626020,
           26203336,
           12753111,
           16133059,
           21049214,
           16381638,
           14706361,
           26701806,
           609414.4375,
           1739911.625,
           15806082,
           27189964,
           21005208,
           2523441,
           20004318,
           18345008,
           21403360,
           15142642,
           16208840,
           17552556,
           16394013,
           14909042,
           28903346,
           33213178,
           33021876,
           27551592,
           1984181.375,
           15840791,
           974479.3125,
           23736180,
           411683.6875,
           9843255,
           2380885.5,
           1489375.5,
           39065648,
           6117619,
           6262089.5,
           18769934,
           13442339,
           28623322,
           17400608,
           18103584,
           10692826,
           21952886,
           779222.8125,
           27752160,
           1589054.5,
           7509839.5,
           22446940,
           20376652,
           1037495.9375,
           3439757,
           460661.03125,
           1206483.875,
           1275963.25,
           15208570,
           18846572,
           14245896,
           4980853.5,
           13008026,
           18067588,
           17893288,
           11360468,
           2234516.5,
           9196183,
           502891.28125,
           444186.96875,
           8001052,
           4180893,
           17258220,
           18112000,
           12196412,
           338764.875,
           20950178,
           7026421,
           1017332.6875,
           316379.5625,
           13430299,
           1775096.375
          ],
          "sizemode": "area",
          "sizeref": 499051.7688888889
         },
         "mode": "markers",
         "name": "",
         "showlegend": false,
         "subplot": "mapbox",
         "type": "scattermapbox"
        }
       ],
       "layout": {
        "coloraxis": {
         "colorbar": {
          "title": {
           "text": "subsidy"
          }
         },
         "colorscale": [
          [
           0,
           "#000000"
          ],
          [
           0.0625,
           "#001f4d"
          ],
          [
           0.125,
           "#003786"
          ],
          [
           0.1875,
           "#0e58a8"
          ],
          [
           0.25,
           "#217eb8"
          ],
          [
           0.3125,
           "#30a4ca"
          ],
          [
           0.375,
           "#54c8df"
          ],
          [
           0.4375,
           "#9be4ef"
          ],
          [
           0.5,
           "#e1e9d1"
          ],
          [
           0.5625,
           "#f3d573"
          ],
          [
           0.625,
           "#e7b000"
          ],
          [
           0.6875,
           "#da8200"
          ],
          [
           0.75,
           "#c65400"
          ],
          [
           0.8125,
           "#ac2301"
          ],
          [
           0.875,
           "#820000"
          ],
          [
           0.9375,
           "#4c0000"
          ],
          [
           1,
           "#000000"
          ]
         ]
        },
        "legend": {
         "itemsizing": "constant",
         "tracegroupgap": 0
        },
        "mapbox": {
         "accesstoken": "pk.eyJ1Ijoibmljb3JvZXZlciIsImEiOiJjbHFjZmgwNmYwMWN5MmtrMnB0cXFzeHZxIn0.k_McexSZGPeL8QmDeqEDeg",
         "center": {
          "lat": 50.59510913708864,
          "lon": 9.871250276598227
         },
         "domain": {
          "x": [
           0,
           1
          ],
          "y": [
           0,
           1
          ]
         },
         "zoom": 7
        },
        "margin": {
         "t": 60
        },
        "template": {
         "data": {
          "bar": [
           {
            "error_x": {
             "color": "#2a3f5f"
            },
            "error_y": {
             "color": "#2a3f5f"
            },
            "marker": {
             "line": {
              "color": "#E5ECF6",
              "width": 0.5
             },
             "pattern": {
              "fillmode": "overlay",
              "size": 10,
              "solidity": 0.2
             }
            },
            "type": "bar"
           }
          ],
          "barpolar": [
           {
            "marker": {
             "line": {
              "color": "#E5ECF6",
              "width": 0.5
             },
             "pattern": {
              "fillmode": "overlay",
              "size": 10,
              "solidity": 0.2
             }
            },
            "type": "barpolar"
           }
          ],
          "carpet": [
           {
            "aaxis": {
             "endlinecolor": "#2a3f5f",
             "gridcolor": "white",
             "linecolor": "white",
             "minorgridcolor": "white",
             "startlinecolor": "#2a3f5f"
            },
            "baxis": {
             "endlinecolor": "#2a3f5f",
             "gridcolor": "white",
             "linecolor": "white",
             "minorgridcolor": "white",
             "startlinecolor": "#2a3f5f"
            },
            "type": "carpet"
           }
          ],
          "choropleth": [
           {
            "colorbar": {
             "outlinewidth": 0,
             "ticks": ""
            },
            "type": "choropleth"
           }
          ],
          "contour": [
           {
            "colorbar": {
             "outlinewidth": 0,
             "ticks": ""
            },
            "colorscale": [
             [
              0,
              "#0d0887"
             ],
             [
              0.1111111111111111,
              "#46039f"
             ],
             [
              0.2222222222222222,
              "#7201a8"
             ],
             [
              0.3333333333333333,
              "#9c179e"
             ],
             [
              0.4444444444444444,
              "#bd3786"
             ],
             [
              0.5555555555555556,
              "#d8576b"
             ],
             [
              0.6666666666666666,
              "#ed7953"
             ],
             [
              0.7777777777777778,
              "#fb9f3a"
             ],
             [
              0.8888888888888888,
              "#fdca26"
             ],
             [
              1,
              "#f0f921"
             ]
            ],
            "type": "contour"
           }
          ],
          "contourcarpet": [
           {
            "colorbar": {
             "outlinewidth": 0,
             "ticks": ""
            },
            "type": "contourcarpet"
           }
          ],
          "heatmap": [
           {
            "colorbar": {
             "outlinewidth": 0,
             "ticks": ""
            },
            "colorscale": [
             [
              0,
              "#0d0887"
             ],
             [
              0.1111111111111111,
              "#46039f"
             ],
             [
              0.2222222222222222,
              "#7201a8"
             ],
             [
              0.3333333333333333,
              "#9c179e"
             ],
             [
              0.4444444444444444,
              "#bd3786"
             ],
             [
              0.5555555555555556,
              "#d8576b"
             ],
             [
              0.6666666666666666,
              "#ed7953"
             ],
             [
              0.7777777777777778,
              "#fb9f3a"
             ],
             [
              0.8888888888888888,
              "#fdca26"
             ],
             [
              1,
              "#f0f921"
             ]
            ],
            "type": "heatmap"
           }
          ],
          "heatmapgl": [
           {
            "colorbar": {
             "outlinewidth": 0,
             "ticks": ""
            },
            "colorscale": [
             [
              0,
              "#0d0887"
             ],
             [
              0.1111111111111111,
              "#46039f"
             ],
             [
              0.2222222222222222,
              "#7201a8"
             ],
             [
              0.3333333333333333,
              "#9c179e"
             ],
             [
              0.4444444444444444,
              "#bd3786"
             ],
             [
              0.5555555555555556,
              "#d8576b"
             ],
             [
              0.6666666666666666,
              "#ed7953"
             ],
             [
              0.7777777777777778,
              "#fb9f3a"
             ],
             [
              0.8888888888888888,
              "#fdca26"
             ],
             [
              1,
              "#f0f921"
             ]
            ],
            "type": "heatmapgl"
           }
          ],
          "histogram": [
           {
            "marker": {
             "pattern": {
              "fillmode": "overlay",
              "size": 10,
              "solidity": 0.2
             }
            },
            "type": "histogram"
           }
          ],
          "histogram2d": [
           {
            "colorbar": {
             "outlinewidth": 0,
             "ticks": ""
            },
            "colorscale": [
             [
              0,
              "#0d0887"
             ],
             [
              0.1111111111111111,
              "#46039f"
             ],
             [
              0.2222222222222222,
              "#7201a8"
             ],
             [
              0.3333333333333333,
              "#9c179e"
             ],
             [
              0.4444444444444444,
              "#bd3786"
             ],
             [
              0.5555555555555556,
              "#d8576b"
             ],
             [
              0.6666666666666666,
              "#ed7953"
             ],
             [
              0.7777777777777778,
              "#fb9f3a"
             ],
             [
              0.8888888888888888,
              "#fdca26"
             ],
             [
              1,
              "#f0f921"
             ]
            ],
            "type": "histogram2d"
           }
          ],
          "histogram2dcontour": [
           {
            "colorbar": {
             "outlinewidth": 0,
             "ticks": ""
            },
            "colorscale": [
             [
              0,
              "#0d0887"
             ],
             [
              0.1111111111111111,
              "#46039f"
             ],
             [
              0.2222222222222222,
              "#7201a8"
             ],
             [
              0.3333333333333333,
              "#9c179e"
             ],
             [
              0.4444444444444444,
              "#bd3786"
             ],
             [
              0.5555555555555556,
              "#d8576b"
             ],
             [
              0.6666666666666666,
              "#ed7953"
             ],
             [
              0.7777777777777778,
              "#fb9f3a"
             ],
             [
              0.8888888888888888,
              "#fdca26"
             ],
             [
              1,
              "#f0f921"
             ]
            ],
            "type": "histogram2dcontour"
           }
          ],
          "mesh3d": [
           {
            "colorbar": {
             "outlinewidth": 0,
             "ticks": ""
            },
            "type": "mesh3d"
           }
          ],
          "parcoords": [
           {
            "line": {
             "colorbar": {
              "outlinewidth": 0,
              "ticks": ""
             }
            },
            "type": "parcoords"
           }
          ],
          "pie": [
           {
            "automargin": true,
            "type": "pie"
           }
          ],
          "scatter": [
           {
            "fillpattern": {
             "fillmode": "overlay",
             "size": 10,
             "solidity": 0.2
            },
            "type": "scatter"
           }
          ],
          "scatter3d": [
           {
            "line": {
             "colorbar": {
              "outlinewidth": 0,
              "ticks": ""
             }
            },
            "marker": {
             "colorbar": {
              "outlinewidth": 0,
              "ticks": ""
             }
            },
            "type": "scatter3d"
           }
          ],
          "scattercarpet": [
           {
            "marker": {
             "colorbar": {
              "outlinewidth": 0,
              "ticks": ""
             }
            },
            "type": "scattercarpet"
           }
          ],
          "scattergeo": [
           {
            "marker": {
             "colorbar": {
              "outlinewidth": 0,
              "ticks": ""
             }
            },
            "type": "scattergeo"
           }
          ],
          "scattergl": [
           {
            "marker": {
             "colorbar": {
              "outlinewidth": 0,
              "ticks": ""
             }
            },
            "type": "scattergl"
           }
          ],
          "scattermapbox": [
           {
            "marker": {
             "colorbar": {
              "outlinewidth": 0,
              "ticks": ""
             }
            },
            "type": "scattermapbox"
           }
          ],
          "scatterpolar": [
           {
            "marker": {
             "colorbar": {
              "outlinewidth": 0,
              "ticks": ""
             }
            },
            "type": "scatterpolar"
           }
          ],
          "scatterpolargl": [
           {
            "marker": {
             "colorbar": {
              "outlinewidth": 0,
              "ticks": ""
             }
            },
            "type": "scatterpolargl"
           }
          ],
          "scatterternary": [
           {
            "marker": {
             "colorbar": {
              "outlinewidth": 0,
              "ticks": ""
             }
            },
            "type": "scatterternary"
           }
          ],
          "surface": [
           {
            "colorbar": {
             "outlinewidth": 0,
             "ticks": ""
            },
            "colorscale": [
             [
              0,
              "#0d0887"
             ],
             [
              0.1111111111111111,
              "#46039f"
             ],
             [
              0.2222222222222222,
              "#7201a8"
             ],
             [
              0.3333333333333333,
              "#9c179e"
             ],
             [
              0.4444444444444444,
              "#bd3786"
             ],
             [
              0.5555555555555556,
              "#d8576b"
             ],
             [
              0.6666666666666666,
              "#ed7953"
             ],
             [
              0.7777777777777778,
              "#fb9f3a"
             ],
             [
              0.8888888888888888,
              "#fdca26"
             ],
             [
              1,
              "#f0f921"
             ]
            ],
            "type": "surface"
           }
          ],
          "table": [
           {
            "cells": {
             "fill": {
              "color": "#EBF0F8"
             },
             "line": {
              "color": "white"
             }
            },
            "header": {
             "fill": {
              "color": "#C8D4E3"
             },
             "line": {
              "color": "white"
             }
            },
            "type": "table"
           }
          ]
         },
         "layout": {
          "annotationdefaults": {
           "arrowcolor": "#2a3f5f",
           "arrowhead": 0,
           "arrowwidth": 1
          },
          "autotypenumbers": "strict",
          "coloraxis": {
           "colorbar": {
            "outlinewidth": 0,
            "ticks": ""
           }
          },
          "colorscale": {
           "diverging": [
            [
             0,
             "#8e0152"
            ],
            [
             0.1,
             "#c51b7d"
            ],
            [
             0.2,
             "#de77ae"
            ],
            [
             0.3,
             "#f1b6da"
            ],
            [
             0.4,
             "#fde0ef"
            ],
            [
             0.5,
             "#f7f7f7"
            ],
            [
             0.6,
             "#e6f5d0"
            ],
            [
             0.7,
             "#b8e186"
            ],
            [
             0.8,
             "#7fbc41"
            ],
            [
             0.9,
             "#4d9221"
            ],
            [
             1,
             "#276419"
            ]
           ],
           "sequential": [
            [
             0,
             "#0d0887"
            ],
            [
             0.1111111111111111,
             "#46039f"
            ],
            [
             0.2222222222222222,
             "#7201a8"
            ],
            [
             0.3333333333333333,
             "#9c179e"
            ],
            [
             0.4444444444444444,
             "#bd3786"
            ],
            [
             0.5555555555555556,
             "#d8576b"
            ],
            [
             0.6666666666666666,
             "#ed7953"
            ],
            [
             0.7777777777777778,
             "#fb9f3a"
            ],
            [
             0.8888888888888888,
             "#fdca26"
            ],
            [
             1,
             "#f0f921"
            ]
           ],
           "sequentialminus": [
            [
             0,
             "#0d0887"
            ],
            [
             0.1111111111111111,
             "#46039f"
            ],
            [
             0.2222222222222222,
             "#7201a8"
            ],
            [
             0.3333333333333333,
             "#9c179e"
            ],
            [
             0.4444444444444444,
             "#bd3786"
            ],
            [
             0.5555555555555556,
             "#d8576b"
            ],
            [
             0.6666666666666666,
             "#ed7953"
            ],
            [
             0.7777777777777778,
             "#fb9f3a"
            ],
            [
             0.8888888888888888,
             "#fdca26"
            ],
            [
             1,
             "#f0f921"
            ]
           ]
          },
          "colorway": [
           "#636efa",
           "#EF553B",
           "#00cc96",
           "#ab63fa",
           "#FFA15A",
           "#19d3f3",
           "#FF6692",
           "#B6E880",
           "#FF97FF",
           "#FECB52"
          ],
          "font": {
           "color": "#2a3f5f"
          },
          "geo": {
           "bgcolor": "white",
           "lakecolor": "white",
           "landcolor": "#E5ECF6",
           "showlakes": true,
           "showland": true,
           "subunitcolor": "white"
          },
          "hoverlabel": {
           "align": "left"
          },
          "hovermode": "closest",
          "mapbox": {
           "style": "light"
          },
          "paper_bgcolor": "white",
          "plot_bgcolor": "#E5ECF6",
          "polar": {
           "angularaxis": {
            "gridcolor": "white",
            "linecolor": "white",
            "ticks": ""
           },
           "bgcolor": "#E5ECF6",
           "radialaxis": {
            "gridcolor": "white",
            "linecolor": "white",
            "ticks": ""
           }
          },
          "scene": {
           "xaxis": {
            "backgroundcolor": "#E5ECF6",
            "gridcolor": "white",
            "gridwidth": 2,
            "linecolor": "white",
            "showbackground": true,
            "ticks": "",
            "zerolinecolor": "white"
           },
           "yaxis": {
            "backgroundcolor": "#E5ECF6",
            "gridcolor": "white",
            "gridwidth": 2,
            "linecolor": "white",
            "showbackground": true,
            "ticks": "",
            "zerolinecolor": "white"
           },
           "zaxis": {
            "backgroundcolor": "#E5ECF6",
            "gridcolor": "white",
            "gridwidth": 2,
            "linecolor": "white",
            "showbackground": true,
            "ticks": "",
            "zerolinecolor": "white"
           }
          },
          "shapedefaults": {
           "line": {
            "color": "#2a3f5f"
           }
          },
          "ternary": {
           "aaxis": {
            "gridcolor": "white",
            "linecolor": "white",
            "ticks": ""
           },
           "baxis": {
            "gridcolor": "white",
            "linecolor": "white",
            "ticks": ""
           },
           "bgcolor": "#E5ECF6",
           "caxis": {
            "gridcolor": "white",
            "linecolor": "white",
            "ticks": ""
           }
          },
          "title": {
           "x": 0.05
          },
          "xaxis": {
           "automargin": true,
           "gridcolor": "white",
           "linecolor": "white",
           "ticks": "",
           "title": {
            "standoff": 15
           },
           "zerolinecolor": "white",
           "zerolinewidth": 2
          },
          "yaxis": {
           "automargin": true,
           "gridcolor": "white",
           "linecolor": "white",
           "ticks": "",
           "title": {
            "standoff": 15
           },
           "zerolinecolor": "white",
           "zerolinewidth": 2
          }
         }
        }
       }
      }
     },
     "metadata": {},
     "output_type": "display_data"
    }
   ],
   "source": [
    "fig = px.scatter_mapbox(subsidy_data_df, lat=\"latitude\", lon=\"longitude\", color=\"subsidy\", size=\"subsidy\",\n",
    "                  color_continuous_scale=px.colors.cyclical.IceFire, size_max=15, zoom=7)\n",
    "fig.show()\n"
   ]
  },
  {
   "cell_type": "code",
   "execution_count": 187,
   "metadata": {},
   "outputs": [
    {
     "data": {
      "application/vnd.plotly.v1+json": {
       "config": {
        "plotlyServerURL": "https://plot.ly"
       },
       "data": [
        {
         "customdata": [
          [
           2437250.75
          ],
          [
           34567936
          ],
          [
           55810576
          ],
          [
           48541624
          ],
          [
           18429872
          ],
          [
           44332652
          ],
          [
           70641208
          ],
          [
           5840335
          ],
          [
           25150898
          ],
          [
           31273368
          ],
          [
           42720440
          ],
          [
           30171476
          ],
          [
           92016112
          ],
          [
           45642992
          ],
          [
           111722976
          ],
          [
           83213792
          ],
          [
           17615036
          ],
          [
           39371372
          ],
          [
           46499048
          ],
          [
           45305096
          ],
          [
           31858124
          ],
          [
           10555350
          ],
          [
           94967768
          ],
          [
           8053979.5
          ],
          [
           54432140
          ],
          [
           10109376
          ],
          [
           33468084
          ],
          [
           61418940
          ],
          [
           37261780
          ],
          [
           69231256
          ],
          [
           112286648
          ],
          [
           24511836
          ],
          [
           1700966.125
          ],
          [
           38050072
          ],
          [
           2741847
          ],
          [
           57969312
          ],
          [
           47872416
          ],
          [
           8787108
          ],
          [
           21642208
          ],
          [
           2206682
          ],
          [
           8285475
          ],
          [
           33775360
          ],
          [
           20730646
          ],
          [
           9245478
          ],
          [
           22722740
          ],
          [
           6803956.5
          ],
          [
           58119904
          ],
          [
           43386136
          ],
          [
           29068596
          ],
          [
           2153916.5
          ],
          [
           25364296
          ],
          [
           11177951
          ],
          [
           46530960
          ],
          [
           2667056.75
          ],
          [
           47239936
          ],
          [
           24829844
          ],
          [
           13782044
          ],
          [
           41936604
          ],
          [
           40062504
          ],
          [
           5091417.5
          ],
          [
           38159012
          ],
          [
           36771480
          ],
          [
           39939988
          ],
          [
           10230339
          ],
          [
           21596824
          ],
          [
           21836970
          ],
          [
           19478366
          ],
          [
           3439733.75
          ],
          [
           16517412
          ],
          [
           22579972
          ],
          [
           1881724.75
          ],
          [
           21505772
          ],
          [
           4938283.5
          ],
          [
           13750527
          ],
          [
           35791112
          ],
          [
           29867798
          ],
          [
           45065648
          ],
          [
           559946
          ],
          [
           17497702
          ],
          [
           1250479.5
          ],
          [
           28773658
          ],
          [
           48015936
          ],
          [
           25164236
          ],
          [
           8687499
          ],
          [
           31825740
          ],
          [
           17544824
          ],
          [
           2409942.75
          ],
          [
           20051706
          ],
          [
           51535696
          ],
          [
           16357038
          ],
          [
           9164588
          ],
          [
           36872792
          ],
          [
           8617872
          ],
          [
           53663384
          ],
          [
           14108255
          ],
          [
           32546708
          ],
          [
           2008163.375
          ],
          [
           6605147
          ],
          [
           823222.0625
          ],
          [
           155777.125
          ],
          [
           31887386
          ],
          [
           16729246
          ],
          [
           30716094
          ],
          [
           16620529
          ],
          [
           49299228
          ],
          [
           1035997.375
          ],
          [
           16465403
          ],
          [
           26037564
          ],
          [
           30678904
          ],
          [
           18658200
          ],
          [
           1394185.375
          ],
          [
           22335662
          ],
          [
           37513712
          ],
          [
           70370896
          ],
          [
           23029846
          ],
          [
           29702056
          ],
          [
           2792605.75
          ],
          [
           48659632
          ],
          [
           18652984
          ],
          [
           33346788
          ],
          [
           27334024
          ],
          [
           12316384
          ],
          [
           118614.328125
          ],
          [
           49697376
          ],
          [
           16841212
          ],
          [
           1125755
          ],
          [
           19747472
          ],
          [
           29804264
          ],
          [
           24349388
          ],
          [
           45078960
          ],
          [
           10317900
          ],
          [
           26875344
          ],
          [
           16393124
          ],
          [
           14284576
          ],
          [
           14211350
          ],
          [
           13375244
          ],
          [
           7801086
          ],
          [
           21925804
          ],
          [
           4658160
          ],
          [
           19851310
          ],
          [
           22547664
          ],
          [
           34000068
          ],
          [
           21090308
          ],
          [
           23978380
          ],
          [
           15933914
          ],
          [
           836941.5625
          ],
          [
           31816216
          ],
          [
           17155870
          ],
          [
           23472188
          ],
          [
           19439276
          ],
          [
           8859338
          ],
          [
           10785030
          ],
          [
           23639834
          ],
          [
           10055477
          ],
          [
           21871844
          ],
          [
           11835020
          ],
          [
           12856582
          ],
          [
           24478776
          ],
          [
           2701051
          ],
          [
           21825028
          ],
          [
           3901833.5
          ],
          [
           18471976
          ],
          [
           14641640
          ],
          [
           15622009
          ],
          [
           19914000
          ],
          [
           15094410
          ],
          [
           14215398
          ],
          [
           19744440
          ],
          [
           12087448
          ],
          [
           10400356
          ],
          [
           3078260
          ],
          [
           2295409
          ],
          [
           4945216
          ],
          [
           10042776
          ],
          [
           2147682.25
          ],
          [
           1335865.125
          ],
          [
           11037192
          ],
          [
           509231.46875
          ],
          [
           613718.4375
          ],
          [
           9394210
          ],
          [
           5336853.5
          ],
          [
           608692.9375
          ],
          [
           1868168.5
          ],
          [
           34495820
          ],
          [
           16493822
          ],
          [
           1412209.625
          ],
          [
           1323864.125
          ],
          [
           32288848
          ],
          [
           38911404
          ],
          [
           48740864
          ],
          [
           29458818
          ],
          [
           13770878
          ],
          [
           717392.75
          ],
          [
           434517.09375
          ],
          [
           1152624.375
          ],
          [
           27969720
          ],
          [
           1313236.25
          ],
          [
           6172993
          ],
          [
           182580.234375
          ],
          [
           169383.84375
          ],
          [
           9858021
          ],
          [
           20245352
          ],
          [
           23042538
          ],
          [
           1365988.375
          ],
          [
           6555491
          ],
          [
           12641771
          ],
          [
           5034304.5
          ],
          [
           10689614
          ],
          [
           18138608
          ],
          [
           3942512.75
          ],
          [
           5102385
          ],
          [
           18183028
          ],
          [
           1286112
          ],
          [
           19534668
          ],
          [
           12073426
          ],
          [
           11133970
          ],
          [
           606506
          ],
          [
           7222543
          ],
          [
           24655806
          ],
          [
           11677996
          ],
          [
           2375373
          ],
          [
           6047623.5
          ],
          [
           23871644
          ],
          [
           12743238
          ],
          [
           13354298
          ],
          [
           10273942
          ],
          [
           8644275
          ],
          [
           8731904
          ],
          [
           826266.25
          ],
          [
           21314438
          ],
          [
           11095152
          ],
          [
           547114.875
          ],
          [
           1989519
          ],
          [
           6502746
          ],
          [
           12023482
          ],
          [
           4365443
          ],
          [
           3689215
          ],
          [
           28542014
          ],
          [
           2063871.875
          ],
          [
           1080736.125
          ],
          [
           7729291
          ],
          [
           847718.5
          ],
          [
           8165957.5
          ],
          [
           5217635
          ],
          [
           89671.640625
          ],
          [
           6037707.5
          ],
          [
           4422491
          ],
          [
           8013067
          ],
          [
           8218736.5
          ],
          [
           2282903.25
          ],
          [
           26029044
          ],
          [
           11873980
          ],
          [
           2540929
          ],
          [
           2244885.25
          ],
          [
           5914955
          ],
          [
           5159999
          ],
          [
           5823336.5
          ],
          [
           4711403.5
          ],
          [
           10437030
          ],
          [
           5853204.5
          ],
          [
           5475890.5
          ],
          [
           9641170
          ],
          [
           2200350.5
          ],
          [
           408622.65625
          ],
          [
           339731.6875
          ],
          [
           10258765
          ],
          [
           18746396
          ],
          [
           4673826
          ],
          [
           656834.375
          ],
          [
           7927858
          ],
          [
           2001691.5
          ],
          [
           7614878.5
          ],
          [
           376661.9375
          ],
          [
           12129963
          ],
          [
           2877102.75
          ],
          [
           1400520.25
          ],
          [
           665467.5
          ],
          [
           7731947
          ],
          [
           13809541
          ],
          [
           10073804
          ],
          [
           6416089
          ],
          [
           6842478.5
          ],
          [
           16325600
          ],
          [
           7935239
          ],
          [
           23727016
          ],
          [
           178577.46875
          ],
          [
           27245068
          ],
          [
           22755374
          ],
          [
           6900043
          ],
          [
           11241608
          ],
          [
           25054060
          ],
          [
           22632328
          ],
          [
           15483848
          ],
          [
           1806975.75
          ],
          [
           10869696
          ],
          [
           15318746
          ],
          [
           11478116
          ],
          [
           6940345
          ],
          [
           305104.1875
          ],
          [
           11018326
          ],
          [
           729790.0625
          ],
          [
           600194.75
          ],
          [
           13776902
          ],
          [
           10830414
          ],
          [
           2456385.25
          ],
          [
           7045136
          ],
          [
           4916415
          ],
          [
           648257.125
          ],
          [
           14255678
          ],
          [
           22101290
          ],
          [
           17094028
          ],
          [
           18562884
          ],
          [
           7781371
          ],
          [
           5696673
          ],
          [
           6822535.5
          ],
          [
           9519972
          ],
          [
           14322472
          ],
          [
           26646652
          ],
          [
           25786068
          ],
          [
           9212358
          ],
          [
           5933842.5
          ],
          [
           28626020
          ],
          [
           26203336
          ],
          [
           12753111
          ],
          [
           16133059
          ],
          [
           21049214
          ],
          [
           16381638
          ],
          [
           14706361
          ],
          [
           26701806
          ],
          [
           609414.4375
          ],
          [
           1739911.625
          ],
          [
           15806082
          ],
          [
           27189964
          ],
          [
           21005208
          ],
          [
           2523441
          ],
          [
           20004318
          ],
          [
           18345008
          ],
          [
           21403360
          ],
          [
           15142642
          ],
          [
           16208840
          ],
          [
           17552556
          ],
          [
           16394013
          ],
          [
           14909042
          ],
          [
           28903346
          ],
          [
           33213178
          ],
          [
           33021876
          ],
          [
           27551592
          ],
          [
           1984181.375
          ],
          [
           15840791
          ],
          [
           974479.3125
          ],
          [
           23736180
          ],
          [
           411683.6875
          ],
          [
           9843255
          ],
          [
           2380885.5
          ],
          [
           1489375.5
          ],
          [
           39065648
          ],
          [
           6117619
          ],
          [
           6262089.5
          ],
          [
           18769934
          ],
          [
           13442339
          ],
          [
           28623322
          ],
          [
           17400608
          ],
          [
           18103584
          ],
          [
           10692826
          ],
          [
           21952886
          ],
          [
           779222.8125
          ],
          [
           27752160
          ],
          [
           1589054.5
          ],
          [
           7509839.5
          ],
          [
           22446940
          ],
          [
           20376652
          ],
          [
           1037495.9375
          ],
          [
           3439757
          ],
          [
           460661.03125
          ],
          [
           1206483.875
          ],
          [
           1275963.25
          ],
          [
           15208570
          ],
          [
           18846572
          ],
          [
           14245896
          ],
          [
           4980853.5
          ],
          [
           13008026
          ],
          [
           18067588
          ],
          [
           17893288
          ],
          [
           11360468
          ],
          [
           2234516.5
          ],
          [
           9196183
          ],
          [
           502891.28125
          ],
          [
           444186.96875
          ],
          [
           8001052
          ],
          [
           4180893
          ],
          [
           17258220
          ],
          [
           18112000
          ],
          [
           12196412
          ],
          [
           338764.875
          ],
          [
           20950178
          ],
          [
           7026421
          ],
          [
           1017332.6875
          ],
          [
           316379.5625
          ],
          [
           13430299
          ],
          [
           1775096.375
          ]
         ],
         "hovertemplate": "subsidy=%{marker.color}<br>latitude=%{lat}<br>longitude=%{lon}<extra></extra>",
         "lat": [
          51.186339714285715,
          51.61689452596256,
          50.79255267648435,
          51.23622662027832,
          51.688160087278,
          51.842181845463934,
          50.9299051257007,
          52.55741399163361,
          52.84966826588354,
          52.42253655723906,
          52.246969980992404,
          52.108971502757456,
          53.769881958199065,
          52.94304875962285,
          53.56027217226716,
          54.186959795322835,
          52.7983813080232,
          52.61617962550858,
          52.351879309430856,
          53.051904075870155,
          52.00293405846531,
          48.92936835511982,
          53.74343418091627,
          49.84733259234316,
          54.426131292609355,
          48.65765999436937,
          51.516821257387846,
          51.82208804169951,
          54.11193640256025,
          54.564673255789955,
          53.42037728942595,
          53.91939055026315,
          52.41524426666666,
          50.98321183715679,
          52.337902964436736,
          53.14577804498387,
          50.91502978891479,
          53.51980453178691,
          51.99240147598709,
          49.410675031210985,
          51.07516979166667,
          48.577885867105536,
          49.15238538175046,
          53.417798888888896,
          52.479758770312884,
          48.205317565289256,
          52.22015498947401,
          51.14352376741693,
          53.59244668612767,
          51.764717307692315,
          51.771352381099376,
          48.783726503198295,
          51.475811386918835,
          51.32191521739132,
          51.20799391941392,
          52.10518333333334,
          50.9457023278237,
          51.421073341063945,
          50.87796307581521,
          51.99761956587766,
          51.564744663076084,
          51.780240393907,
          51.15947512190495,
          49.900814019901354,
          51.30381270494417,
          51.15934275350645,
          50.9399774512305,
          51.86189784946237,
          50.65705798918387,
          50.602521914998356,
          50.87598706563707,
          50.72441571094403,
          50.91038135135134,
          50.37653202040816,
          50.47784908067542,
          50.38564429892054,
          50.62319288900326,
          50.793795312499995,
          48.04287848074704,
          54.091809166666664,
          53.913844332235904,
          53.792256201902035,
          54.21839292851221,
          53.648653743315506,
          52.8934207774799,
          53.711206322427806,
          54.071618055555554,
          53.32813831775701,
          54.263014288034675,
          49.49003564763996,
          50.54369726949848,
          53.56928635537013,
          52.50425161290322,
          53.61388522200772,
          53.72395667563929,
          54.166284477853324,
          54.338916830870275,
          47.732176555652934,
          51.50072226890757,
          54.75595178571428,
          51.67287891848265,
          48.391524272023354,
          52.57670003850385,
          53.57022924168489,
          53.27678597525773,
          53.14909402985074,
          53.220501367187495,
          52.99445291953664,
          52.87831836734694,
          53.51513928720609,
          53.56323333333334,
          53.3673394265233,
          53.48121806666878,
          52.724063702979684,
          48.885320085930786,
          53.237733377994324,
          53.360134693877555,
          52.747212537878795,
          52.81418461760462,
          52.601654506285136,
          52.91886018802371,
          49.98362685725733,
          53.571485714285714,
          52.665475781291036,
          53.22150095323741,
          53.04224999999999,
          52.68921043566363,
          52.99398751891074,
          53.02032128611069,
          52.41602739852399,
          51.89056034391535,
          52.104985047619046,
          52.100388952164,
          52.3090660472973,
          49.95168697213808,
          52.29465731146305,
          52.16990443925234,
          52.34796112107624,
          52.00040899742932,
          51.709385385385374,
          51.67344370434035,
          52.27084649085978,
          51.92886603844703,
          51.01583466878223,
          51.281534467821785,
          51.24650903426791,
          51.549174344279216,
          51.30034245996441,
          51.18629528965129,
          50.73814893908282,
          50.63625066864783,
          50.576955313351505,
          50.60930719249478,
          50.402693618960804,
          50.56423930071659,
          50.89479368318756,
          51.16146988906498,
          50.80958460185185,
          52.290356379310325,
          51.74847198792198,
          52.116161033388074,
          52.10035359428852,
          52.25615659013605,
          50.35890090786819,
          51.367235296786404,
          50.277760565411796,
          47.765311301684534,
          50.94220427612863,
          51.932961577557755,
          50.42393241997497,
          52.407517996289414,
          51.22541632653061,
          51.26875208333333,
          51.14692604166666,
          51.165010691823916,
          51.26010409836064,
          51.2924833939394,
          51.16537454545455,
          51.417872580645145,
          51.6874318805093,
          51.345148735244514,
          51.19220634920636,
          51.515729496402884,
          51.956542549575076,
          51.6140997273347,
          51.34207238095239,
          51.41941775700935,
          51.84433788417987,
          52.21209343610144,
          52.36437449339208,
          52.656011232765614,
          51.04451984126984,
          51.469216145833336,
          51.576887804878055,
          51.411061261261274,
          51.86982437195351,
          52.276056716417905,
          50.55765450643778,
          51.52124444444445,
          51.5479,
          51.5862793902439,
          48.077679229661626,
          47.95885091186541,
          51.60178803418801,
          50.450746244301875,
          51.01340961251863,
          50.94020526315789,
          50.701537250293775,
          50.823191666666666,
          50.71611764705882,
          50.57177552447552,
          50.7416838107928,
          49.75450568498168,
          50.55132715489306,
          49.72217706892713,
          50.90123525498891,
          51.04977291666666,
          50.146910648658434,
          50.055968975295954,
          50.24629891195456,
          49.46612388059702,
          50.738758866861474,
          47.78533074908328,
          50.03342297964912,
          49.755929166753695,
          49.810397001135534,
          49.97823851851853,
          50.24473515560626,
          49.27379642857142,
          50.92191952952512,
          50.32002864940014,
          50.35840967741933,
          50.313840267857145,
          50.02939139784946,
          51.254751034302174,
          51.663317696629214,
          50.26662354525863,
          51.582691260162605,
          50.02457174887893,
          49.9685,
          49.57957642124884,
          49.8851,
          49.69707848410758,
          49.228254861904766,
          50.11291538461539,
          49.69378803589232,
          49.87972233009709,
          50.13965273396425,
          49.629354981884056,
          50.08420492957746,
          48.45064802102152,
          49.37202638342512,
          49.25348666666667,
          50.093917289719634,
          49.24453017704047,
          49.515159347181,
          49.48024279176201,
          49.360529054054055,
          49.545800541289125,
          49.46279430122401,
          49.490663951120155,
          49.43870385273973,
          49.384793959731546,
          49.489119354838714,
          49.203962499999996,
          49.643817556511614,
          50.38475991449767,
          49.13576925925927,
          49.5386,
          49.18772575325216,
          49.62717109826589,
          48.47974017971759,
          49.44488870967741,
          48.90281888586957,
          49.50853260869566,
          49.3537472727273,
          49.40793272171255,
          48.667353490566036,
          49.07678360814743,
          47.72040713259441,
          48.90759919246299,
          48.6345906291834,
          48.25891945846718,
          48.46367489239597,
          47.78258518102091,
          49.31653636363635,
          49.139561649717514,
          49.53199099440895,
          48.654949364613884,
          48.25680179839091,
          48.10484506643559,
          48.425325002843174,
          49.28165986206896,
          49.143228104575165,
          48.64339160104986,
          48.08924616136919,
          49.708921006641035,
          48.313763105590056,
          48.88316363636363,
          48.23130344890846,
          49.001682539682555,
          48.75585810810812,
          47.82250231866824,
          48.022589646643105,
          47.9952085106383,
          48.132962485448196,
          48.75851532258065,
          49.193929203007514,
          49.00946639503299,
          49.898837555991044,
          47.6849031888112,
          49.04428825861543,
          48.18808007246377,
          48.005331769436985,
          48.08027666666667,
          47.601085292761645,
          47.850293743693236,
          47.87597587247689,
          47.90576475427351,
          48.05918872912802,
          47.75681861495845,
          48.53863890198719,
          48.91751568734627,
          47.782882726909236,
          48.65892949438202,
          48.85629425552988,
          48.434947567716975,
          48.24682799329502,
          48.421008017503006,
          47.84824130434784,
          48.52842575757577,
          49.758481384901025,
          49.31749773816531,
          48.29709948364887,
          48.74994199288256,
          49.54537618368512,
          48.6107050862069,
          48.91552961730449,
          48.22439172683514,
          48.576910494958746,
          48.396556595648235,
          48.33447014729091,
          48.64387996832938,
          48.86253923495974,
          47.82037017082786,
          47.614225427275905,
          48.09258592383639,
          47.72006609442061,
          48.58828372257607,
          47.98369999999999,
          50.34038764011799,
          47.88240000000001,
          50.04738746789933,
          48.41032183908045,
          49.474853881278534,
          49.24351910256411,
          49.47698829183049,
          49.6607124228395,
          49.490027344521216,
          49.18269615668884,
          49.56814188886172,
          49.18055974304069,
          49.68840970193741,
          49.50211368494423,
          49.870206932707354,
          49.48823673469388,
          49.23457258398344,
          49.0214790909091,
          49.3048,
          49.03975616806723,
          49.891416733929084,
          49.58864835164836,
          49.62429813664597,
          49.3082,
          49.442899999999995,
          49.683549999999975,
          48.80686073992269,
          50.261251899827286,
          50.09050629770992,
          49.888022368421055,
          50.26798399758455,
          50.066703757115754,
          48.79338633059419,
          50.08979779853235,
          48.901262647058836,
          50.3128041000695,
          48.5790711111111,
          50.25939999999999,
          49.791044370860945,
          50.39745437710437,
          50.01853676554477,
          50.229467693522906,
          50.41447331501831,
          50.60285714285713,
          50.627927685364746,
          50.981490322580655,
          50.9821875,
          50.041842307692306,
          51.49482982409951,
          50.980700000000006
         ],
         "legendgroup": "",
         "lon": [
          13.58488666666667,
          13.434729007472553,
          14.07327976390837,
          13.516385290479347,
          13.958000112040802,
          10.988902190610153,
          13.136635646339391,
          13.386240246570493,
          13.169500136667931,
          13.034618164983163,
          12.66973968141802,
          13.25369123793909,
          13.669140782905021,
          12.575277188416123,
          12.932555097751267,
          12.96791676372798,
          13.686986135149715,
          12.616171885033063,
          13.761694317245068,
          11.92187284187809,
          13.869718227544503,
          9.573931318082789,
          12.10212520048771,
          7.495128671053749,
          9.578352700395179,
          9.72582662148756,
          13.721497809381699,
          11.762440438278034,
          9.102076711832071,
          8.9160417547963,
          11.385578298916466,
          9.512561645930704,
          12.528225955555554,
          12.233384796546613,
          14.421303665978522,
          13.77354311553589,
          13.852714930069931,
          10.050048052660713,
          8.980817601851323,
          11.218162172284641,
          7.946070461309523,
          13.306147459370498,
          9.169369459962756,
          11.670203472222223,
          7.017782323550813,
          11.56548361322314,
          11.301166823987186,
          14.744524236972387,
          10.674845534826357,
          14.329725,
          14.341156549380916,
          9.23300103411514,
          12.802645558932793,
          12.297791304347824,
          12.610513717948718,
          11.639633333333332,
          12.392282410468322,
          11.838987617678077,
          10.82940897560132,
          9.283141906507476,
          11.646442325537901,
          12.06543116210249,
          11.811136480940203,
          8.132817839671484,
          11.030363484316853,
          11.178787311079846,
          11.648267529345071,
          12.22960107526882,
          11.322952187807276,
          11.748850663494148,
          12.129858108108106,
          12.07646870357588,
          11.6052072972973,
          11.360753612244899,
          12.239584559099438,
          12.301909577782883,
          12.945339749528221,
          12.928853125,
          8.385424530479488,
          12.183672371794872,
          10.145598087762826,
          11.172164666793002,
          10.360913837064675,
          10.169637005347596,
          10.27814889968722,
          10.322457927674341,
          9.999684722222222,
          9.961071534267912,
          9.758079617852484,
          9.339565340285398,
          8.92990898148304,
          9.435066126444159,
          9.693456356736244,
          8.826728200772202,
          9.729999914759981,
          10.824797326997691,
          10.111592200328404,
          9.848521351884312,
          7.6304470588235285,
          9.45193392857143,
          6.2894229055690065,
          9.520511701574003,
          10.600790198019801,
          7.7125646093443265,
          9.275769993323514,
          8.213932835820895,
          8.027634082031252,
          8.411940536944272,
          7.924861787473611,
          7.99151988544946,
          8.098907936507937,
          8.406861111111112,
          7.38610609152752,
          7.424686175582014,
          10.08511214514491,
          7.5020605278116115,
          7.216561224489797,
          8.719618657135875,
          9.2832670995671,
          9.095037880590658,
          9.709066490905375,
          9.675748609203296,
          8.59307142857143,
          11.174154736403498,
          8.827505053956834,
          8.649995652173915,
          10.115135258358663,
          10.560890090771558,
          11.109271513482874,
          9.70278860701107,
          9.544551613756612,
          9.95447092063492,
          9.378085990888383,
          10.262072128378378,
          6.998621126925298,
          9.204912890150641,
          8.631993691588786,
          8.658258654708522,
          8.596194858611824,
          9.192874924924926,
          8.682955436183926,
          12.00844937213602,
          8.357558144418716,
          9.356939547798493,
          9.37860488861386,
          9.29134119937695,
          10.075559791408509,
          8.433870217971531,
          8.877174311023623,
          9.032766427104722,
          8.376330704733602,
          8.81171425976385,
          9.276990537410239,
          8.21946709206928,
          9.788684519397084,
          9.750122691933916,
          9.941323085050184,
          10.129584600308643,
          10.565059913793103,
          9.874807098307098,
          10.3633789819376,
          10.576542210030247,
          10.881096215986394,
          8.928912104909212,
          10.216266992087709,
          9.366791374585317,
          9.422296758550281,
          10.70136627365492,
          10.352514435643565,
          7.919564697921442,
          10.791987012987013,
          6.807677551020406,
          6.980843666666667,
          6.632838194444444,
          6.394538364779876,
          7.176622131147541,
          6.354619515151516,
          7.063138181818184,
          6.883608064516127,
          7.170177668952007,
          7.322888364249578,
          7.236939682539684,
          7.476705755395683,
          6.899325694050992,
          6.62819754601227,
          6.553899047619045,
          7.024323364485982,
          7.44233299902944,
          7.566142366981601,
          8.044977907488986,
          8.216865896188159,
          6.130633333333333,
          7.350194270833334,
          7.075682926829269,
          6.733239639639638,
          7.966427409073867,
          8.045245522388061,
          7.977538483547925,
          6.824877777777779,
          7.2107052631578945,
          7.6404902439024385,
          9.275381779457645,
          7.973055910376657,
          6.916263247863248,
          7.025096568716478,
          7.505301266766022,
          6.967619298245615,
          6.209439365452408,
          6.437300686274511,
          7.111296078431373,
          7.488977983682984,
          7.303457961359095,
          6.625757194139195,
          6.643870576798444,
          6.681155669168107,
          6.725186696230597,
          7.025441666666666,
          7.161709761540906,
          6.408982382859549,
          6.782299418392764,
          9.09553582089552,
          7.692055528587794,
          9.769365409463944,
          7.486896990211458,
          8.151961369520736,
          7.693175102792066,
          8.244606682427108,
          7.856464056331501,
          7.4019892857142855,
          11.107933965614563,
          7.317359241573375,
          7.549014516129034,
          11.869374196428572,
          9.199556204591687,
          7.689789787902592,
          7.810086235955056,
          8.523155441810346,
          8.21201524390244,
          8.804104932735424,
          9.156326086956526,
          9.879415657036347,
          8.653941999999999,
          8.916780684596576,
          7.258900695238096,
          8.777892307692309,
          8.947699401794615,
          8.465334223300971,
          8.080484700315457,
          8.688783514492755,
          8.304123943661974,
          8.448138331417312,
          8.774175111460794,
          6.951977333333335,
          8.459394392523365,
          7.541207850406623,
          7.109659020771513,
          6.6715217391304344,
          6.788695945945945,
          8.729919225242593,
          7.630514709087861,
          8.1865583503055,
          8.342333390410959,
          7.058575838926174,
          8.40544193548387,
          7.596953125000001,
          7.911957494833147,
          10.215397720985791,
          8.236108258471237,
          8.354,
          8.095169763076543,
          8.318768786127169,
          8.977339666238768,
          7.7467870967741925,
          9.312981861413045,
          8.526897826086957,
          8.138712727272727,
          8.830514067278287,
          8.918898113207549,
          8.604740834141609,
          7.7968450605500825,
          8.740015746971736,
          9.387399163319948,
          8.928707526388253,
          8.498086657101865,
          11.02930647627614,
          8.434790909090912,
          9.904197122410547,
          9.77158228168264,
          8.67256891495601,
          8.49811919072409,
          9.783936533795494,
          9.855496679176618,
          9.609412827586205,
          9.190343790849674,
          10.17365927384077,
          10.99741531784841,
          11.189040650122335,
          10.116071428571429,
          8.707969696969696,
          12.695044276279583,
          8.393458730158732,
          8.143847297297299,
          9.006304280618313,
          8.802101660777385,
          7.856892553191488,
          7.913849767171129,
          8.187370000000001,
          8.060154917293232,
          13.033181155413272,
          12.194979829227323,
          8.207583179487179,
          10.883988197621225,
          11.196764492753621,
          11.259083378016086,
          11.655329430894309,
          11.138743430152145,
          11.505532172889337,
          12.180074306734578,
          12.61198123931624,
          11.935496474953617,
          12.927324986149584,
          12.203065308184573,
          12.630194247062038,
          11.82437548980408,
          12.542101264044943,
          11.83007821063057,
          11.058292730790491,
          12.338125550766284,
          12.820814288234878,
          12.105117391304349,
          12.144531313131312,
          10.25896144348891,
          12.289126441324028,
          12.017388640275389,
          11.421778647686832,
          10.110275841414717,
          11.832893275862068,
          11.368952312811981,
          11.183178309265946,
          11.509573006416133,
          10.719959168177697,
          10.38582682798527,
          11.231455977830562,
          10.713419339175745,
          10.635948132156935,
          10.26076607080572,
          10.397469181946404,
          10.313166523605151,
          10.528485774946923,
          10.185300000000002,
          11.16057518905873,
          10.621899999999997,
          11.095593091936312,
          9.975945114942528,
          11.041934703196345,
          10.478762767722472,
          10.839807820008737,
          10.88071156121399,
          11.77637436656795,
          11.156418058635131,
          10.478162016878668,
          11.590104114408074,
          12.164293144560357,
          11.394865148698884,
          11.515176830985915,
          10.974242857142858,
          12.685721779971344,
          12.107798181818188,
          10.593099999999996,
          12.154065899159663,
          10.927591697895645,
          10.976543681318683,
          11.38020745341615,
          11.025433333333336,
          11.862700000000002,
          12.19175,
          13.524297846493651,
          11.831973690270582,
          11.476566412213739,
          10.889984210526318,
          10.95158786231884,
          10.611658102466793,
          13.019429092920355,
          12.056451100733824,
          12.651146764705883,
          11.340924530924253,
          13.410842222222222,
          10.9638,
          9.934860264900665,
          11.130120202020203,
          10.233055847119223,
          9.951263902053713,
          10.726785959821427,
          10.698464285714284,
          10.392823549133329,
          11.024599354838713,
          11.279517857142855,
          10.220676923076923,
          10.71894509920635,
          10.3152
         ],
         "marker": {
          "color": [
           2437250.75,
           34567936,
           55810576,
           48541624,
           18429872,
           44332652,
           70641208,
           5840335,
           25150898,
           31273368,
           42720440,
           30171476,
           92016112,
           45642992,
           111722976,
           83213792,
           17615036,
           39371372,
           46499048,
           45305096,
           31858124,
           10555350,
           94967768,
           8053979.5,
           54432140,
           10109376,
           33468084,
           61418940,
           37261780,
           69231256,
           112286648,
           24511836,
           1700966.125,
           38050072,
           2741847,
           57969312,
           47872416,
           8787108,
           21642208,
           2206682,
           8285475,
           33775360,
           20730646,
           9245478,
           22722740,
           6803956.5,
           58119904,
           43386136,
           29068596,
           2153916.5,
           25364296,
           11177951,
           46530960,
           2667056.75,
           47239936,
           24829844,
           13782044,
           41936604,
           40062504,
           5091417.5,
           38159012,
           36771480,
           39939988,
           10230339,
           21596824,
           21836970,
           19478366,
           3439733.75,
           16517412,
           22579972,
           1881724.75,
           21505772,
           4938283.5,
           13750527,
           35791112,
           29867798,
           45065648,
           559946,
           17497702,
           1250479.5,
           28773658,
           48015936,
           25164236,
           8687499,
           31825740,
           17544824,
           2409942.75,
           20051706,
           51535696,
           16357038,
           9164588,
           36872792,
           8617872,
           53663384,
           14108255,
           32546708,
           2008163.375,
           6605147,
           823222.0625,
           155777.125,
           31887386,
           16729246,
           30716094,
           16620529,
           49299228,
           1035997.375,
           16465403,
           26037564,
           30678904,
           18658200,
           1394185.375,
           22335662,
           37513712,
           70370896,
           23029846,
           29702056,
           2792605.75,
           48659632,
           18652984,
           33346788,
           27334024,
           12316384,
           118614.328125,
           49697376,
           16841212,
           1125755,
           19747472,
           29804264,
           24349388,
           45078960,
           10317900,
           26875344,
           16393124,
           14284576,
           14211350,
           13375244,
           7801086,
           21925804,
           4658160,
           19851310,
           22547664,
           34000068,
           21090308,
           23978380,
           15933914,
           836941.5625,
           31816216,
           17155870,
           23472188,
           19439276,
           8859338,
           10785030,
           23639834,
           10055477,
           21871844,
           11835020,
           12856582,
           24478776,
           2701051,
           21825028,
           3901833.5,
           18471976,
           14641640,
           15622009,
           19914000,
           15094410,
           14215398,
           19744440,
           12087448,
           10400356,
           3078260,
           2295409,
           4945216,
           10042776,
           2147682.25,
           1335865.125,
           11037192,
           509231.46875,
           613718.4375,
           9394210,
           5336853.5,
           608692.9375,
           1868168.5,
           34495820,
           16493822,
           1412209.625,
           1323864.125,
           32288848,
           38911404,
           48740864,
           29458818,
           13770878,
           717392.75,
           434517.09375,
           1152624.375,
           27969720,
           1313236.25,
           6172993,
           182580.234375,
           169383.84375,
           9858021,
           20245352,
           23042538,
           1365988.375,
           6555491,
           12641771,
           5034304.5,
           10689614,
           18138608,
           3942512.75,
           5102385,
           18183028,
           1286112,
           19534668,
           12073426,
           11133970,
           606506,
           7222543,
           24655806,
           11677996,
           2375373,
           6047623.5,
           23871644,
           12743238,
           13354298,
           10273942,
           8644275,
           8731904,
           826266.25,
           21314438,
           11095152,
           547114.875,
           1989519,
           6502746,
           12023482,
           4365443,
           3689215,
           28542014,
           2063871.875,
           1080736.125,
           7729291,
           847718.5,
           8165957.5,
           5217635,
           89671.640625,
           6037707.5,
           4422491,
           8013067,
           8218736.5,
           2282903.25,
           26029044,
           11873980,
           2540929,
           2244885.25,
           5914955,
           5159999,
           5823336.5,
           4711403.5,
           10437030,
           5853204.5,
           5475890.5,
           9641170,
           2200350.5,
           408622.65625,
           339731.6875,
           10258765,
           18746396,
           4673826,
           656834.375,
           7927858,
           2001691.5,
           7614878.5,
           376661.9375,
           12129963,
           2877102.75,
           1400520.25,
           665467.5,
           7731947,
           13809541,
           10073804,
           6416089,
           6842478.5,
           16325600,
           7935239,
           23727016,
           178577.46875,
           27245068,
           22755374,
           6900043,
           11241608,
           25054060,
           22632328,
           15483848,
           1806975.75,
           10869696,
           15318746,
           11478116,
           6940345,
           305104.1875,
           11018326,
           729790.0625,
           600194.75,
           13776902,
           10830414,
           2456385.25,
           7045136,
           4916415,
           648257.125,
           14255678,
           22101290,
           17094028,
           18562884,
           7781371,
           5696673,
           6822535.5,
           9519972,
           14322472,
           26646652,
           25786068,
           9212358,
           5933842.5,
           28626020,
           26203336,
           12753111,
           16133059,
           21049214,
           16381638,
           14706361,
           26701806,
           609414.4375,
           1739911.625,
           15806082,
           27189964,
           21005208,
           2523441,
           20004318,
           18345008,
           21403360,
           15142642,
           16208840,
           17552556,
           16394013,
           14909042,
           28903346,
           33213178,
           33021876,
           27551592,
           1984181.375,
           15840791,
           974479.3125,
           23736180,
           411683.6875,
           9843255,
           2380885.5,
           1489375.5,
           39065648,
           6117619,
           6262089.5,
           18769934,
           13442339,
           28623322,
           17400608,
           18103584,
           10692826,
           21952886,
           779222.8125,
           27752160,
           1589054.5,
           7509839.5,
           22446940,
           20376652,
           1037495.9375,
           3439757,
           460661.03125,
           1206483.875,
           1275963.25,
           15208570,
           18846572,
           14245896,
           4980853.5,
           13008026,
           18067588,
           17893288,
           11360468,
           2234516.5,
           9196183,
           502891.28125,
           444186.96875,
           8001052,
           4180893,
           17258220,
           18112000,
           12196412,
           338764.875,
           20950178,
           7026421,
           1017332.6875,
           316379.5625,
           13430299,
           1775096.375
          ],
          "coloraxis": "coloraxis",
          "size": [
           2437250.75,
           34567936,
           55810576,
           48541624,
           18429872,
           44332652,
           70641208,
           5840335,
           25150898,
           31273368,
           42720440,
           30171476,
           92016112,
           45642992,
           111722976,
           83213792,
           17615036,
           39371372,
           46499048,
           45305096,
           31858124,
           10555350,
           94967768,
           8053979.5,
           54432140,
           10109376,
           33468084,
           61418940,
           37261780,
           69231256,
           112286648,
           24511836,
           1700966.125,
           38050072,
           2741847,
           57969312,
           47872416,
           8787108,
           21642208,
           2206682,
           8285475,
           33775360,
           20730646,
           9245478,
           22722740,
           6803956.5,
           58119904,
           43386136,
           29068596,
           2153916.5,
           25364296,
           11177951,
           46530960,
           2667056.75,
           47239936,
           24829844,
           13782044,
           41936604,
           40062504,
           5091417.5,
           38159012,
           36771480,
           39939988,
           10230339,
           21596824,
           21836970,
           19478366,
           3439733.75,
           16517412,
           22579972,
           1881724.75,
           21505772,
           4938283.5,
           13750527,
           35791112,
           29867798,
           45065648,
           559946,
           17497702,
           1250479.5,
           28773658,
           48015936,
           25164236,
           8687499,
           31825740,
           17544824,
           2409942.75,
           20051706,
           51535696,
           16357038,
           9164588,
           36872792,
           8617872,
           53663384,
           14108255,
           32546708,
           2008163.375,
           6605147,
           823222.0625,
           155777.125,
           31887386,
           16729246,
           30716094,
           16620529,
           49299228,
           1035997.375,
           16465403,
           26037564,
           30678904,
           18658200,
           1394185.375,
           22335662,
           37513712,
           70370896,
           23029846,
           29702056,
           2792605.75,
           48659632,
           18652984,
           33346788,
           27334024,
           12316384,
           118614.328125,
           49697376,
           16841212,
           1125755,
           19747472,
           29804264,
           24349388,
           45078960,
           10317900,
           26875344,
           16393124,
           14284576,
           14211350,
           13375244,
           7801086,
           21925804,
           4658160,
           19851310,
           22547664,
           34000068,
           21090308,
           23978380,
           15933914,
           836941.5625,
           31816216,
           17155870,
           23472188,
           19439276,
           8859338,
           10785030,
           23639834,
           10055477,
           21871844,
           11835020,
           12856582,
           24478776,
           2701051,
           21825028,
           3901833.5,
           18471976,
           14641640,
           15622009,
           19914000,
           15094410,
           14215398,
           19744440,
           12087448,
           10400356,
           3078260,
           2295409,
           4945216,
           10042776,
           2147682.25,
           1335865.125,
           11037192,
           509231.46875,
           613718.4375,
           9394210,
           5336853.5,
           608692.9375,
           1868168.5,
           34495820,
           16493822,
           1412209.625,
           1323864.125,
           32288848,
           38911404,
           48740864,
           29458818,
           13770878,
           717392.75,
           434517.09375,
           1152624.375,
           27969720,
           1313236.25,
           6172993,
           182580.234375,
           169383.84375,
           9858021,
           20245352,
           23042538,
           1365988.375,
           6555491,
           12641771,
           5034304.5,
           10689614,
           18138608,
           3942512.75,
           5102385,
           18183028,
           1286112,
           19534668,
           12073426,
           11133970,
           606506,
           7222543,
           24655806,
           11677996,
           2375373,
           6047623.5,
           23871644,
           12743238,
           13354298,
           10273942,
           8644275,
           8731904,
           826266.25,
           21314438,
           11095152,
           547114.875,
           1989519,
           6502746,
           12023482,
           4365443,
           3689215,
           28542014,
           2063871.875,
           1080736.125,
           7729291,
           847718.5,
           8165957.5,
           5217635,
           89671.640625,
           6037707.5,
           4422491,
           8013067,
           8218736.5,
           2282903.25,
           26029044,
           11873980,
           2540929,
           2244885.25,
           5914955,
           5159999,
           5823336.5,
           4711403.5,
           10437030,
           5853204.5,
           5475890.5,
           9641170,
           2200350.5,
           408622.65625,
           339731.6875,
           10258765,
           18746396,
           4673826,
           656834.375,
           7927858,
           2001691.5,
           7614878.5,
           376661.9375,
           12129963,
           2877102.75,
           1400520.25,
           665467.5,
           7731947,
           13809541,
           10073804,
           6416089,
           6842478.5,
           16325600,
           7935239,
           23727016,
           178577.46875,
           27245068,
           22755374,
           6900043,
           11241608,
           25054060,
           22632328,
           15483848,
           1806975.75,
           10869696,
           15318746,
           11478116,
           6940345,
           305104.1875,
           11018326,
           729790.0625,
           600194.75,
           13776902,
           10830414,
           2456385.25,
           7045136,
           4916415,
           648257.125,
           14255678,
           22101290,
           17094028,
           18562884,
           7781371,
           5696673,
           6822535.5,
           9519972,
           14322472,
           26646652,
           25786068,
           9212358,
           5933842.5,
           28626020,
           26203336,
           12753111,
           16133059,
           21049214,
           16381638,
           14706361,
           26701806,
           609414.4375,
           1739911.625,
           15806082,
           27189964,
           21005208,
           2523441,
           20004318,
           18345008,
           21403360,
           15142642,
           16208840,
           17552556,
           16394013,
           14909042,
           28903346,
           33213178,
           33021876,
           27551592,
           1984181.375,
           15840791,
           974479.3125,
           23736180,
           411683.6875,
           9843255,
           2380885.5,
           1489375.5,
           39065648,
           6117619,
           6262089.5,
           18769934,
           13442339,
           28623322,
           17400608,
           18103584,
           10692826,
           21952886,
           779222.8125,
           27752160,
           1589054.5,
           7509839.5,
           22446940,
           20376652,
           1037495.9375,
           3439757,
           460661.03125,
           1206483.875,
           1275963.25,
           15208570,
           18846572,
           14245896,
           4980853.5,
           13008026,
           18067588,
           17893288,
           11360468,
           2234516.5,
           9196183,
           502891.28125,
           444186.96875,
           8001052,
           4180893,
           17258220,
           18112000,
           12196412,
           338764.875,
           20950178,
           7026421,
           1017332.6875,
           316379.5625,
           13430299,
           1775096.375
          ],
          "sizemode": "area",
          "sizeref": 499051.7688888889
         },
         "mode": "markers",
         "name": "",
         "showlegend": false,
         "subplot": "mapbox",
         "type": "scattermapbox"
        }
       ],
       "layout": {
        "coloraxis": {
         "colorbar": {
          "title": {
           "text": "subsidy"
          }
         },
         "colorscale": [
          [
           0,
           "#000000"
          ],
          [
           0.0625,
           "#001f4d"
          ],
          [
           0.125,
           "#003786"
          ],
          [
           0.1875,
           "#0e58a8"
          ],
          [
           0.25,
           "#217eb8"
          ],
          [
           0.3125,
           "#30a4ca"
          ],
          [
           0.375,
           "#54c8df"
          ],
          [
           0.4375,
           "#9be4ef"
          ],
          [
           0.5,
           "#e1e9d1"
          ],
          [
           0.5625,
           "#f3d573"
          ],
          [
           0.625,
           "#e7b000"
          ],
          [
           0.6875,
           "#da8200"
          ],
          [
           0.75,
           "#c65400"
          ],
          [
           0.8125,
           "#ac2301"
          ],
          [
           0.875,
           "#820000"
          ],
          [
           0.9375,
           "#4c0000"
          ],
          [
           1,
           "#000000"
          ]
         ]
        },
        "legend": {
         "itemsizing": "constant",
         "tracegroupgap": 0
        },
        "mapbox": {
         "accesstoken": "pk.eyJ1Ijoibmljb3JvZXZlciIsImEiOiJjbHFjZmgwNmYwMWN5MmtrMnB0cXFzeHZxIn0.k_McexSZGPeL8QmDeqEDeg",
         "center": {
          "lat": 50.59510913708864,
          "lon": 9.871250276598227
         },
         "domain": {
          "x": [
           0,
           1
          ],
          "y": [
           0,
           1
          ]
         },
         "style": "white-bg",
         "zoom": 10
        },
        "margin": {
         "t": 60
        },
        "template": {
         "data": {
          "bar": [
           {
            "error_x": {
             "color": "#2a3f5f"
            },
            "error_y": {
             "color": "#2a3f5f"
            },
            "marker": {
             "line": {
              "color": "#E5ECF6",
              "width": 0.5
             },
             "pattern": {
              "fillmode": "overlay",
              "size": 10,
              "solidity": 0.2
             }
            },
            "type": "bar"
           }
          ],
          "barpolar": [
           {
            "marker": {
             "line": {
              "color": "#E5ECF6",
              "width": 0.5
             },
             "pattern": {
              "fillmode": "overlay",
              "size": 10,
              "solidity": 0.2
             }
            },
            "type": "barpolar"
           }
          ],
          "carpet": [
           {
            "aaxis": {
             "endlinecolor": "#2a3f5f",
             "gridcolor": "white",
             "linecolor": "white",
             "minorgridcolor": "white",
             "startlinecolor": "#2a3f5f"
            },
            "baxis": {
             "endlinecolor": "#2a3f5f",
             "gridcolor": "white",
             "linecolor": "white",
             "minorgridcolor": "white",
             "startlinecolor": "#2a3f5f"
            },
            "type": "carpet"
           }
          ],
          "choropleth": [
           {
            "colorbar": {
             "outlinewidth": 0,
             "ticks": ""
            },
            "type": "choropleth"
           }
          ],
          "contour": [
           {
            "colorbar": {
             "outlinewidth": 0,
             "ticks": ""
            },
            "colorscale": [
             [
              0,
              "#0d0887"
             ],
             [
              0.1111111111111111,
              "#46039f"
             ],
             [
              0.2222222222222222,
              "#7201a8"
             ],
             [
              0.3333333333333333,
              "#9c179e"
             ],
             [
              0.4444444444444444,
              "#bd3786"
             ],
             [
              0.5555555555555556,
              "#d8576b"
             ],
             [
              0.6666666666666666,
              "#ed7953"
             ],
             [
              0.7777777777777778,
              "#fb9f3a"
             ],
             [
              0.8888888888888888,
              "#fdca26"
             ],
             [
              1,
              "#f0f921"
             ]
            ],
            "type": "contour"
           }
          ],
          "contourcarpet": [
           {
            "colorbar": {
             "outlinewidth": 0,
             "ticks": ""
            },
            "type": "contourcarpet"
           }
          ],
          "heatmap": [
           {
            "colorbar": {
             "outlinewidth": 0,
             "ticks": ""
            },
            "colorscale": [
             [
              0,
              "#0d0887"
             ],
             [
              0.1111111111111111,
              "#46039f"
             ],
             [
              0.2222222222222222,
              "#7201a8"
             ],
             [
              0.3333333333333333,
              "#9c179e"
             ],
             [
              0.4444444444444444,
              "#bd3786"
             ],
             [
              0.5555555555555556,
              "#d8576b"
             ],
             [
              0.6666666666666666,
              "#ed7953"
             ],
             [
              0.7777777777777778,
              "#fb9f3a"
             ],
             [
              0.8888888888888888,
              "#fdca26"
             ],
             [
              1,
              "#f0f921"
             ]
            ],
            "type": "heatmap"
           }
          ],
          "heatmapgl": [
           {
            "colorbar": {
             "outlinewidth": 0,
             "ticks": ""
            },
            "colorscale": [
             [
              0,
              "#0d0887"
             ],
             [
              0.1111111111111111,
              "#46039f"
             ],
             [
              0.2222222222222222,
              "#7201a8"
             ],
             [
              0.3333333333333333,
              "#9c179e"
             ],
             [
              0.4444444444444444,
              "#bd3786"
             ],
             [
              0.5555555555555556,
              "#d8576b"
             ],
             [
              0.6666666666666666,
              "#ed7953"
             ],
             [
              0.7777777777777778,
              "#fb9f3a"
             ],
             [
              0.8888888888888888,
              "#fdca26"
             ],
             [
              1,
              "#f0f921"
             ]
            ],
            "type": "heatmapgl"
           }
          ],
          "histogram": [
           {
            "marker": {
             "pattern": {
              "fillmode": "overlay",
              "size": 10,
              "solidity": 0.2
             }
            },
            "type": "histogram"
           }
          ],
          "histogram2d": [
           {
            "colorbar": {
             "outlinewidth": 0,
             "ticks": ""
            },
            "colorscale": [
             [
              0,
              "#0d0887"
             ],
             [
              0.1111111111111111,
              "#46039f"
             ],
             [
              0.2222222222222222,
              "#7201a8"
             ],
             [
              0.3333333333333333,
              "#9c179e"
             ],
             [
              0.4444444444444444,
              "#bd3786"
             ],
             [
              0.5555555555555556,
              "#d8576b"
             ],
             [
              0.6666666666666666,
              "#ed7953"
             ],
             [
              0.7777777777777778,
              "#fb9f3a"
             ],
             [
              0.8888888888888888,
              "#fdca26"
             ],
             [
              1,
              "#f0f921"
             ]
            ],
            "type": "histogram2d"
           }
          ],
          "histogram2dcontour": [
           {
            "colorbar": {
             "outlinewidth": 0,
             "ticks": ""
            },
            "colorscale": [
             [
              0,
              "#0d0887"
             ],
             [
              0.1111111111111111,
              "#46039f"
             ],
             [
              0.2222222222222222,
              "#7201a8"
             ],
             [
              0.3333333333333333,
              "#9c179e"
             ],
             [
              0.4444444444444444,
              "#bd3786"
             ],
             [
              0.5555555555555556,
              "#d8576b"
             ],
             [
              0.6666666666666666,
              "#ed7953"
             ],
             [
              0.7777777777777778,
              "#fb9f3a"
             ],
             [
              0.8888888888888888,
              "#fdca26"
             ],
             [
              1,
              "#f0f921"
             ]
            ],
            "type": "histogram2dcontour"
           }
          ],
          "mesh3d": [
           {
            "colorbar": {
             "outlinewidth": 0,
             "ticks": ""
            },
            "type": "mesh3d"
           }
          ],
          "parcoords": [
           {
            "line": {
             "colorbar": {
              "outlinewidth": 0,
              "ticks": ""
             }
            },
            "type": "parcoords"
           }
          ],
          "pie": [
           {
            "automargin": true,
            "type": "pie"
           }
          ],
          "scatter": [
           {
            "fillpattern": {
             "fillmode": "overlay",
             "size": 10,
             "solidity": 0.2
            },
            "type": "scatter"
           }
          ],
          "scatter3d": [
           {
            "line": {
             "colorbar": {
              "outlinewidth": 0,
              "ticks": ""
             }
            },
            "marker": {
             "colorbar": {
              "outlinewidth": 0,
              "ticks": ""
             }
            },
            "type": "scatter3d"
           }
          ],
          "scattercarpet": [
           {
            "marker": {
             "colorbar": {
              "outlinewidth": 0,
              "ticks": ""
             }
            },
            "type": "scattercarpet"
           }
          ],
          "scattergeo": [
           {
            "marker": {
             "colorbar": {
              "outlinewidth": 0,
              "ticks": ""
             }
            },
            "type": "scattergeo"
           }
          ],
          "scattergl": [
           {
            "marker": {
             "colorbar": {
              "outlinewidth": 0,
              "ticks": ""
             }
            },
            "type": "scattergl"
           }
          ],
          "scattermapbox": [
           {
            "marker": {
             "colorbar": {
              "outlinewidth": 0,
              "ticks": ""
             }
            },
            "type": "scattermapbox"
           }
          ],
          "scatterpolar": [
           {
            "marker": {
             "colorbar": {
              "outlinewidth": 0,
              "ticks": ""
             }
            },
            "type": "scatterpolar"
           }
          ],
          "scatterpolargl": [
           {
            "marker": {
             "colorbar": {
              "outlinewidth": 0,
              "ticks": ""
             }
            },
            "type": "scatterpolargl"
           }
          ],
          "scatterternary": [
           {
            "marker": {
             "colorbar": {
              "outlinewidth": 0,
              "ticks": ""
             }
            },
            "type": "scatterternary"
           }
          ],
          "surface": [
           {
            "colorbar": {
             "outlinewidth": 0,
             "ticks": ""
            },
            "colorscale": [
             [
              0,
              "#0d0887"
             ],
             [
              0.1111111111111111,
              "#46039f"
             ],
             [
              0.2222222222222222,
              "#7201a8"
             ],
             [
              0.3333333333333333,
              "#9c179e"
             ],
             [
              0.4444444444444444,
              "#bd3786"
             ],
             [
              0.5555555555555556,
              "#d8576b"
             ],
             [
              0.6666666666666666,
              "#ed7953"
             ],
             [
              0.7777777777777778,
              "#fb9f3a"
             ],
             [
              0.8888888888888888,
              "#fdca26"
             ],
             [
              1,
              "#f0f921"
             ]
            ],
            "type": "surface"
           }
          ],
          "table": [
           {
            "cells": {
             "fill": {
              "color": "#EBF0F8"
             },
             "line": {
              "color": "white"
             }
            },
            "header": {
             "fill": {
              "color": "#C8D4E3"
             },
             "line": {
              "color": "white"
             }
            },
            "type": "table"
           }
          ]
         },
         "layout": {
          "annotationdefaults": {
           "arrowcolor": "#2a3f5f",
           "arrowhead": 0,
           "arrowwidth": 1
          },
          "autotypenumbers": "strict",
          "coloraxis": {
           "colorbar": {
            "outlinewidth": 0,
            "ticks": ""
           }
          },
          "colorscale": {
           "diverging": [
            [
             0,
             "#8e0152"
            ],
            [
             0.1,
             "#c51b7d"
            ],
            [
             0.2,
             "#de77ae"
            ],
            [
             0.3,
             "#f1b6da"
            ],
            [
             0.4,
             "#fde0ef"
            ],
            [
             0.5,
             "#f7f7f7"
            ],
            [
             0.6,
             "#e6f5d0"
            ],
            [
             0.7,
             "#b8e186"
            ],
            [
             0.8,
             "#7fbc41"
            ],
            [
             0.9,
             "#4d9221"
            ],
            [
             1,
             "#276419"
            ]
           ],
           "sequential": [
            [
             0,
             "#0d0887"
            ],
            [
             0.1111111111111111,
             "#46039f"
            ],
            [
             0.2222222222222222,
             "#7201a8"
            ],
            [
             0.3333333333333333,
             "#9c179e"
            ],
            [
             0.4444444444444444,
             "#bd3786"
            ],
            [
             0.5555555555555556,
             "#d8576b"
            ],
            [
             0.6666666666666666,
             "#ed7953"
            ],
            [
             0.7777777777777778,
             "#fb9f3a"
            ],
            [
             0.8888888888888888,
             "#fdca26"
            ],
            [
             1,
             "#f0f921"
            ]
           ],
           "sequentialminus": [
            [
             0,
             "#0d0887"
            ],
            [
             0.1111111111111111,
             "#46039f"
            ],
            [
             0.2222222222222222,
             "#7201a8"
            ],
            [
             0.3333333333333333,
             "#9c179e"
            ],
            [
             0.4444444444444444,
             "#bd3786"
            ],
            [
             0.5555555555555556,
             "#d8576b"
            ],
            [
             0.6666666666666666,
             "#ed7953"
            ],
            [
             0.7777777777777778,
             "#fb9f3a"
            ],
            [
             0.8888888888888888,
             "#fdca26"
            ],
            [
             1,
             "#f0f921"
            ]
           ]
          },
          "colorway": [
           "#636efa",
           "#EF553B",
           "#00cc96",
           "#ab63fa",
           "#FFA15A",
           "#19d3f3",
           "#FF6692",
           "#B6E880",
           "#FF97FF",
           "#FECB52"
          ],
          "font": {
           "color": "#2a3f5f"
          },
          "geo": {
           "bgcolor": "white",
           "lakecolor": "white",
           "landcolor": "#E5ECF6",
           "showlakes": true,
           "showland": true,
           "subunitcolor": "white"
          },
          "hoverlabel": {
           "align": "left"
          },
          "hovermode": "closest",
          "mapbox": {
           "style": "light"
          },
          "paper_bgcolor": "white",
          "plot_bgcolor": "#E5ECF6",
          "polar": {
           "angularaxis": {
            "gridcolor": "white",
            "linecolor": "white",
            "ticks": ""
           },
           "bgcolor": "#E5ECF6",
           "radialaxis": {
            "gridcolor": "white",
            "linecolor": "white",
            "ticks": ""
           }
          },
          "scene": {
           "xaxis": {
            "backgroundcolor": "#E5ECF6",
            "gridcolor": "white",
            "gridwidth": 2,
            "linecolor": "white",
            "showbackground": true,
            "ticks": "",
            "zerolinecolor": "white"
           },
           "yaxis": {
            "backgroundcolor": "#E5ECF6",
            "gridcolor": "white",
            "gridwidth": 2,
            "linecolor": "white",
            "showbackground": true,
            "ticks": "",
            "zerolinecolor": "white"
           },
           "zaxis": {
            "backgroundcolor": "#E5ECF6",
            "gridcolor": "white",
            "gridwidth": 2,
            "linecolor": "white",
            "showbackground": true,
            "ticks": "",
            "zerolinecolor": "white"
           }
          },
          "shapedefaults": {
           "line": {
            "color": "#2a3f5f"
           }
          },
          "ternary": {
           "aaxis": {
            "gridcolor": "white",
            "linecolor": "white",
            "ticks": ""
           },
           "baxis": {
            "gridcolor": "white",
            "linecolor": "white",
            "ticks": ""
           },
           "bgcolor": "#E5ECF6",
           "caxis": {
            "gridcolor": "white",
            "linecolor": "white",
            "ticks": ""
           }
          },
          "title": {
           "x": 0.05
          },
          "xaxis": {
           "automargin": true,
           "gridcolor": "white",
           "linecolor": "white",
           "ticks": "",
           "title": {
            "standoff": 15
           },
           "zerolinecolor": "white",
           "zerolinewidth": 2
          },
          "yaxis": {
           "automargin": true,
           "gridcolor": "white",
           "linecolor": "white",
           "ticks": "",
           "title": {
            "standoff": 15
           },
           "zerolinecolor": "white",
           "zerolinewidth": 2
          }
         }
        }
       }
      }
     },
     "metadata": {},
     "output_type": "display_data"
    }
   ],
   "source": [
    "\n",
    "\n",
    "\n",
    "# Create a scatter map box plot\n",
    "fig = px.scatter_mapbox(\n",
    "    subsidy_data_df,\n",
    "    lat=\"latitude\",\n",
    "    lon=\"longitude\",\n",
    "    color=\"subsidy\",\n",
    "    size=\"subsidy\",\n",
    "    hover_data=[\"subsidy\"],\n",
    "    mapbox_style=\"white-bg\", \n",
    "    color_continuous_scale=px.colors.cyclical.IceFire, size_max=15, zoom=10)\n",
    "\n",
    "\n",
    "# Display the map\n",
    "fig.show()"
   ]
  },
  {
   "cell_type": "code",
   "execution_count": 199,
   "metadata": {},
   "outputs": [],
   "source": [
    "def _create_subsidy_map_2014(data, MAPBOX_TOKEN):\n",
    "    px.set_mapbox_access_token(MAPBOX_TOKEN)\n",
    "\n",
    "    data_filtered = data[\n",
    "    (data[\"year\"] == 2014)]\n",
    "\n",
    "    # Extract the NUTS 3 region names from the 'nuts_3' column\n",
    "    nuts3_names = list(data_filtered[\"nuts_3\"].unique())\n",
    "\n",
    "    # Create a dictionary to store the latitude, longitude, and subsidy data for each NUTS 3 region\n",
    "    nuts3_names = list(data_filtered[\"nuts_3\"].unique())\n",
    "\n",
    "    subsidy_data = {}\n",
    "    for nuts3_name in nuts3_names:\n",
    "        latitude = data_filtered[data_filtered[\"nuts_3\"] == nuts3_name][\"latitude\"].mean()\n",
    "        longitude = data_filtered[data_filtered[\"nuts_3\"] == nuts3_name][\"longitude\"].mean()\n",
    "        total_subsidy = data_filtered[data_filtered[\"nuts_3\"] == nuts3_name][\"amount_euro\"].sum()\n",
    "\n",
    "        subsidy_data[nuts3_name] = {\"latitude\": latitude, \"longitude\": longitude, \"subsidy\": total_subsidy}\n",
    "\n",
    "    subsidy_data_df = pd.DataFrame.from_dict(subsidy_data, orient=\"index\", columns=[\"latitude\", \"longitude\", \"subsidy\"])\n",
    "\n",
    "    fig = px.scatter_mapbox(subsidy_data_df, lat=\"latitude\", lon=\"longitude\", color=\"subsidy\", size=\"subsidy\",\n",
    "                color_continuous_scale=px.colors.cyclical.IceFire, size_max=15, zoom=5)\n",
    "\n",
    "    return fig\n",
    "\n",
    "    \n",
    "    "
   ]
  },
  {
   "cell_type": "code",
   "execution_count": 202,
   "metadata": {},
   "outputs": [],
   "source": [
    "_create_subsidy_map_2014(data, token).write_image(\"test.png\")"
   ]
  },
  {
   "cell_type": "code",
   "execution_count": 203,
   "metadata": {},
   "outputs": [],
   "source": [
    "subsidies_by_year = data.groupby(\"year\")[\"amount_euro\"].sum()"
   ]
  },
  {
   "cell_type": "code",
   "execution_count": 204,
   "metadata": {},
   "outputs": [
    {
     "data": {
      "text/plain": [
       "year\n",
       "2014    6.823073e+09\n",
       "2015    6.743068e+09\n",
       "2016    6.389691e+09\n",
       "2018    6.539055e+09\n",
       "2019    6.686081e+09\n",
       "2020    6.808507e+09\n",
       "2021    6.775587e+09\n",
       "2022    6.938402e+09\n",
       "Name: amount_euro, dtype: float32"
      ]
     },
     "execution_count": 204,
     "metadata": {},
     "output_type": "execute_result"
    }
   ],
   "source": [
    "subsidies_by_year"
   ]
  },
  {
   "cell_type": "code",
   "execution_count": 205,
   "metadata": {},
   "outputs": [],
   "source": [
    "def plot_subsidies_per_year(data):\n",
    "    subsidies_by_year = data.groupby(\"year\")[\"amount_euro\"].sum()\n",
    "    fig = px.line(subsidies_by_year, x=subsidies_by_year.index, y=\"amount_euro\")\n",
    "    return fig"
   ]
  },
  {
   "cell_type": "code",
   "execution_count": 206,
   "metadata": {},
   "outputs": [
    {
     "data": {
      "application/vnd.plotly.v1+json": {
       "config": {
        "plotlyServerURL": "https://plot.ly"
       },
       "data": [
        {
         "hovertemplate": "year=%{x}<br>amount_euro=%{y}<extra></extra>",
         "legendgroup": "",
         "line": {
          "color": "#636efa",
          "dash": "solid"
         },
         "marker": {
          "symbol": "circle"
         },
         "mode": "lines",
         "name": "",
         "orientation": "v",
         "showlegend": false,
         "type": "scatter",
         "x": [
          2014,
          2015,
          2016,
          2018,
          2019,
          2020,
          2021,
          2022
         ],
         "xaxis": "x",
         "y": [
          6823073280,
          6743068160,
          6389691392,
          6539055104,
          6686080512,
          6808507392,
          6775587328,
          6938402304
         ],
         "yaxis": "y"
        }
       ],
       "layout": {
        "legend": {
         "tracegroupgap": 0
        },
        "margin": {
         "t": 60
        },
        "template": {
         "data": {
          "bar": [
           {
            "error_x": {
             "color": "#2a3f5f"
            },
            "error_y": {
             "color": "#2a3f5f"
            },
            "marker": {
             "line": {
              "color": "#E5ECF6",
              "width": 0.5
             },
             "pattern": {
              "fillmode": "overlay",
              "size": 10,
              "solidity": 0.2
             }
            },
            "type": "bar"
           }
          ],
          "barpolar": [
           {
            "marker": {
             "line": {
              "color": "#E5ECF6",
              "width": 0.5
             },
             "pattern": {
              "fillmode": "overlay",
              "size": 10,
              "solidity": 0.2
             }
            },
            "type": "barpolar"
           }
          ],
          "carpet": [
           {
            "aaxis": {
             "endlinecolor": "#2a3f5f",
             "gridcolor": "white",
             "linecolor": "white",
             "minorgridcolor": "white",
             "startlinecolor": "#2a3f5f"
            },
            "baxis": {
             "endlinecolor": "#2a3f5f",
             "gridcolor": "white",
             "linecolor": "white",
             "minorgridcolor": "white",
             "startlinecolor": "#2a3f5f"
            },
            "type": "carpet"
           }
          ],
          "choropleth": [
           {
            "colorbar": {
             "outlinewidth": 0,
             "ticks": ""
            },
            "type": "choropleth"
           }
          ],
          "contour": [
           {
            "colorbar": {
             "outlinewidth": 0,
             "ticks": ""
            },
            "colorscale": [
             [
              0,
              "#0d0887"
             ],
             [
              0.1111111111111111,
              "#46039f"
             ],
             [
              0.2222222222222222,
              "#7201a8"
             ],
             [
              0.3333333333333333,
              "#9c179e"
             ],
             [
              0.4444444444444444,
              "#bd3786"
             ],
             [
              0.5555555555555556,
              "#d8576b"
             ],
             [
              0.6666666666666666,
              "#ed7953"
             ],
             [
              0.7777777777777778,
              "#fb9f3a"
             ],
             [
              0.8888888888888888,
              "#fdca26"
             ],
             [
              1,
              "#f0f921"
             ]
            ],
            "type": "contour"
           }
          ],
          "contourcarpet": [
           {
            "colorbar": {
             "outlinewidth": 0,
             "ticks": ""
            },
            "type": "contourcarpet"
           }
          ],
          "heatmap": [
           {
            "colorbar": {
             "outlinewidth": 0,
             "ticks": ""
            },
            "colorscale": [
             [
              0,
              "#0d0887"
             ],
             [
              0.1111111111111111,
              "#46039f"
             ],
             [
              0.2222222222222222,
              "#7201a8"
             ],
             [
              0.3333333333333333,
              "#9c179e"
             ],
             [
              0.4444444444444444,
              "#bd3786"
             ],
             [
              0.5555555555555556,
              "#d8576b"
             ],
             [
              0.6666666666666666,
              "#ed7953"
             ],
             [
              0.7777777777777778,
              "#fb9f3a"
             ],
             [
              0.8888888888888888,
              "#fdca26"
             ],
             [
              1,
              "#f0f921"
             ]
            ],
            "type": "heatmap"
           }
          ],
          "heatmapgl": [
           {
            "colorbar": {
             "outlinewidth": 0,
             "ticks": ""
            },
            "colorscale": [
             [
              0,
              "#0d0887"
             ],
             [
              0.1111111111111111,
              "#46039f"
             ],
             [
              0.2222222222222222,
              "#7201a8"
             ],
             [
              0.3333333333333333,
              "#9c179e"
             ],
             [
              0.4444444444444444,
              "#bd3786"
             ],
             [
              0.5555555555555556,
              "#d8576b"
             ],
             [
              0.6666666666666666,
              "#ed7953"
             ],
             [
              0.7777777777777778,
              "#fb9f3a"
             ],
             [
              0.8888888888888888,
              "#fdca26"
             ],
             [
              1,
              "#f0f921"
             ]
            ],
            "type": "heatmapgl"
           }
          ],
          "histogram": [
           {
            "marker": {
             "pattern": {
              "fillmode": "overlay",
              "size": 10,
              "solidity": 0.2
             }
            },
            "type": "histogram"
           }
          ],
          "histogram2d": [
           {
            "colorbar": {
             "outlinewidth": 0,
             "ticks": ""
            },
            "colorscale": [
             [
              0,
              "#0d0887"
             ],
             [
              0.1111111111111111,
              "#46039f"
             ],
             [
              0.2222222222222222,
              "#7201a8"
             ],
             [
              0.3333333333333333,
              "#9c179e"
             ],
             [
              0.4444444444444444,
              "#bd3786"
             ],
             [
              0.5555555555555556,
              "#d8576b"
             ],
             [
              0.6666666666666666,
              "#ed7953"
             ],
             [
              0.7777777777777778,
              "#fb9f3a"
             ],
             [
              0.8888888888888888,
              "#fdca26"
             ],
             [
              1,
              "#f0f921"
             ]
            ],
            "type": "histogram2d"
           }
          ],
          "histogram2dcontour": [
           {
            "colorbar": {
             "outlinewidth": 0,
             "ticks": ""
            },
            "colorscale": [
             [
              0,
              "#0d0887"
             ],
             [
              0.1111111111111111,
              "#46039f"
             ],
             [
              0.2222222222222222,
              "#7201a8"
             ],
             [
              0.3333333333333333,
              "#9c179e"
             ],
             [
              0.4444444444444444,
              "#bd3786"
             ],
             [
              0.5555555555555556,
              "#d8576b"
             ],
             [
              0.6666666666666666,
              "#ed7953"
             ],
             [
              0.7777777777777778,
              "#fb9f3a"
             ],
             [
              0.8888888888888888,
              "#fdca26"
             ],
             [
              1,
              "#f0f921"
             ]
            ],
            "type": "histogram2dcontour"
           }
          ],
          "mesh3d": [
           {
            "colorbar": {
             "outlinewidth": 0,
             "ticks": ""
            },
            "type": "mesh3d"
           }
          ],
          "parcoords": [
           {
            "line": {
             "colorbar": {
              "outlinewidth": 0,
              "ticks": ""
             }
            },
            "type": "parcoords"
           }
          ],
          "pie": [
           {
            "automargin": true,
            "type": "pie"
           }
          ],
          "scatter": [
           {
            "fillpattern": {
             "fillmode": "overlay",
             "size": 10,
             "solidity": 0.2
            },
            "type": "scatter"
           }
          ],
          "scatter3d": [
           {
            "line": {
             "colorbar": {
              "outlinewidth": 0,
              "ticks": ""
             }
            },
            "marker": {
             "colorbar": {
              "outlinewidth": 0,
              "ticks": ""
             }
            },
            "type": "scatter3d"
           }
          ],
          "scattercarpet": [
           {
            "marker": {
             "colorbar": {
              "outlinewidth": 0,
              "ticks": ""
             }
            },
            "type": "scattercarpet"
           }
          ],
          "scattergeo": [
           {
            "marker": {
             "colorbar": {
              "outlinewidth": 0,
              "ticks": ""
             }
            },
            "type": "scattergeo"
           }
          ],
          "scattergl": [
           {
            "marker": {
             "colorbar": {
              "outlinewidth": 0,
              "ticks": ""
             }
            },
            "type": "scattergl"
           }
          ],
          "scattermapbox": [
           {
            "marker": {
             "colorbar": {
              "outlinewidth": 0,
              "ticks": ""
             }
            },
            "type": "scattermapbox"
           }
          ],
          "scatterpolar": [
           {
            "marker": {
             "colorbar": {
              "outlinewidth": 0,
              "ticks": ""
             }
            },
            "type": "scatterpolar"
           }
          ],
          "scatterpolargl": [
           {
            "marker": {
             "colorbar": {
              "outlinewidth": 0,
              "ticks": ""
             }
            },
            "type": "scatterpolargl"
           }
          ],
          "scatterternary": [
           {
            "marker": {
             "colorbar": {
              "outlinewidth": 0,
              "ticks": ""
             }
            },
            "type": "scatterternary"
           }
          ],
          "surface": [
           {
            "colorbar": {
             "outlinewidth": 0,
             "ticks": ""
            },
            "colorscale": [
             [
              0,
              "#0d0887"
             ],
             [
              0.1111111111111111,
              "#46039f"
             ],
             [
              0.2222222222222222,
              "#7201a8"
             ],
             [
              0.3333333333333333,
              "#9c179e"
             ],
             [
              0.4444444444444444,
              "#bd3786"
             ],
             [
              0.5555555555555556,
              "#d8576b"
             ],
             [
              0.6666666666666666,
              "#ed7953"
             ],
             [
              0.7777777777777778,
              "#fb9f3a"
             ],
             [
              0.8888888888888888,
              "#fdca26"
             ],
             [
              1,
              "#f0f921"
             ]
            ],
            "type": "surface"
           }
          ],
          "table": [
           {
            "cells": {
             "fill": {
              "color": "#EBF0F8"
             },
             "line": {
              "color": "white"
             }
            },
            "header": {
             "fill": {
              "color": "#C8D4E3"
             },
             "line": {
              "color": "white"
             }
            },
            "type": "table"
           }
          ]
         },
         "layout": {
          "annotationdefaults": {
           "arrowcolor": "#2a3f5f",
           "arrowhead": 0,
           "arrowwidth": 1
          },
          "autotypenumbers": "strict",
          "coloraxis": {
           "colorbar": {
            "outlinewidth": 0,
            "ticks": ""
           }
          },
          "colorscale": {
           "diverging": [
            [
             0,
             "#8e0152"
            ],
            [
             0.1,
             "#c51b7d"
            ],
            [
             0.2,
             "#de77ae"
            ],
            [
             0.3,
             "#f1b6da"
            ],
            [
             0.4,
             "#fde0ef"
            ],
            [
             0.5,
             "#f7f7f7"
            ],
            [
             0.6,
             "#e6f5d0"
            ],
            [
             0.7,
             "#b8e186"
            ],
            [
             0.8,
             "#7fbc41"
            ],
            [
             0.9,
             "#4d9221"
            ],
            [
             1,
             "#276419"
            ]
           ],
           "sequential": [
            [
             0,
             "#0d0887"
            ],
            [
             0.1111111111111111,
             "#46039f"
            ],
            [
             0.2222222222222222,
             "#7201a8"
            ],
            [
             0.3333333333333333,
             "#9c179e"
            ],
            [
             0.4444444444444444,
             "#bd3786"
            ],
            [
             0.5555555555555556,
             "#d8576b"
            ],
            [
             0.6666666666666666,
             "#ed7953"
            ],
            [
             0.7777777777777778,
             "#fb9f3a"
            ],
            [
             0.8888888888888888,
             "#fdca26"
            ],
            [
             1,
             "#f0f921"
            ]
           ],
           "sequentialminus": [
            [
             0,
             "#0d0887"
            ],
            [
             0.1111111111111111,
             "#46039f"
            ],
            [
             0.2222222222222222,
             "#7201a8"
            ],
            [
             0.3333333333333333,
             "#9c179e"
            ],
            [
             0.4444444444444444,
             "#bd3786"
            ],
            [
             0.5555555555555556,
             "#d8576b"
            ],
            [
             0.6666666666666666,
             "#ed7953"
            ],
            [
             0.7777777777777778,
             "#fb9f3a"
            ],
            [
             0.8888888888888888,
             "#fdca26"
            ],
            [
             1,
             "#f0f921"
            ]
           ]
          },
          "colorway": [
           "#636efa",
           "#EF553B",
           "#00cc96",
           "#ab63fa",
           "#FFA15A",
           "#19d3f3",
           "#FF6692",
           "#B6E880",
           "#FF97FF",
           "#FECB52"
          ],
          "font": {
           "color": "#2a3f5f"
          },
          "geo": {
           "bgcolor": "white",
           "lakecolor": "white",
           "landcolor": "#E5ECF6",
           "showlakes": true,
           "showland": true,
           "subunitcolor": "white"
          },
          "hoverlabel": {
           "align": "left"
          },
          "hovermode": "closest",
          "mapbox": {
           "style": "light"
          },
          "paper_bgcolor": "white",
          "plot_bgcolor": "#E5ECF6",
          "polar": {
           "angularaxis": {
            "gridcolor": "white",
            "linecolor": "white",
            "ticks": ""
           },
           "bgcolor": "#E5ECF6",
           "radialaxis": {
            "gridcolor": "white",
            "linecolor": "white",
            "ticks": ""
           }
          },
          "scene": {
           "xaxis": {
            "backgroundcolor": "#E5ECF6",
            "gridcolor": "white",
            "gridwidth": 2,
            "linecolor": "white",
            "showbackground": true,
            "ticks": "",
            "zerolinecolor": "white"
           },
           "yaxis": {
            "backgroundcolor": "#E5ECF6",
            "gridcolor": "white",
            "gridwidth": 2,
            "linecolor": "white",
            "showbackground": true,
            "ticks": "",
            "zerolinecolor": "white"
           },
           "zaxis": {
            "backgroundcolor": "#E5ECF6",
            "gridcolor": "white",
            "gridwidth": 2,
            "linecolor": "white",
            "showbackground": true,
            "ticks": "",
            "zerolinecolor": "white"
           }
          },
          "shapedefaults": {
           "line": {
            "color": "#2a3f5f"
           }
          },
          "ternary": {
           "aaxis": {
            "gridcolor": "white",
            "linecolor": "white",
            "ticks": ""
           },
           "baxis": {
            "gridcolor": "white",
            "linecolor": "white",
            "ticks": ""
           },
           "bgcolor": "#E5ECF6",
           "caxis": {
            "gridcolor": "white",
            "linecolor": "white",
            "ticks": ""
           }
          },
          "title": {
           "x": 0.05
          },
          "xaxis": {
           "automargin": true,
           "gridcolor": "white",
           "linecolor": "white",
           "ticks": "",
           "title": {
            "standoff": 15
           },
           "zerolinecolor": "white",
           "zerolinewidth": 2
          },
          "yaxis": {
           "automargin": true,
           "gridcolor": "white",
           "linecolor": "white",
           "ticks": "",
           "title": {
            "standoff": 15
           },
           "zerolinecolor": "white",
           "zerolinewidth": 2
          }
         }
        },
        "xaxis": {
         "anchor": "y",
         "domain": [
          0,
          1
         ],
         "title": {
          "text": "year"
         }
        },
        "yaxis": {
         "anchor": "x",
         "domain": [
          0,
          1
         ],
         "title": {
          "text": "amount_euro"
         }
        }
       }
      }
     },
     "metadata": {},
     "output_type": "display_data"
    }
   ],
   "source": [
    "plot_subsidies_per_year(data).show()"
   ]
  },
  {
   "cell_type": "code",
   "execution_count": 209,
   "metadata": {},
   "outputs": [],
   "source": [
    "GERMAN_GDP_DATA_PATH = SRC / \"data\" / \"Macro_Data\" / \"germany-gdp-gross-domestic-product.csv\""
   ]
  },
  {
   "cell_type": "code",
   "execution_count": 230,
   "metadata": {},
   "outputs": [
    {
     "data": {
      "text/plain": [
       "Index(['date', ' GDP ( Billions of US $)', ' Per Capita (US $)',\n",
       "       ' Annual % Change'],\n",
       "      dtype='object')"
      ]
     },
     "execution_count": 230,
     "metadata": {},
     "output_type": "execute_result"
    }
   ],
   "source": [
    "gdp_data = pd.read_csv(GERMAN_GDP_DATA_PATH, skiprows=16)\n",
    "gdp_data.columns"
   ]
  },
  {
   "cell_type": "markdown",
   "metadata": {},
   "source": []
  },
  {
   "cell_type": "code",
   "execution_count": 264,
   "metadata": {},
   "outputs": [],
   "source": [
    "clean_gdp_data = pd.DataFrame()\n",
    "\n",
    "clean_gdp_data[\"year\"] = gdp_data[\"date\"].str.extract(\"(\\d{4})\").astype(\"int16\")\n",
    "clean_gdp_data[\"gdp\"] = gdp_data[\" GDP ( Billions of US $)\"]"
   ]
  },
  {
   "cell_type": "code",
   "execution_count": 266,
   "metadata": {},
   "outputs": [],
   "source": [
    "subsidies_by_year = data.groupby(\"year\")[\"amount_euro\"].sum()\n"
   ]
  },
  {
   "cell_type": "code",
   "execution_count": 267,
   "metadata": {},
   "outputs": [],
   "source": [
    "subsidy_by_year_df =  pd.DataFrame(subsidies_by_year).reset_index()"
   ]
  },
  {
   "cell_type": "code",
   "execution_count": 268,
   "metadata": {},
   "outputs": [
    {
     "data": {
      "text/plain": [
       "year             int16\n",
       "amount_euro    float32\n",
       "dtype: object"
      ]
     },
     "execution_count": 268,
     "metadata": {},
     "output_type": "execute_result"
    }
   ],
   "source": [
    "subsidy_by_year_df.dtypes"
   ]
  },
  {
   "cell_type": "code",
   "execution_count": 269,
   "metadata": {},
   "outputs": [
    {
     "data": {
      "text/plain": [
       "year      int16\n",
       "gdp     float64\n",
       "dtype: object"
      ]
     },
     "execution_count": 269,
     "metadata": {},
     "output_type": "execute_result"
    }
   ],
   "source": [
    "clean_gdp_data.dtypes"
   ]
  },
  {
   "cell_type": "code",
   "execution_count": 271,
   "metadata": {},
   "outputs": [],
   "source": [
    "subsidy_by_year_df = subsidy_by_year_df.merge(clean_gdp_data, on=\"year\", how=\"left\")\n",
    "subsidy_by_year_df[\"subsidy_per_gdp\"] = subsidy_by_year_df[\"amount_euro\"] / subsidy_by_year_df[\"gdp\"]"
   ]
  },
  {
   "cell_type": "code",
   "execution_count": 272,
   "metadata": {},
   "outputs": [
    {
     "data": {
      "text/html": [
       "<div>\n",
       "<style scoped>\n",
       "    .dataframe tbody tr th:only-of-type {\n",
       "        vertical-align: middle;\n",
       "    }\n",
       "\n",
       "    .dataframe tbody tr th {\n",
       "        vertical-align: top;\n",
       "    }\n",
       "\n",
       "    .dataframe thead th {\n",
       "        text-align: right;\n",
       "    }\n",
       "</style>\n",
       "<table border=\"1\" class=\"dataframe\">\n",
       "  <thead>\n",
       "    <tr style=\"text-align: right;\">\n",
       "      <th></th>\n",
       "      <th>year</th>\n",
       "      <th>amount_euro</th>\n",
       "      <th>gdp</th>\n",
       "    </tr>\n",
       "  </thead>\n",
       "  <tbody>\n",
       "    <tr>\n",
       "      <th>0</th>\n",
       "      <td>2014</td>\n",
       "      <td>6.823073e+09</td>\n",
       "      <td>3889.093051</td>\n",
       "    </tr>\n",
       "    <tr>\n",
       "      <th>1</th>\n",
       "      <td>2015</td>\n",
       "      <td>6.743068e+09</td>\n",
       "      <td>3357.585719</td>\n",
       "    </tr>\n",
       "    <tr>\n",
       "      <th>2</th>\n",
       "      <td>2016</td>\n",
       "      <td>6.389691e+09</td>\n",
       "      <td>3469.853464</td>\n",
       "    </tr>\n",
       "    <tr>\n",
       "      <th>3</th>\n",
       "      <td>2018</td>\n",
       "      <td>6.539055e+09</td>\n",
       "      <td>3974.443355</td>\n",
       "    </tr>\n",
       "    <tr>\n",
       "      <th>4</th>\n",
       "      <td>2019</td>\n",
       "      <td>6.686081e+09</td>\n",
       "      <td>3888.226036</td>\n",
       "    </tr>\n",
       "    <tr>\n",
       "      <th>5</th>\n",
       "      <td>2020</td>\n",
       "      <td>6.808507e+09</td>\n",
       "      <td>3889.668895</td>\n",
       "    </tr>\n",
       "    <tr>\n",
       "      <th>6</th>\n",
       "      <td>2021</td>\n",
       "      <td>6.775587e+09</td>\n",
       "      <td>4259.934912</td>\n",
       "    </tr>\n",
       "    <tr>\n",
       "      <th>7</th>\n",
       "      <td>2022</td>\n",
       "      <td>6.938402e+09</td>\n",
       "      <td>4072.191736</td>\n",
       "    </tr>\n",
       "  </tbody>\n",
       "</table>\n",
       "</div>"
      ],
      "text/plain": [
       "   year   amount_euro          gdp\n",
       "0  2014  6.823073e+09  3889.093051\n",
       "1  2015  6.743068e+09  3357.585719\n",
       "2  2016  6.389691e+09  3469.853464\n",
       "3  2018  6.539055e+09  3974.443355\n",
       "4  2019  6.686081e+09  3888.226036\n",
       "5  2020  6.808507e+09  3889.668895\n",
       "6  2021  6.775587e+09  4259.934912\n",
       "7  2022  6.938402e+09  4072.191736"
      ]
     },
     "execution_count": 272,
     "metadata": {},
     "output_type": "execute_result"
    }
   ],
   "source": [
    "subsidy_by_year_df"
   ]
  },
  {
   "cell_type": "code",
   "execution_count": 275,
   "metadata": {},
   "outputs": [],
   "source": [
    "#Make the plot\n",
    "def plot_subsidies_per_gdp_per_year(data, gdp_data):\n",
    "    subsidies_by_year = data.groupby(\"year\")[\"amount_euro\"].sum()\n",
    "    subsidy_by_year_df =  pd.DataFrame(subsidies_by_year).reset_index()\n",
    "    subsidy_by_year_df_merge = subsidy_by_year_df.merge(gdp_data, on=\"year\", how=\"left\")\n",
    "    subsidy_by_year_df_merge[\"subsidy_per_gdp\"] = subsidy_by_year_df_merge[\"amount_euro\"] / subsidy_by_year_df_merge[\"gdp\"]\n",
    "\n",
    "\n",
    "    fig = px.line(subsidy_by_year_df_merge, x=\"year\", y=\"subsidy_per_gdp\")\n",
    "    return fig\n"
   ]
  },
  {
   "cell_type": "code",
   "execution_count": 276,
   "metadata": {},
   "outputs": [
    {
     "data": {
      "application/vnd.plotly.v1+json": {
       "config": {
        "plotlyServerURL": "https://plot.ly"
       },
       "data": [
        {
         "hovertemplate": "year=%{x}<br>amount_euro=%{y}<extra></extra>",
         "legendgroup": "",
         "line": {
          "color": "#636efa",
          "dash": "solid"
         },
         "marker": {
          "symbol": "circle"
         },
         "mode": "lines",
         "name": "",
         "orientation": "v",
         "showlegend": false,
         "type": "scatter",
         "x": [
          2014,
          2015,
          2016,
          2018,
          2019,
          2020,
          2021,
          2022
         ],
         "xaxis": "x",
         "y": [
          6823073280,
          6743068160,
          6389691392,
          6539055104,
          6686080512,
          6808507392,
          6775587328,
          6938402304
         ],
         "yaxis": "y"
        }
       ],
       "layout": {
        "legend": {
         "tracegroupgap": 0
        },
        "margin": {
         "t": 60
        },
        "template": {
         "data": {
          "bar": [
           {
            "error_x": {
             "color": "#2a3f5f"
            },
            "error_y": {
             "color": "#2a3f5f"
            },
            "marker": {
             "line": {
              "color": "#E5ECF6",
              "width": 0.5
             },
             "pattern": {
              "fillmode": "overlay",
              "size": 10,
              "solidity": 0.2
             }
            },
            "type": "bar"
           }
          ],
          "barpolar": [
           {
            "marker": {
             "line": {
              "color": "#E5ECF6",
              "width": 0.5
             },
             "pattern": {
              "fillmode": "overlay",
              "size": 10,
              "solidity": 0.2
             }
            },
            "type": "barpolar"
           }
          ],
          "carpet": [
           {
            "aaxis": {
             "endlinecolor": "#2a3f5f",
             "gridcolor": "white",
             "linecolor": "white",
             "minorgridcolor": "white",
             "startlinecolor": "#2a3f5f"
            },
            "baxis": {
             "endlinecolor": "#2a3f5f",
             "gridcolor": "white",
             "linecolor": "white",
             "minorgridcolor": "white",
             "startlinecolor": "#2a3f5f"
            },
            "type": "carpet"
           }
          ],
          "choropleth": [
           {
            "colorbar": {
             "outlinewidth": 0,
             "ticks": ""
            },
            "type": "choropleth"
           }
          ],
          "contour": [
           {
            "colorbar": {
             "outlinewidth": 0,
             "ticks": ""
            },
            "colorscale": [
             [
              0,
              "#0d0887"
             ],
             [
              0.1111111111111111,
              "#46039f"
             ],
             [
              0.2222222222222222,
              "#7201a8"
             ],
             [
              0.3333333333333333,
              "#9c179e"
             ],
             [
              0.4444444444444444,
              "#bd3786"
             ],
             [
              0.5555555555555556,
              "#d8576b"
             ],
             [
              0.6666666666666666,
              "#ed7953"
             ],
             [
              0.7777777777777778,
              "#fb9f3a"
             ],
             [
              0.8888888888888888,
              "#fdca26"
             ],
             [
              1,
              "#f0f921"
             ]
            ],
            "type": "contour"
           }
          ],
          "contourcarpet": [
           {
            "colorbar": {
             "outlinewidth": 0,
             "ticks": ""
            },
            "type": "contourcarpet"
           }
          ],
          "heatmap": [
           {
            "colorbar": {
             "outlinewidth": 0,
             "ticks": ""
            },
            "colorscale": [
             [
              0,
              "#0d0887"
             ],
             [
              0.1111111111111111,
              "#46039f"
             ],
             [
              0.2222222222222222,
              "#7201a8"
             ],
             [
              0.3333333333333333,
              "#9c179e"
             ],
             [
              0.4444444444444444,
              "#bd3786"
             ],
             [
              0.5555555555555556,
              "#d8576b"
             ],
             [
              0.6666666666666666,
              "#ed7953"
             ],
             [
              0.7777777777777778,
              "#fb9f3a"
             ],
             [
              0.8888888888888888,
              "#fdca26"
             ],
             [
              1,
              "#f0f921"
             ]
            ],
            "type": "heatmap"
           }
          ],
          "heatmapgl": [
           {
            "colorbar": {
             "outlinewidth": 0,
             "ticks": ""
            },
            "colorscale": [
             [
              0,
              "#0d0887"
             ],
             [
              0.1111111111111111,
              "#46039f"
             ],
             [
              0.2222222222222222,
              "#7201a8"
             ],
             [
              0.3333333333333333,
              "#9c179e"
             ],
             [
              0.4444444444444444,
              "#bd3786"
             ],
             [
              0.5555555555555556,
              "#d8576b"
             ],
             [
              0.6666666666666666,
              "#ed7953"
             ],
             [
              0.7777777777777778,
              "#fb9f3a"
             ],
             [
              0.8888888888888888,
              "#fdca26"
             ],
             [
              1,
              "#f0f921"
             ]
            ],
            "type": "heatmapgl"
           }
          ],
          "histogram": [
           {
            "marker": {
             "pattern": {
              "fillmode": "overlay",
              "size": 10,
              "solidity": 0.2
             }
            },
            "type": "histogram"
           }
          ],
          "histogram2d": [
           {
            "colorbar": {
             "outlinewidth": 0,
             "ticks": ""
            },
            "colorscale": [
             [
              0,
              "#0d0887"
             ],
             [
              0.1111111111111111,
              "#46039f"
             ],
             [
              0.2222222222222222,
              "#7201a8"
             ],
             [
              0.3333333333333333,
              "#9c179e"
             ],
             [
              0.4444444444444444,
              "#bd3786"
             ],
             [
              0.5555555555555556,
              "#d8576b"
             ],
             [
              0.6666666666666666,
              "#ed7953"
             ],
             [
              0.7777777777777778,
              "#fb9f3a"
             ],
             [
              0.8888888888888888,
              "#fdca26"
             ],
             [
              1,
              "#f0f921"
             ]
            ],
            "type": "histogram2d"
           }
          ],
          "histogram2dcontour": [
           {
            "colorbar": {
             "outlinewidth": 0,
             "ticks": ""
            },
            "colorscale": [
             [
              0,
              "#0d0887"
             ],
             [
              0.1111111111111111,
              "#46039f"
             ],
             [
              0.2222222222222222,
              "#7201a8"
             ],
             [
              0.3333333333333333,
              "#9c179e"
             ],
             [
              0.4444444444444444,
              "#bd3786"
             ],
             [
              0.5555555555555556,
              "#d8576b"
             ],
             [
              0.6666666666666666,
              "#ed7953"
             ],
             [
              0.7777777777777778,
              "#fb9f3a"
             ],
             [
              0.8888888888888888,
              "#fdca26"
             ],
             [
              1,
              "#f0f921"
             ]
            ],
            "type": "histogram2dcontour"
           }
          ],
          "mesh3d": [
           {
            "colorbar": {
             "outlinewidth": 0,
             "ticks": ""
            },
            "type": "mesh3d"
           }
          ],
          "parcoords": [
           {
            "line": {
             "colorbar": {
              "outlinewidth": 0,
              "ticks": ""
             }
            },
            "type": "parcoords"
           }
          ],
          "pie": [
           {
            "automargin": true,
            "type": "pie"
           }
          ],
          "scatter": [
           {
            "fillpattern": {
             "fillmode": "overlay",
             "size": 10,
             "solidity": 0.2
            },
            "type": "scatter"
           }
          ],
          "scatter3d": [
           {
            "line": {
             "colorbar": {
              "outlinewidth": 0,
              "ticks": ""
             }
            },
            "marker": {
             "colorbar": {
              "outlinewidth": 0,
              "ticks": ""
             }
            },
            "type": "scatter3d"
           }
          ],
          "scattercarpet": [
           {
            "marker": {
             "colorbar": {
              "outlinewidth": 0,
              "ticks": ""
             }
            },
            "type": "scattercarpet"
           }
          ],
          "scattergeo": [
           {
            "marker": {
             "colorbar": {
              "outlinewidth": 0,
              "ticks": ""
             }
            },
            "type": "scattergeo"
           }
          ],
          "scattergl": [
           {
            "marker": {
             "colorbar": {
              "outlinewidth": 0,
              "ticks": ""
             }
            },
            "type": "scattergl"
           }
          ],
          "scattermapbox": [
           {
            "marker": {
             "colorbar": {
              "outlinewidth": 0,
              "ticks": ""
             }
            },
            "type": "scattermapbox"
           }
          ],
          "scatterpolar": [
           {
            "marker": {
             "colorbar": {
              "outlinewidth": 0,
              "ticks": ""
             }
            },
            "type": "scatterpolar"
           }
          ],
          "scatterpolargl": [
           {
            "marker": {
             "colorbar": {
              "outlinewidth": 0,
              "ticks": ""
             }
            },
            "type": "scatterpolargl"
           }
          ],
          "scatterternary": [
           {
            "marker": {
             "colorbar": {
              "outlinewidth": 0,
              "ticks": ""
             }
            },
            "type": "scatterternary"
           }
          ],
          "surface": [
           {
            "colorbar": {
             "outlinewidth": 0,
             "ticks": ""
            },
            "colorscale": [
             [
              0,
              "#0d0887"
             ],
             [
              0.1111111111111111,
              "#46039f"
             ],
             [
              0.2222222222222222,
              "#7201a8"
             ],
             [
              0.3333333333333333,
              "#9c179e"
             ],
             [
              0.4444444444444444,
              "#bd3786"
             ],
             [
              0.5555555555555556,
              "#d8576b"
             ],
             [
              0.6666666666666666,
              "#ed7953"
             ],
             [
              0.7777777777777778,
              "#fb9f3a"
             ],
             [
              0.8888888888888888,
              "#fdca26"
             ],
             [
              1,
              "#f0f921"
             ]
            ],
            "type": "surface"
           }
          ],
          "table": [
           {
            "cells": {
             "fill": {
              "color": "#EBF0F8"
             },
             "line": {
              "color": "white"
             }
            },
            "header": {
             "fill": {
              "color": "#C8D4E3"
             },
             "line": {
              "color": "white"
             }
            },
            "type": "table"
           }
          ]
         },
         "layout": {
          "annotationdefaults": {
           "arrowcolor": "#2a3f5f",
           "arrowhead": 0,
           "arrowwidth": 1
          },
          "autotypenumbers": "strict",
          "coloraxis": {
           "colorbar": {
            "outlinewidth": 0,
            "ticks": ""
           }
          },
          "colorscale": {
           "diverging": [
            [
             0,
             "#8e0152"
            ],
            [
             0.1,
             "#c51b7d"
            ],
            [
             0.2,
             "#de77ae"
            ],
            [
             0.3,
             "#f1b6da"
            ],
            [
             0.4,
             "#fde0ef"
            ],
            [
             0.5,
             "#f7f7f7"
            ],
            [
             0.6,
             "#e6f5d0"
            ],
            [
             0.7,
             "#b8e186"
            ],
            [
             0.8,
             "#7fbc41"
            ],
            [
             0.9,
             "#4d9221"
            ],
            [
             1,
             "#276419"
            ]
           ],
           "sequential": [
            [
             0,
             "#0d0887"
            ],
            [
             0.1111111111111111,
             "#46039f"
            ],
            [
             0.2222222222222222,
             "#7201a8"
            ],
            [
             0.3333333333333333,
             "#9c179e"
            ],
            [
             0.4444444444444444,
             "#bd3786"
            ],
            [
             0.5555555555555556,
             "#d8576b"
            ],
            [
             0.6666666666666666,
             "#ed7953"
            ],
            [
             0.7777777777777778,
             "#fb9f3a"
            ],
            [
             0.8888888888888888,
             "#fdca26"
            ],
            [
             1,
             "#f0f921"
            ]
           ],
           "sequentialminus": [
            [
             0,
             "#0d0887"
            ],
            [
             0.1111111111111111,
             "#46039f"
            ],
            [
             0.2222222222222222,
             "#7201a8"
            ],
            [
             0.3333333333333333,
             "#9c179e"
            ],
            [
             0.4444444444444444,
             "#bd3786"
            ],
            [
             0.5555555555555556,
             "#d8576b"
            ],
            [
             0.6666666666666666,
             "#ed7953"
            ],
            [
             0.7777777777777778,
             "#fb9f3a"
            ],
            [
             0.8888888888888888,
             "#fdca26"
            ],
            [
             1,
             "#f0f921"
            ]
           ]
          },
          "colorway": [
           "#636efa",
           "#EF553B",
           "#00cc96",
           "#ab63fa",
           "#FFA15A",
           "#19d3f3",
           "#FF6692",
           "#B6E880",
           "#FF97FF",
           "#FECB52"
          ],
          "font": {
           "color": "#2a3f5f"
          },
          "geo": {
           "bgcolor": "white",
           "lakecolor": "white",
           "landcolor": "#E5ECF6",
           "showlakes": true,
           "showland": true,
           "subunitcolor": "white"
          },
          "hoverlabel": {
           "align": "left"
          },
          "hovermode": "closest",
          "mapbox": {
           "style": "light"
          },
          "paper_bgcolor": "white",
          "plot_bgcolor": "#E5ECF6",
          "polar": {
           "angularaxis": {
            "gridcolor": "white",
            "linecolor": "white",
            "ticks": ""
           },
           "bgcolor": "#E5ECF6",
           "radialaxis": {
            "gridcolor": "white",
            "linecolor": "white",
            "ticks": ""
           }
          },
          "scene": {
           "xaxis": {
            "backgroundcolor": "#E5ECF6",
            "gridcolor": "white",
            "gridwidth": 2,
            "linecolor": "white",
            "showbackground": true,
            "ticks": "",
            "zerolinecolor": "white"
           },
           "yaxis": {
            "backgroundcolor": "#E5ECF6",
            "gridcolor": "white",
            "gridwidth": 2,
            "linecolor": "white",
            "showbackground": true,
            "ticks": "",
            "zerolinecolor": "white"
           },
           "zaxis": {
            "backgroundcolor": "#E5ECF6",
            "gridcolor": "white",
            "gridwidth": 2,
            "linecolor": "white",
            "showbackground": true,
            "ticks": "",
            "zerolinecolor": "white"
           }
          },
          "shapedefaults": {
           "line": {
            "color": "#2a3f5f"
           }
          },
          "ternary": {
           "aaxis": {
            "gridcolor": "white",
            "linecolor": "white",
            "ticks": ""
           },
           "baxis": {
            "gridcolor": "white",
            "linecolor": "white",
            "ticks": ""
           },
           "bgcolor": "#E5ECF6",
           "caxis": {
            "gridcolor": "white",
            "linecolor": "white",
            "ticks": ""
           }
          },
          "title": {
           "x": 0.05
          },
          "xaxis": {
           "automargin": true,
           "gridcolor": "white",
           "linecolor": "white",
           "ticks": "",
           "title": {
            "standoff": 15
           },
           "zerolinecolor": "white",
           "zerolinewidth": 2
          },
          "yaxis": {
           "automargin": true,
           "gridcolor": "white",
           "linecolor": "white",
           "ticks": "",
           "title": {
            "standoff": 15
           },
           "zerolinecolor": "white",
           "zerolinewidth": 2
          }
         }
        },
        "xaxis": {
         "anchor": "y",
         "domain": [
          0,
          1
         ],
         "title": {
          "text": "year"
         }
        },
        "yaxis": {
         "anchor": "x",
         "domain": [
          0,
          1
         ],
         "title": {
          "text": "amount_euro"
         }
        }
       }
      }
     },
     "metadata": {},
     "output_type": "display_data"
    }
   ],
   "source": [
    "plot_subsidies_per_gdp_per_year(data, clean_gdp_data).show()"
   ]
  }
 ],
 "metadata": {
  "kernelspec": {
   "display_name": "ge_effects_of_subsidies",
   "language": "python",
   "name": "python3"
  },
  "language_info": {
   "codemirror_mode": {
    "name": "ipython",
    "version": 3
   },
   "file_extension": ".py",
   "mimetype": "text/x-python",
   "name": "python",
   "nbconvert_exporter": "python",
   "pygments_lexer": "ipython3",
   "version": "3.11.7"
  }
 },
 "nbformat": 4,
 "nbformat_minor": 2
}
